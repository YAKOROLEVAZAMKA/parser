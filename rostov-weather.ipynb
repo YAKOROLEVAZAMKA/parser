{
 "cells": [
  {
   "cell_type": "code",
   "execution_count": 1,
   "metadata": {},
   "outputs": [],
   "source": [
    "from selenium import webdriver\n",
    "import numpy as np\n",
    "import pandas as pd"
   ]
  },
  {
   "cell_type": "code",
   "execution_count": 2,
   "metadata": {},
   "outputs": [],
   "source": [
    "from datetime import datetime, timedelta"
   ]
  },
  {
   "cell_type": "code",
   "execution_count": 3,
   "metadata": {},
   "outputs": [],
   "source": [
    "import time"
   ]
  },
  {
   "cell_type": "code",
   "execution_count": 4,
   "metadata": {},
   "outputs": [],
   "source": [
    "import os"
   ]
  },
  {
   "cell_type": "code",
   "execution_count": 9,
   "metadata": {},
   "outputs": [],
   "source": [
    "#browser = webdriver.Chrome('C:/chromedriver/chromedriver.exe')"
   ]
  },
  {
   "cell_type": "code",
   "execution_count": 5,
   "metadata": {},
   "outputs": [],
   "source": [
    "try:\n",
    "    os.mkdir('reports')\n",
    "except:\n",
    "    pass"
   ]
  },
  {
   "cell_type": "code",
   "execution_count": 17,
   "metadata": {},
   "outputs": [],
   "source": [
    "link = \"https://rp5.ru/Погода_в_Ростове-на-Дону\"\n",
    "\n",
    "browser = webdriver.Chrome('C:/chromedriver/chromedriver.exe')\n",
    "browser.get(link)"
   ]
  },
  {
   "cell_type": "code",
   "execution_count": 18,
   "metadata": {},
   "outputs": [
    {
     "data": {
      "text/plain": [
       "'\\ndf = pd.DataFrame({\\n    \"Показатели\": [\"Температура максимальная, по Цельсию\",\\n                   \"Температура минимальная, по Цельсию\",\\n                   \"Скорость ветра, м/с\"],\\n    \"Данные\": [max_temp,\\n               min_temp,\\n               wind_speed]\\n})\\ndf.to_excel(\"Прогноз.xlsx\")\\n'"
      ]
     },
     "execution_count": 18,
     "metadata": {},
     "output_type": "execute_result"
    }
   ],
   "source": [
    "temperature_elements = browser.find_elements_by_xpath(\"//div[@class='t_0']//b\")[0:4]\n",
    "\n",
    "temperature = []\n",
    "for temp in temperature_elements:\n",
    "    temperature.append(float(temp.text))\n",
    "\n",
    "    \n",
    "wind1 = browser.find_element_by_css_selector(\"#forecastTable > tbody > tr:nth-child(7) > td:nth-child(2) > div.wv_0\")\n",
    "wind2 = browser.find_element_by_css_selector(\"#forecastTable > tbody > tr:nth-child(7) > td:nth-child(3) > div.wv_0\")\n",
    "wind3 = browser.find_element_by_css_selector(\"#forecastTable > tbody > tr:nth-child(7) > td:nth-child(4) > div.wv_0\")\n",
    "wind4 = browser.find_element_by_css_selector(\"#forecastTable > tbody > tr:nth-child(7) > td:nth-child(5) > div.wv_0\")\n",
    "\n",
    "\n",
    "wind = [float(wind1.text), float(wind2.text), float(wind3.text), float(wind4.text)]    \n",
    "wind_speed = sum(wind) / len(wind)\n",
    "\n",
    "min_temp = min(temperature)\n",
    "max_temp = max(temperature)\n",
    "\n",
    "time.sleep(5)\n",
    "\n",
    "\"\"\"\n",
    "df = pd.DataFrame({\n",
    "    \"Показатели\": [\"Температура максимальная, по Цельсию\",\n",
    "                   \"Температура минимальная, по Цельсию\",\n",
    "                   \"Скорость ветра, м/с\"],\n",
    "    \"Данные\": [max_temp,\n",
    "               min_temp,\n",
    "               wind_speed]\n",
    "})\n",
    "df.to_excel(\"Прогноз.xlsx\")\n",
    "\"\"\""
   ]
  },
  {
   "cell_type": "code",
   "execution_count": 19,
   "metadata": {},
   "outputs": [
    {
     "data": {
      "text/plain": [
       "4.75"
      ]
     },
     "execution_count": 19,
     "metadata": {},
     "output_type": "execute_result"
    }
   ],
   "source": [
    "wind_speed"
   ]
  },
  {
   "cell_type": "code",
   "execution_count": 16,
   "metadata": {},
   "outputs": [
    {
     "data": {
      "text/plain": [
       "4.0"
      ]
     },
     "execution_count": 16,
     "metadata": {},
     "output_type": "execute_result"
    }
   ],
   "source": [
    "float(wind1.text)"
   ]
  },
  {
   "cell_type": "code",
   "execution_count": 20,
   "metadata": {},
   "outputs": [],
   "source": [
    "#browser.close()"
   ]
  },
  {
   "cell_type": "code",
   "execution_count": 20,
   "metadata": {},
   "outputs": [
    {
     "data": {
      "text/plain": [
       "[19.0, 25.0, 31.0, 23.0]"
      ]
     },
     "execution_count": 20,
     "metadata": {},
     "output_type": "execute_result"
    }
   ],
   "source": [
    "temperature"
   ]
  },
  {
   "cell_type": "code",
   "execution_count": 21,
   "metadata": {},
   "outputs": [
    {
     "data": {
      "text/plain": [
       "19.0"
      ]
     },
     "execution_count": 21,
     "metadata": {},
     "output_type": "execute_result"
    }
   ],
   "source": [
    "min_temp"
   ]
  },
  {
   "cell_type": "code",
   "execution_count": 22,
   "metadata": {},
   "outputs": [
    {
     "data": {
      "text/plain": [
       "31.0"
      ]
     },
     "execution_count": 22,
     "metadata": {},
     "output_type": "execute_result"
    }
   ],
   "source": [
    "max_temp"
   ]
  },
  {
   "cell_type": "code",
   "execution_count": 68,
   "metadata": {},
   "outputs": [],
   "source": [
    "#wind_speed"
   ]
  },
  {
   "cell_type": "code",
   "execution_count": null,
   "metadata": {},
   "outputs": [],
   "source": [
    "datetime.now().date()"
   ]
  },
  {
   "cell_type": "code",
   "execution_count": 19,
   "metadata": {},
   "outputs": [
    {
     "data": {
      "text/plain": [
       "datetime.date(2020, 8, 31)"
      ]
     },
     "execution_count": 19,
     "metadata": {},
     "output_type": "execute_result"
    }
   ],
   "source": [
    "datetime.now().date() + timedelta(days=1)"
   ]
  },
  {
   "cell_type": "code",
   "execution_count": 20,
   "metadata": {},
   "outputs": [],
   "source": [
    "current_date = datetime.now().date() + timedelta(days=1)\n",
    "\n",
    "df = pd.DataFrame({\n",
    "    \"Показатели\": [\"Температура максимальная, по Цельсию\",\n",
    "                   \"Температура минимальная, по Цельсию\",\n",
    "                   \"Скорость ветра, м/с\"],\n",
    "    \"Прогноз\": [max_temp,\n",
    "               min_temp,\n",
    "               wind_speed]\n",
    "})\n",
    "df.to_excel(f\"reports/{current_date}.xlsx\", index=False)"
   ]
  },
  {
   "cell_type": "code",
   "execution_count": 4,
   "metadata": {},
   "outputs": [],
   "source": [
    "link = \"https://rp5.ru/Архив_погоды_в_Ростове-на-Дону\"\n",
    "browser = webdriver.Chrome('C:/chromedriver/chromedriver.exe')\n",
    "browser.get(link)"
   ]
  },
  {
   "cell_type": "code",
   "execution_count": null,
   "metadata": {},
   "outputs": [],
   "source": [
    "#archiveTable > tbody > tr:nth-child(2) > td:nth-child(3) > div.t_0.dfs\n",
    "#archiveTable > tbody > tr:nth-child(3) > td:nth-child(2) > div.t_0.dfs\n",
    "#archiveTable > tbody > tr:nth-child(4) > td:nth-child(2) > div.t_0.dfs\n",
    "#archiveTable > tbody > tr:nth-child(5) > td:nth-child(2) > div.t_0.dfs\n",
    "#archiveTable > tbody > tr:nth-child(6) > td:nth-child(2) > div.t_0.dfs"
   ]
  },
  {
   "cell_type": "code",
   "execution_count": 5,
   "metadata": {},
   "outputs": [],
   "source": [
    "#link = \"https://rp5.ru/Архив_погоды_в_Ростове-на-Дону\"\n",
    "\n",
    "#browser = webdriver.Chrome('C:/chromedriver/chromedriver.exe')\n",
    "#browser.get(link)\n",
    "\n",
    "temp21 = browser.find_element_by_css_selector(\"#archiveTable > tbody > tr:nth-child(2) > td:nth-child(3) > div.t_0.dfs\")\n",
    "temp21 = float(temp21.text)\n",
    "\n",
    "temp18 = browser.find_element_by_css_selector(\"#archiveTable > tbody > tr:nth-child(3) > td:nth-child(2) > div.t_0.dfs\")\n",
    "temp18 = float(temp18.text)\n",
    "\n",
    "temp15 = browser.find_element_by_css_selector(\"#archiveTable > tbody > tr:nth-child(4) > td:nth-child(2) > div.t_0.dfs\")\n",
    "temp15 = float(temp15.text)\n",
    "\n",
    "temp12 = browser.find_element_by_css_selector(\"#archiveTable > tbody > tr:nth-child(5) > td:nth-child(2) > div.t_0.dfs\")\n",
    "temp12 = float(temp12.text)\n",
    "\n",
    "temp09 = browser.find_element_by_css_selector(\"#archiveTable > tbody > tr:nth-child(6) > td:nth-child(2) > div.t_0.dfs\")\n",
    "temp09 = float(temp09.text)\n",
    "\n",
    "min_temp_arch = min([temp21, temp18, temp15, temp12, temp09])\n",
    "max_temp_arch = max([temp21, temp18, temp15, temp12, temp09])"
   ]
  },
  {
   "cell_type": "code",
   "execution_count": null,
   "metadata": {},
   "outputs": [],
   "source": [
    "#archiveTable > tbody > tr:nth-child(2) > td:nth-child(9)\n",
    "#archiveTable > tbody > tr:nth-child(3) > td:nth-child(8)\n",
    "#archiveTable > tbody > tr:nth-child(4) > td:nth-child(8)\n",
    "#archiveTable > tbody > tr:nth-child(5) > td:nth-child(8)\n",
    "#archiveTable > tbody > tr:nth-child(6) > td:nth-child(8)"
   ]
  },
  {
   "cell_type": "code",
   "execution_count": 14,
   "metadata": {},
   "outputs": [],
   "source": [
    "wind21 = browser.find_element_by_css_selector(\"#archiveTable > tbody > tr:nth-child(2) > td:nth-child(9)\")\n",
    "wind21 = str(wind21.text).replace(' ', '')\n",
    "\n",
    "wind18 = browser.find_element_by_css_selector(\"#archiveTable > tbody > tr:nth-child(3) > td:nth-child(8)\")\n",
    "wind18 = str(wind18.text).replace(' ', '')\n",
    "\n",
    "wind15 = browser.find_element_by_css_selector(\"#archiveTable > tbody > tr:nth-child(4) > td:nth-child(8)\")\n",
    "wind15 = str(wind15.text).replace(' ', '')\n",
    "\n",
    "wind12 = browser.find_element_by_css_selector(\"#archiveTable > tbody > tr:nth-child(5) > td:nth-child(8)\")\n",
    "wind12 = str(wind12.text).replace(' ', '')\n",
    "\n",
    "wind09 = browser.find_element_by_css_selector(\"#archiveTable > tbody > tr:nth-child(6) > td:nth-child(8)\")\n",
    "wind09 = str(wind09.text).replace(' ', '')\n",
    "\n",
    "wind_list = [wind21, wind18, wind15, wind12, wind09]\n",
    "wind_list = [x for x in wind_list if x]\n",
    "\n",
    "if len(wind_list) == 0:\n",
    "    wind = 0\n",
    "else:\n",
    "    wind_list = [int(x) for x in wind_list]\n",
    "    wind = sum(wind_list) / len(wind_list)"
   ]
  },
  {
   "cell_type": "code",
   "execution_count": 15,
   "metadata": {},
   "outputs": [
    {
     "data": {
      "text/plain": [
       "0"
      ]
     },
     "execution_count": 15,
     "metadata": {},
     "output_type": "execute_result"
    }
   ],
   "source": [
    "wind"
   ]
  },
  {
   "cell_type": "code",
   "execution_count": 122,
   "metadata": {},
   "outputs": [],
   "source": [
    "today_date = datetime.now().date()\n",
    "\n",
    "try:\n",
    "    df_temp = pd.read_excel(f'reports/{today_date}.xlsx')\n",
    "    \n",
    "    df = pd.DataFrame({\n",
    "        \"Показатели\": [\"Температура максимальная, по Цельсию\",\n",
    "                       \"Температура минимальная, по Цельсию\",\n",
    "                       \"Скорость ветра, м/с\"],\n",
    "        \"Факт\": [max_temp_arch,\n",
    "                   min_temp_arch,\n",
    "                   'Нет данных']\n",
    "    })\n",
    "    \n",
    "    df_temp.merge(df).to_excel(f\"reports/{today_date}.xlsx\", index=False)\n",
    "    \n",
    "except:    \n",
    "    df = pd.DataFrame({\n",
    "        \"Показатели\": [\"Температура максимальная, по Цельсию\",\n",
    "                       \"Температура минимальная, по Цельсию\",\n",
    "                       \"Скорость ветра, м/с\"],\n",
    "        \"Факт\": [max_temp_arch,\n",
    "                   min_temp_arch,\n",
    "                   'Нет данных']\n",
    "    })\n",
    "    df.to_excel(f\"reports/{archive_date}.xlsx\", index=False)\n"
   ]
  },
  {
   "cell_type": "code",
   "execution_count": 123,
   "metadata": {},
   "outputs": [],
   "source": [
    "#df_temp.merge(df)"
   ]
  },
  {
   "cell_type": "code",
   "execution_count": 124,
   "metadata": {},
   "outputs": [],
   "source": [
    "#temp_df = pd.read_excel(f'reports/{archive_date}.xlsx')"
   ]
  },
  {
   "cell_type": "code",
   "execution_count": 125,
   "metadata": {},
   "outputs": [],
   "source": [
    "#temp_df"
   ]
  },
  {
   "cell_type": "code",
   "execution_count": 126,
   "metadata": {},
   "outputs": [],
   "source": [
    "#df"
   ]
  },
  {
   "cell_type": "code",
   "execution_count": 127,
   "metadata": {},
   "outputs": [],
   "source": [
    "#temp_df.merge(df)"
   ]
  },
  {
   "cell_type": "code",
   "execution_count": 6,
   "metadata": {},
   "outputs": [],
   "source": [
    "browser.close()"
   ]
  },
  {
   "cell_type": "markdown",
   "metadata": {},
   "source": [
    "# Clean"
   ]
  },
  {
   "cell_type": "code",
   "execution_count": 1,
   "metadata": {},
   "outputs": [],
   "source": [
    "from selenium import webdriver\n",
    "import numpy as np\n",
    "import pandas as pd\n",
    "\n",
    "from datetime import datetime, timedelta\n",
    "import time\n",
    "import os"
   ]
  },
  {
   "cell_type": "code",
   "execution_count": 25,
   "metadata": {},
   "outputs": [],
   "source": [
    "def parse():\n",
    "    \n",
    "    # создаем папку reports если ее не существует (в директории запуска скрипта)\n",
    "    try:\n",
    "        os.mkdir('reports')\n",
    "    except:\n",
    "        pass\n",
    "    \n",
    "    # парсим текущий день\n",
    "    link = \"https://rp5.ru/Погода_в_Ростове-на-Дону\"\n",
    "    \n",
    "    try:\n",
    "        # я запускаю хром немного по-другому, сюда вставишь свои опции запуска\n",
    "        browser = webdriver.Chrome('C:/chromedriver/chromedriver.exe')\n",
    "        browser.get(link)\n",
    "\n",
    "        # получаем температуру завтрашнего дня - прогноз\n",
    "        temperature_elements = browser.find_elements_by_xpath(\"//div[@class='t_0']//b\")[0:4]\n",
    "\n",
    "        temperature = []\n",
    "        for temp in temperature_elements:\n",
    "            temperature.append(float(temp.text))\n",
    "\n",
    "        min_temp = min(temperature)\n",
    "        max_temp = max(temperature)\n",
    "\n",
    "        # получаем средний показатель ветра\n",
    "        wind1 = browser.find_element_by_css_selector(\"#forecastTable > tbody > tr:nth-child(7) > td:nth-child(2) > div.wv_0\")\n",
    "        wind2 = browser.find_element_by_css_selector(\"#forecastTable > tbody > tr:nth-child(7) > td:nth-child(3) > div.wv_0\")\n",
    "        wind3 = browser.find_element_by_css_selector(\"#forecastTable > tbody > tr:nth-child(7) > td:nth-child(4) > div.wv_0\")\n",
    "        wind4 = browser.find_element_by_css_selector(\"#forecastTable > tbody > tr:nth-child(7) > td:nth-child(5) > div.wv_0\")\n",
    "\n",
    "\n",
    "        wind = [float(wind1.text), float(wind2.text), float(wind3.text), float(wind4.text)]    \n",
    "        wind_speed = sum(wind) / len(wind)\n",
    "\n",
    "        # ждем 5 секунд на случай если что-то не успело прогрузиться\n",
    "        time.sleep(5)\n",
    "    \n",
    "    finally:\n",
    "        browser.close()\n",
    "        browser.quit()\n",
    "    \n",
    "    # получаем текущую дату\n",
    "    tomorrow_date = datetime.now().date() + timedelta(days=1)\n",
    "    \n",
    "    # созраняем отчет под завтрашней датой\n",
    "    df = pd.DataFrame({\n",
    "        \"Показатели\": [\"Температура максимальная, по Цельсию\",\n",
    "                       \"Температура минимальная, по Цельсию\",\n",
    "                       \"Скорость ветра, м/с\"],\n",
    "        \"Прогноз\": [max_temp,\n",
    "                   min_temp,\n",
    "                   wind_speed]\n",
    "    })\n",
    "    df.to_excel(f\"reports/{tomorrow_date}.xlsx\", index=False)\n",
    "    \n",
    "    \n",
    "    # парсим в архиве фактическую температуру за вчерашний день \n",
    "    link = \"https://rp5.ru/Архив_погоды_в_Ростове-на-Дону\"\n",
    "\n",
    "    try:\n",
    "        # я запускаю хром немного по-другому, сюда вставишь свои опции запуска\n",
    "        browser = webdriver.Chrome('C:/chromedriver/chromedriver.exe')\n",
    "        browser.get(link)\n",
    "\n",
    "        # получаем температуру\n",
    "        temp21 = browser.find_element_by_css_selector(\"#archiveTable > tbody > tr:nth-child(2) > td:nth-child(3) > div.t_0.dfs\")\n",
    "        temp21 = float(temp21.text)\n",
    "\n",
    "        temp18 = browser.find_element_by_css_selector(\"#archiveTable > tbody > tr:nth-child(3) > td:nth-child(2) > div.t_0.dfs\")\n",
    "        temp18 = float(temp18.text)\n",
    "\n",
    "        temp15 = browser.find_element_by_css_selector(\"#archiveTable > tbody > tr:nth-child(4) > td:nth-child(2) > div.t_0.dfs\")\n",
    "        temp15 = float(temp15.text)\n",
    "\n",
    "        temp12 = browser.find_element_by_css_selector(\"#archiveTable > tbody > tr:nth-child(5) > td:nth-child(2) > div.t_0.dfs\")\n",
    "        temp12 = float(temp12.text)\n",
    "\n",
    "        temp09 = browser.find_element_by_css_selector(\"#archiveTable > tbody > tr:nth-child(6) > td:nth-child(2) > div.t_0.dfs\")\n",
    "        temp09 = float(temp09.text)\n",
    "        \n",
    "        temp06 = browser.find_element_by_css_selector(\"#archiveTable > tbody > tr:nth-child(7) > td:nth-child(2) > div.t_0.dfs\")\n",
    "        temp06 = float(temp06.text)\n",
    "\n",
    "        temp03 = browser.find_element_by_css_selector(\"#archiveTable > tbody > tr:nth-child(8) > td:nth-child(2) > div.t_0.dfs\")\n",
    "        temp03 = float(temp03.text)\n",
    "\n",
    "        temp00 = browser.find_element_by_css_selector(\"#archiveTable > tbody > tr:nth-child(9) > td:nth-child(2) > div.t_0.dfs\")\n",
    "        temp00 = float(temp00.text)\n",
    "\n",
    "        min_temp_arch = min([temp21, temp18, temp15, temp12, temp09, temp06, temp03, temp00])\n",
    "        max_temp_arch = max([temp21, temp18, temp15, temp12, temp09, temp06, temp03, temp00])\n",
    "        \n",
    "        # пытаемся получить ветер\n",
    "        wind21 = browser.find_element_by_css_selector(\"#archiveTable > tbody > tr:nth-child(2) > td:nth-child(9)\")\n",
    "        wind21 = str(wind21.text).replace(' ', '')\n",
    "\n",
    "        wind18 = browser.find_element_by_css_selector(\"#archiveTable > tbody > tr:nth-child(3) > td:nth-child(8)\")\n",
    "        wind18 = str(wind18.text).replace(' ', '')\n",
    "\n",
    "        wind15 = browser.find_element_by_css_selector(\"#archiveTable > tbody > tr:nth-child(4) > td:nth-child(8)\")\n",
    "        wind15 = str(wind15.text).replace(' ', '')\n",
    "\n",
    "        wind12 = browser.find_element_by_css_selector(\"#archiveTable > tbody > tr:nth-child(5) > td:nth-child(8)\")\n",
    "        wind12 = str(wind12.text).replace(' ', '')\n",
    "\n",
    "        wind09 = browser.find_element_by_css_selector(\"#archiveTable > tbody > tr:nth-child(6) > td:nth-child(8)\")\n",
    "        wind09 = str(wind09.text).replace(' ', '')\n",
    "        \n",
    "\n",
    "        # заносим ветер в список и удаляем все пустые значения\n",
    "        wind_list = [wind21, wind18, wind15, wind12, wind09]\n",
    "        wind_list = [x for x in wind_list if x]\n",
    "\n",
    "        # если ветра нет - ветер 0, если был ветер (или несколько) то считаем среднее значение\n",
    "        if len(wind_list) == 0:\n",
    "            wind = 0\n",
    "        else:\n",
    "            wind_list = [float(x) for x in wind_list]\n",
    "            wind = sum(wind_list) / len(wind_list)\n",
    "            \n",
    "         # ждем 5 секунд на случай если что-то не успело прогрузиться\n",
    "        time.sleep(5)\n",
    "    \n",
    "    finally:\n",
    "        browser.close()\n",
    "        browser.quit()\n",
    "    \n",
    "    # получаем текущую дату\n",
    "    today_date = datetime.now().date()\n",
    "\n",
    "    \n",
    "    try:\n",
    "        # если есть отчет за вчера - то мы его открываем и дописываем факт\n",
    "        df_temp = pd.read_excel(f'reports/{today_date}.xlsx')\n",
    "\n",
    "        df = pd.DataFrame({\n",
    "            \"Показатели\": [\"Температура максимальная, по Цельсию\",\n",
    "                           \"Температура минимальная, по Цельсию\",\n",
    "                           \"Скорость ветра, м/с\"],\n",
    "            \"Факт\": [max_temp_arch,\n",
    "                       min_temp_arch,\n",
    "                       wind]\n",
    "        })\n",
    "\n",
    "        df_temp.merge(df).to_excel(f\"reports/{today_date}.xlsx\", index=False)\n",
    "\n",
    "    except:    \n",
    "        # если отчета за вчера нет - просто сохраняем данные\n",
    "        df = pd.DataFrame({\n",
    "            \"Показатели\": [\"Температура максимальная, по Цельсию\",\n",
    "                           \"Температура минимальная, по Цельсию\",\n",
    "                           \"Скорость ветра, м/с\"],\n",
    "            \"Факт\": [max_temp_arch,\n",
    "                       min_temp_arch,\n",
    "                       wind]\n",
    "        })\n",
    "        df.to_excel(f\"reports/{today_date}.xlsx\", index=False)\n",
    "           "
   ]
  },
  {
   "cell_type": "code",
   "execution_count": 26,
   "metadata": {},
   "outputs": [],
   "source": [
    "parse()"
   ]
  },
  {
   "cell_type": "code",
   "execution_count": null,
   "metadata": {},
   "outputs": [],
   "source": [
    "k = 0\n",
    "\n",
    "while True:\n",
    "    \n",
    "    # если запуск не в 22 или 23 часа по Москве то ждем до тех пор, пока что-то из этого не наступит первым\n",
    "    if datetime.now().time().hour != 22 and k == 0:\n",
    "        time.sleep(3600)\n",
    "    else:\n",
    "        k = 1\n",
    "    \n",
    "    # если сейчас 22 по Москве то запускаем, после чего запуск идет раз в 24 часа\n",
    "    if k == 1:\n",
    "        parse()\n",
    "\n",
    "        # ждем 1 день - 24 * 60 * 60 = 86400 секунд в дне\n",
    "        time.sleep(86400)"
   ]
  },
  {
   "cell_type": "code",
   "execution_count": 13,
   "metadata": {},
   "outputs": [
    {
     "data": {
      "text/plain": [
       "int"
      ]
     },
     "execution_count": 13,
     "metadata": {},
     "output_type": "execute_result"
    }
   ],
   "source": [
    "type(datetime.now().time().hour)"
   ]
  },
  {
   "cell_type": "code",
   "execution_count": 16,
   "metadata": {},
   "outputs": [
    {
     "name": "stdout",
     "output_type": "stream",
     "text": [
      "22:33:49.505727\n"
     ]
    }
   ],
   "source": [
    "print(str(datetime.now().time()))"
   ]
  },
  {
   "cell_type": "code",
   "execution_count": null,
   "metadata": {},
   "outputs": [],
   "source": []
  }
 ],
 "metadata": {
  "kernelspec": {
   "display_name": "Python 3",
   "language": "python",
   "name": "python3"
  },
  "language_info": {
   "codemirror_mode": {
    "name": "ipython",
    "version": 3
   },
   "file_extension": ".py",
   "mimetype": "text/x-python",
   "name": "python",
   "nbconvert_exporter": "python",
   "pygments_lexer": "ipython3",
   "version": "3.7.3"
  }
 },
 "nbformat": 4,
 "nbformat_minor": 2
}

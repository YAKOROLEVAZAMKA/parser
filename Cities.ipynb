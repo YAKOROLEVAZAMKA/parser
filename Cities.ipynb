{
 "cells": [
  {
   "cell_type": "code",
   "execution_count": 1,
   "metadata": {},
   "outputs": [],
   "source": [
    "import numpy as np\n",
    "import pandas as pd\n",
    "import requests\n",
    "from bs4 import BeautifulSoup \n",
    "import re\n",
    "import copy"
   ]
  },
  {
   "cell_type": "code",
   "execution_count": 2,
   "metadata": {},
   "outputs": [],
   "source": [
    "url = 'https://ru.wikipedia.org/wiki/Список_городов_России_с_населением_более_100_тысяч_жителей'"
   ]
  },
  {
   "cell_type": "code",
   "execution_count": 3,
   "metadata": {},
   "outputs": [],
   "source": [
    "page = requests.get(url)"
   ]
  },
  {
   "cell_type": "code",
   "execution_count": 4,
   "metadata": {},
   "outputs": [],
   "source": [
    "soup = BeautifulSoup(page.text, 'html.parser')"
   ]
  },
  {
   "cell_type": "code",
   "execution_count": null,
   "metadata": {},
   "outputs": [],
   "source": []
  },
  {
   "cell_type": "code",
   "execution_count": 34,
   "metadata": {},
   "outputs": [],
   "source": [
    "period = table.findAll('th')[5:]"
   ]
  },
  {
   "cell_type": "code",
   "execution_count": 35,
   "metadata": {},
   "outputs": [
    {
     "data": {
      "text/plain": [
       "[<th data-sort-type=\"number\"><span style=\"font-size:85%;\">1897</span></th>,\n",
       " <th data-sort-type=\"number\"><span style=\"font-size:85%;\">1926</span></th>,\n",
       " <th data-sort-type=\"number\"><span style=\"font-size:85%;\">1939</span></th>,\n",
       " <th data-sort-type=\"number\"><span style=\"font-size:85%;\">1959</span></th>,\n",
       " <th data-sort-type=\"number\"><span style=\"font-size:85%;\">1970</span></th>,\n",
       " <th data-sort-type=\"number\"><span style=\"font-size:85%;\">1979</span></th>,\n",
       " <th data-sort-type=\"number\"><span style=\"font-size:85%;\">1989</span></th>,\n",
       " <th data-sort-type=\"number\"><span style=\"font-size:85%;\">2002</span></th>,\n",
       " <th data-sort-type=\"number\"><span style=\"font-size:85%;\">2010</span></th>,\n",
       " <th data-sort-type=\"number\"><span style=\"font-size:85%;\">2011</span></th>,\n",
       " <th data-sort-type=\"number\"><span style=\"font-size:85%;\">2012</span></th>,\n",
       " <th data-sort-type=\"number\"><span style=\"font-size:85%;\">2013</span></th>,\n",
       " <th data-sort-type=\"number\"><span style=\"font-size:85%;\">2014</span></th>,\n",
       " <th data-sort-type=\"number\"><span style=\"font-size:85%;\">2015</span></th>,\n",
       " <th data-sort-type=\"number\"><span style=\"font-size:85%;\">2016</span></th>,\n",
       " <th data-sort-type=\"number\"><span style=\"font-size:85%;\">2017</span></th>,\n",
       " <th data-sort-type=\"number\"><span style=\"font-size:85%;\">2018</span></th>,\n",
       " <th data-sort-type=\"number\"><span style=\"font-size:85%;\">2019</span>\n",
       " </th>]"
      ]
     },
     "execution_count": 35,
     "metadata": {},
     "output_type": "execute_result"
    }
   ],
   "source": [
    "period"
   ]
  },
  {
   "cell_type": "code",
   "execution_count": 39,
   "metadata": {},
   "outputs": [],
   "source": [
    "clean_periods = []\n",
    "for elem in period:\n",
    "    clean_period = str(elem).split('>')[2].split('<')[0]\n",
    "    clean_periods.append(clean_period)"
   ]
  },
  {
   "cell_type": "code",
   "execution_count": 40,
   "metadata": {},
   "outputs": [
    {
     "data": {
      "text/plain": [
       "['1897',\n",
       " '1926',\n",
       " '1939',\n",
       " '1959',\n",
       " '1970',\n",
       " '1979',\n",
       " '1989',\n",
       " '2002',\n",
       " '2010',\n",
       " '2011',\n",
       " '2012',\n",
       " '2013',\n",
       " '2014',\n",
       " '2015',\n",
       " '2016',\n",
       " '2017',\n",
       " '2018',\n",
       " '2019']"
      ]
     },
     "execution_count": 40,
     "metadata": {},
     "output_type": "execute_result"
    }
   ],
   "source": [
    "clean_periods"
   ]
  },
  {
   "cell_type": "code",
   "execution_count": 41,
   "metadata": {},
   "outputs": [
    {
     "data": {
      "text/plain": [
       "18"
      ]
     },
     "execution_count": 41,
     "metadata": {},
     "output_type": "execute_result"
    }
   ],
   "source": [
    "len(clean_periods)"
   ]
  },
  {
   "cell_type": "code",
   "execution_count": null,
   "metadata": {},
   "outputs": [],
   "source": []
  },
  {
   "cell_type": "code",
   "execution_count": 93,
   "metadata": {},
   "outputs": [],
   "source": [
    "raw_data = soup.find('table',{'class':'wikitable sortable'})"
   ]
  },
  {
   "cell_type": "code",
   "execution_count": 92,
   "metadata": {},
   "outputs": [],
   "source": [
    "#table"
   ]
  },
  {
   "cell_type": "code",
   "execution_count": 42,
   "metadata": {},
   "outputs": [],
   "source": [
    "i = 3\n",
    "j = i + len(clean_periods)"
   ]
  },
  {
   "cell_type": "code",
   "execution_count": 43,
   "metadata": {},
   "outputs": [],
   "source": []
  },
  {
   "cell_type": "code",
   "execution_count": null,
   "metadata": {},
   "outputs": [],
   "source": []
  },
  {
   "cell_type": "code",
   "execution_count": 94,
   "metadata": {},
   "outputs": [],
   "source": [
    "cities = raw_data.findAll('td')[2::j]"
   ]
  },
  {
   "cell_type": "code",
   "execution_count": 62,
   "metadata": {},
   "outputs": [],
   "source": [
    "#cities"
   ]
  },
  {
   "cell_type": "code",
   "execution_count": 95,
   "metadata": {},
   "outputs": [],
   "source": [
    "clean_cities = []\n",
    "for city in cities:\n",
    "    city2 = str(city).replace('<b>','')\n",
    "    clean_city = city2.split('>')[2].split('<')[0].strip()\n",
    "    clean_cities.append(clean_city)"
   ]
  },
  {
   "cell_type": "code",
   "execution_count": 86,
   "metadata": {},
   "outputs": [],
   "source": [
    "#clean_cities"
   ]
  },
  {
   "cell_type": "code",
   "execution_count": null,
   "metadata": {},
   "outputs": [],
   "source": []
  },
  {
   "cell_type": "code",
   "execution_count": 96,
   "metadata": {},
   "outputs": [],
   "source": [
    "pop = raw_data.findAll('td')[i:j]"
   ]
  },
  {
   "cell_type": "code",
   "execution_count": 97,
   "metadata": {},
   "outputs": [
    {
     "data": {
      "text/plain": [
       "[<td>1039</td>,\n",
       " <td>2080</td>,\n",
       " <td>4609</td>,\n",
       " <td>6133</td>,\n",
       " <td>7194</td>,\n",
       " <td>8057</td>,\n",
       " <td>8878</td>,\n",
       " <td>10126</td>,\n",
       " <td>11504</td>,\n",
       " <td>11541</td>,\n",
       " <td>11613</td>,\n",
       " <td>11980</td>,\n",
       " <td>12108</td>,\n",
       " <td>12198</td>,\n",
       " <td>12330</td>,\n",
       " <td>12381</td>,\n",
       " <td>12506</td>,\n",
       " <td>12616\n",
       " </td>]"
      ]
     },
     "execution_count": 97,
     "metadata": {},
     "output_type": "execute_result"
    }
   ],
   "source": [
    "pop"
   ]
  },
  {
   "cell_type": "code",
   "execution_count": 98,
   "metadata": {},
   "outputs": [],
   "source": [
    "clean_population = []\n",
    "for elem in pop:\n",
    "    population = str(elem).split('>')[1].split('<')[0].strip()\n",
    "    clean_population.append(population)"
   ]
  },
  {
   "cell_type": "code",
   "execution_count": 99,
   "metadata": {},
   "outputs": [
    {
     "data": {
      "text/plain": [
       "['1039',\n",
       " '2080',\n",
       " '4609',\n",
       " '6133',\n",
       " '7194',\n",
       " '8057',\n",
       " '8878',\n",
       " '10126',\n",
       " '11504',\n",
       " '11541',\n",
       " '11613',\n",
       " '11980',\n",
       " '12108',\n",
       " '12198',\n",
       " '12330',\n",
       " '12381',\n",
       " '12506',\n",
       " '12616']"
      ]
     },
     "execution_count": 99,
     "metadata": {},
     "output_type": "execute_result"
    }
   ],
   "source": [
    "clean_population"
   ]
  },
  {
   "cell_type": "code",
   "execution_count": null,
   "metadata": {},
   "outputs": [],
   "source": []
  },
  {
   "cell_type": "code",
   "execution_count": 143,
   "metadata": {},
   "outputs": [],
   "source": [
    "i = 3\n",
    "j = i + len(clean_periods)\n",
    "\n",
    "table = []\n",
    "for city in clean_cities:\n",
    "    clean_population = []\n",
    "    temp = []\n",
    "    \n",
    "    temp_pop = raw_data.findAll('td')[i:j]\n",
    "\n",
    "    for elem in temp_pop:\n",
    "        raw_population = str(elem).replace('<span style=\"font-size:85%;\">','')\n",
    "        raw_population = raw_population.replace('—','0')\n",
    "        raw_population = raw_population.replace('…','0')\n",
    "        population = raw_population.split('>')[1].split('<')[0].strip()\n",
    "        clean_population.append(population)\n",
    "    clean_population.insert(0, city)\n",
    "    temp = tuple(clean_population)\n",
    "    table.append(temp)\n",
    "    i += len(clean_periods) + 3\n",
    "    j += len(clean_periods) + 3\n"
   ]
  },
  {
   "cell_type": "code",
   "execution_count": 144,
   "metadata": {},
   "outputs": [],
   "source": [
    "#table"
   ]
  },
  {
   "cell_type": "code",
   "execution_count": 145,
   "metadata": {},
   "outputs": [],
   "source": [
    "df = pd.DataFrame(table)\n",
    "\n",
    "real_columns = clean_periods.copy()\n",
    "real_columns.insert(0, 'City')\n",
    "df.columns = real_columns"
   ]
  },
  {
   "cell_type": "code",
   "execution_count": 149,
   "metadata": {},
   "outputs": [
    {
     "data": {
      "text/html": [
       "<div>\n",
       "<style scoped>\n",
       "    .dataframe tbody tr th:only-of-type {\n",
       "        vertical-align: middle;\n",
       "    }\n",
       "\n",
       "    .dataframe tbody tr th {\n",
       "        vertical-align: top;\n",
       "    }\n",
       "\n",
       "    .dataframe thead th {\n",
       "        text-align: right;\n",
       "    }\n",
       "</style>\n",
       "<table border=\"1\" class=\"dataframe\">\n",
       "  <thead>\n",
       "    <tr style=\"text-align: right;\">\n",
       "      <th></th>\n",
       "      <th>City</th>\n",
       "      <th>1897</th>\n",
       "      <th>1926</th>\n",
       "      <th>1939</th>\n",
       "      <th>1959</th>\n",
       "      <th>1970</th>\n",
       "      <th>1979</th>\n",
       "      <th>1989</th>\n",
       "      <th>2002</th>\n",
       "      <th>2010</th>\n",
       "      <th>2011</th>\n",
       "      <th>2012</th>\n",
       "      <th>2013</th>\n",
       "      <th>2014</th>\n",
       "      <th>2015</th>\n",
       "      <th>2016</th>\n",
       "      <th>2017</th>\n",
       "      <th>2018</th>\n",
       "      <th>2019</th>\n",
       "    </tr>\n",
       "  </thead>\n",
       "  <tbody>\n",
       "    <tr>\n",
       "      <th>0</th>\n",
       "      <td>Москва</td>\n",
       "      <td>1039</td>\n",
       "      <td>2080</td>\n",
       "      <td>4609</td>\n",
       "      <td>6133</td>\n",
       "      <td>7194</td>\n",
       "      <td>8057</td>\n",
       "      <td>8878</td>\n",
       "      <td>10126</td>\n",
       "      <td>11504</td>\n",
       "      <td>11541</td>\n",
       "      <td>11613</td>\n",
       "      <td>11980</td>\n",
       "      <td>12108</td>\n",
       "      <td>12198</td>\n",
       "      <td>12330</td>\n",
       "      <td>12381</td>\n",
       "      <td>12506</td>\n",
       "      <td>12616</td>\n",
       "    </tr>\n",
       "    <tr>\n",
       "      <th>1</th>\n",
       "      <td>Санкт-Петербург</td>\n",
       "      <td>1265</td>\n",
       "      <td>1737</td>\n",
       "      <td>3431</td>\n",
       "      <td>3390</td>\n",
       "      <td>4033</td>\n",
       "      <td>4569</td>\n",
       "      <td>4989</td>\n",
       "      <td>4661</td>\n",
       "      <td>4880</td>\n",
       "      <td>4899</td>\n",
       "      <td>4953</td>\n",
       "      <td>5028</td>\n",
       "      <td>5132</td>\n",
       "      <td>5192</td>\n",
       "      <td>5226</td>\n",
       "      <td>5282</td>\n",
       "      <td>5352</td>\n",
       "      <td>5384</td>\n",
       "    </tr>\n",
       "    <tr>\n",
       "      <th>2</th>\n",
       "      <td>Новосибирск</td>\n",
       "      <td>8</td>\n",
       "      <td>120</td>\n",
       "      <td>404</td>\n",
       "      <td>885</td>\n",
       "      <td>1161</td>\n",
       "      <td>1309</td>\n",
       "      <td>1420</td>\n",
       "      <td>1426</td>\n",
       "      <td>1474</td>\n",
       "      <td>1475</td>\n",
       "      <td>1499</td>\n",
       "      <td>1524</td>\n",
       "      <td>1548</td>\n",
       "      <td>1567</td>\n",
       "      <td>1584</td>\n",
       "      <td>1603</td>\n",
       "      <td>1613</td>\n",
       "      <td>1618</td>\n",
       "    </tr>\n",
       "    <tr>\n",
       "      <th>3</th>\n",
       "      <td>Екатеринбург</td>\n",
       "      <td>43</td>\n",
       "      <td>140</td>\n",
       "      <td>423</td>\n",
       "      <td>779</td>\n",
       "      <td>1025</td>\n",
       "      <td>1210</td>\n",
       "      <td>1296</td>\n",
       "      <td>1294</td>\n",
       "      <td>1350</td>\n",
       "      <td>1353</td>\n",
       "      <td>1378</td>\n",
       "      <td>1396</td>\n",
       "      <td>1412</td>\n",
       "      <td>1428</td>\n",
       "      <td>1444</td>\n",
       "      <td>1456</td>\n",
       "      <td>1469</td>\n",
       "      <td>1483</td>\n",
       "    </tr>\n",
       "    <tr>\n",
       "      <th>4</th>\n",
       "      <td>Нижний Новгород</td>\n",
       "      <td>90</td>\n",
       "      <td>222</td>\n",
       "      <td>644</td>\n",
       "      <td>941</td>\n",
       "      <td>1170</td>\n",
       "      <td>1342</td>\n",
       "      <td>1400</td>\n",
       "      <td>1311</td>\n",
       "      <td>1251</td>\n",
       "      <td>1252</td>\n",
       "      <td>1255</td>\n",
       "      <td>1260</td>\n",
       "      <td>1264</td>\n",
       "      <td>1268</td>\n",
       "      <td>1267</td>\n",
       "      <td>1262</td>\n",
       "      <td>1259</td>\n",
       "      <td>1253</td>\n",
       "    </tr>\n",
       "  </tbody>\n",
       "</table>\n",
       "</div>"
      ],
      "text/plain": [
       "              City  1897  1926  1939  1959  1970  1979  1989   2002   2010  \\\n",
       "0           Москва  1039  2080  4609  6133  7194  8057  8878  10126  11504   \n",
       "1  Санкт-Петербург  1265  1737  3431  3390  4033  4569  4989   4661   4880   \n",
       "2      Новосибирск     8   120   404   885  1161  1309  1420   1426   1474   \n",
       "3     Екатеринбург    43   140   423   779  1025  1210  1296   1294   1350   \n",
       "4  Нижний Новгород    90   222   644   941  1170  1342  1400   1311   1251   \n",
       "\n",
       "    2011   2012   2013   2014   2015   2016   2017   2018   2019  \n",
       "0  11541  11613  11980  12108  12198  12330  12381  12506  12616  \n",
       "1   4899   4953   5028   5132   5192   5226   5282   5352   5384  \n",
       "2   1475   1499   1524   1548   1567   1584   1603   1613   1618  \n",
       "3   1353   1378   1396   1412   1428   1444   1456   1469   1483  \n",
       "4   1252   1255   1260   1264   1268   1267   1262   1259   1253  "
      ]
     },
     "execution_count": 149,
     "metadata": {},
     "output_type": "execute_result"
    }
   ],
   "source": [
    "df.head()"
   ]
  },
  {
   "cell_type": "code",
   "execution_count": null,
   "metadata": {},
   "outputs": [],
   "source": []
  },
  {
   "cell_type": "code",
   "execution_count": 148,
   "metadata": {},
   "outputs": [],
   "source": [
    "file_name = 'cities_population.xlsx'\n",
    "writer = pd.ExcelWriter(file_name, engine='xlsxwriter')\n",
    "df.to_excel(writer, sheet_name='Cities', index=False)\n",
    "writer.save()"
   ]
  },
  {
   "cell_type": "code",
   "execution_count": null,
   "metadata": {},
   "outputs": [],
   "source": []
  },
  {
   "cell_type": "markdown",
   "metadata": {},
   "source": [
    "## WIKI CITIES POPULATION"
   ]
  },
  {
   "cell_type": "code",
   "execution_count": 7,
   "metadata": {},
   "outputs": [],
   "source": [
    "import numpy as np\n",
    "import pandas as pd\n",
    "import requests\n",
    "from bs4 import BeautifulSoup \n",
    "import re\n",
    "import copy\n",
    "\n",
    "# БИБЛИОТЕКИ\n",
    "\n",
    "url = 'https://ru.wikipedia.org/wiki/Список_городов_России_с_населением_более_100_тысяч_жителей'\n",
    "page = requests.get(url)\n",
    "soup = BeautifulSoup(page.text, 'html.parser')\n",
    "\n",
    "# ПОЛУЧАЕМ СТРАНИЦУ\n",
    "\n",
    "raw_data = soup.find('table',{'class':'wikitable sortable'})\n",
    "\n",
    "period = raw_data.findAll('th')[5:]\n",
    "clean_periods = []\n",
    "for elem in period:\n",
    "    clean_period = str(elem).split('>')[2].split('<')[0]\n",
    "    clean_periods.append(clean_period)\n",
    "    \n",
    "# ПОЛУЧАЕМ ПЕРИОДЫ (ГОДА)\n",
    "\n",
    "i = 3\n",
    "j = i + len(clean_periods)\n",
    "\n",
    "cities = raw_data.findAll('td')[2::j]\n",
    "clean_cities = []\n",
    "for city in cities:\n",
    "    city2 = str(city).replace('<b>','')\n",
    "    clean_city = city2.split('>')[2].split('<')[0].strip()\n",
    "    clean_cities.append(clean_city)\n",
    "\n",
    "    \n",
    "# ПОЛУЧАЕМ СПИСОК ГОРОДОВ\n",
    "\n",
    "table = []\n",
    "for city in clean_cities:\n",
    "    clean_population = []\n",
    "    temp = []\n",
    "    \n",
    "    temp_pop = raw_data.findAll('td')[i:j]\n",
    "\n",
    "    for elem in temp_pop:\n",
    "        raw_population = str(elem).replace('<span style=\"font-size:85%;\">','')\n",
    "        raw_population = raw_population.replace('—','0')\n",
    "        raw_population = raw_population.replace('…','0')\n",
    "        raw_population = raw_population.replace(',','.')\n",
    "        population = int(float(raw_population.split('>')[1].split('<')[0].strip()) * 1000)\n",
    "        clean_population.append(population)\n",
    "    clean_population.insert(0, city)\n",
    "    temp = tuple(clean_population)\n",
    "    table.append(temp)\n",
    "    i += len(clean_periods) + 3\n",
    "    j += len(clean_periods) + 3\n",
    "\n",
    "# СОЗДАЕМ КОРТЕЖ ВИДА ГОРОД + НАСЕЛЕНИЕ ПО ГОДАМ\n",
    "    \n",
    "df2 = pd.DataFrame(table)\n",
    "\n",
    "real_columns = clean_periods.copy()\n",
    "real_columns.insert(0, 'City')\n",
    "df2.columns = real_columns\n",
    "\n",
    "# СОЗДАЕМ ТАБЛИЦУ"
   ]
  },
  {
   "cell_type": "code",
   "execution_count": 8,
   "metadata": {},
   "outputs": [
    {
     "data": {
      "text/html": [
       "<div>\n",
       "<style scoped>\n",
       "    .dataframe tbody tr th:only-of-type {\n",
       "        vertical-align: middle;\n",
       "    }\n",
       "\n",
       "    .dataframe tbody tr th {\n",
       "        vertical-align: top;\n",
       "    }\n",
       "\n",
       "    .dataframe thead th {\n",
       "        text-align: right;\n",
       "    }\n",
       "</style>\n",
       "<table border=\"1\" class=\"dataframe\">\n",
       "  <thead>\n",
       "    <tr style=\"text-align: right;\">\n",
       "      <th></th>\n",
       "      <th>City</th>\n",
       "      <th>1897</th>\n",
       "      <th>1926</th>\n",
       "      <th>1939</th>\n",
       "      <th>1959</th>\n",
       "      <th>1970</th>\n",
       "      <th>1979</th>\n",
       "      <th>1989</th>\n",
       "      <th>2002</th>\n",
       "      <th>2010</th>\n",
       "      <th>2011</th>\n",
       "      <th>2012</th>\n",
       "      <th>2013</th>\n",
       "      <th>2014</th>\n",
       "      <th>2015</th>\n",
       "      <th>2016</th>\n",
       "      <th>2017</th>\n",
       "      <th>2018</th>\n",
       "      <th>2019</th>\n",
       "    </tr>\n",
       "  </thead>\n",
       "  <tbody>\n",
       "    <tr>\n",
       "      <th>0</th>\n",
       "      <td>Москва</td>\n",
       "      <td>1039000</td>\n",
       "      <td>2080000</td>\n",
       "      <td>4609000</td>\n",
       "      <td>6133000</td>\n",
       "      <td>7194000</td>\n",
       "      <td>8057000</td>\n",
       "      <td>8878000</td>\n",
       "      <td>10126000</td>\n",
       "      <td>11504000</td>\n",
       "      <td>11541000</td>\n",
       "      <td>11613000</td>\n",
       "      <td>11980000</td>\n",
       "      <td>12108000</td>\n",
       "      <td>12198000</td>\n",
       "      <td>12330000</td>\n",
       "      <td>12381000</td>\n",
       "      <td>12506000</td>\n",
       "      <td>12616000</td>\n",
       "    </tr>\n",
       "    <tr>\n",
       "      <th>1</th>\n",
       "      <td>Санкт-Петербург</td>\n",
       "      <td>1265000</td>\n",
       "      <td>1737000</td>\n",
       "      <td>3431000</td>\n",
       "      <td>3390000</td>\n",
       "      <td>4033000</td>\n",
       "      <td>4569000</td>\n",
       "      <td>4989000</td>\n",
       "      <td>4661000</td>\n",
       "      <td>4880000</td>\n",
       "      <td>4899000</td>\n",
       "      <td>4953000</td>\n",
       "      <td>5028000</td>\n",
       "      <td>5132000</td>\n",
       "      <td>5192000</td>\n",
       "      <td>5226000</td>\n",
       "      <td>5282000</td>\n",
       "      <td>5352000</td>\n",
       "      <td>5384000</td>\n",
       "    </tr>\n",
       "    <tr>\n",
       "      <th>2</th>\n",
       "      <td>Новосибирск</td>\n",
       "      <td>8000</td>\n",
       "      <td>120000</td>\n",
       "      <td>404000</td>\n",
       "      <td>885000</td>\n",
       "      <td>1161000</td>\n",
       "      <td>1309000</td>\n",
       "      <td>1420000</td>\n",
       "      <td>1426000</td>\n",
       "      <td>1474000</td>\n",
       "      <td>1475000</td>\n",
       "      <td>1499000</td>\n",
       "      <td>1524000</td>\n",
       "      <td>1548000</td>\n",
       "      <td>1567000</td>\n",
       "      <td>1584000</td>\n",
       "      <td>1603000</td>\n",
       "      <td>1613000</td>\n",
       "      <td>1618000</td>\n",
       "    </tr>\n",
       "    <tr>\n",
       "      <th>3</th>\n",
       "      <td>Екатеринбург</td>\n",
       "      <td>43000</td>\n",
       "      <td>140000</td>\n",
       "      <td>423000</td>\n",
       "      <td>779000</td>\n",
       "      <td>1025000</td>\n",
       "      <td>1210000</td>\n",
       "      <td>1296000</td>\n",
       "      <td>1294000</td>\n",
       "      <td>1350000</td>\n",
       "      <td>1353000</td>\n",
       "      <td>1378000</td>\n",
       "      <td>1396000</td>\n",
       "      <td>1412000</td>\n",
       "      <td>1428000</td>\n",
       "      <td>1444000</td>\n",
       "      <td>1456000</td>\n",
       "      <td>1469000</td>\n",
       "      <td>1483000</td>\n",
       "    </tr>\n",
       "    <tr>\n",
       "      <th>4</th>\n",
       "      <td>Нижний Новгород</td>\n",
       "      <td>90000</td>\n",
       "      <td>222000</td>\n",
       "      <td>644000</td>\n",
       "      <td>941000</td>\n",
       "      <td>1170000</td>\n",
       "      <td>1342000</td>\n",
       "      <td>1400000</td>\n",
       "      <td>1311000</td>\n",
       "      <td>1251000</td>\n",
       "      <td>1252000</td>\n",
       "      <td>1255000</td>\n",
       "      <td>1260000</td>\n",
       "      <td>1264000</td>\n",
       "      <td>1268000</td>\n",
       "      <td>1267000</td>\n",
       "      <td>1262000</td>\n",
       "      <td>1259000</td>\n",
       "      <td>1253000</td>\n",
       "    </tr>\n",
       "  </tbody>\n",
       "</table>\n",
       "</div>"
      ],
      "text/plain": [
       "              City     1897     1926     1939     1959     1970     1979  \\\n",
       "0           Москва  1039000  2080000  4609000  6133000  7194000  8057000   \n",
       "1  Санкт-Петербург  1265000  1737000  3431000  3390000  4033000  4569000   \n",
       "2      Новосибирск     8000   120000   404000   885000  1161000  1309000   \n",
       "3     Екатеринбург    43000   140000   423000   779000  1025000  1210000   \n",
       "4  Нижний Новгород    90000   222000   644000   941000  1170000  1342000   \n",
       "\n",
       "      1989      2002      2010      2011      2012      2013      2014  \\\n",
       "0  8878000  10126000  11504000  11541000  11613000  11980000  12108000   \n",
       "1  4989000   4661000   4880000   4899000   4953000   5028000   5132000   \n",
       "2  1420000   1426000   1474000   1475000   1499000   1524000   1548000   \n",
       "3  1296000   1294000   1350000   1353000   1378000   1396000   1412000   \n",
       "4  1400000   1311000   1251000   1252000   1255000   1260000   1264000   \n",
       "\n",
       "       2015      2016      2017      2018      2019  \n",
       "0  12198000  12330000  12381000  12506000  12616000  \n",
       "1   5192000   5226000   5282000   5352000   5384000  \n",
       "2   1567000   1584000   1603000   1613000   1618000  \n",
       "3   1428000   1444000   1456000   1469000   1483000  \n",
       "4   1268000   1267000   1262000   1259000   1253000  "
      ]
     },
     "execution_count": 8,
     "metadata": {},
     "output_type": "execute_result"
    }
   ],
   "source": [
    "df2.head()"
   ]
  },
  {
   "cell_type": "code",
   "execution_count": null,
   "metadata": {},
   "outputs": [],
   "source": []
  },
  {
   "cell_type": "code",
   "execution_count": 10,
   "metadata": {},
   "outputs": [],
   "source": [
    "file_name = 'Urban_population.xlsx'\n",
    "writer = pd.ExcelWriter(file_name, engine='xlsxwriter')\n",
    "df2.to_excel(writer, sheet_name='Cities', index=False)\n",
    "writer.save()"
   ]
  },
  {
   "cell_type": "code",
   "execution_count": null,
   "metadata": {},
   "outputs": [],
   "source": []
  },
  {
   "cell_type": "code",
   "execution_count": null,
   "metadata": {},
   "outputs": [],
   "source": []
  }
 ],
 "metadata": {
  "kernelspec": {
   "display_name": "Python 3",
   "language": "python",
   "name": "python3"
  },
  "language_info": {
   "codemirror_mode": {
    "name": "ipython",
    "version": 3
   },
   "file_extension": ".py",
   "mimetype": "text/x-python",
   "name": "python",
   "nbconvert_exporter": "python",
   "pygments_lexer": "ipython3",
   "version": "3.7.3"
  }
 },
 "nbformat": 4,
 "nbformat_minor": 2
}

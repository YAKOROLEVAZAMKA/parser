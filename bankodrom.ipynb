{
 "cells": [
  {
   "cell_type": "code",
   "execution_count": 1,
   "metadata": {},
   "outputs": [],
   "source": [
    "import pandas as pd\n",
    "import requests\n",
    "from bs4 import BeautifulSoup \n",
    "import re"
   ]
  },
  {
   "cell_type": "code",
   "execution_count": 2,
   "metadata": {},
   "outputs": [],
   "source": [
    "pd.options.display.max_columns = None"
   ]
  },
  {
   "cell_type": "code",
   "execution_count": 3,
   "metadata": {},
   "outputs": [],
   "source": [
    "url = 'https://www.bankodrom.ru/mikrofinansovye-organizacii-mfo/rukovoditeli-mfo-rossii/'"
   ]
  },
  {
   "cell_type": "code",
   "execution_count": 4,
   "metadata": {},
   "outputs": [],
   "source": [
    "page = requests.get(url)"
   ]
  },
  {
   "cell_type": "code",
   "execution_count": 5,
   "metadata": {},
   "outputs": [],
   "source": [
    "soup = BeautifulSoup(page.text, 'html.parser')"
   ]
  },
  {
   "cell_type": "code",
   "execution_count": 6,
   "metadata": {},
   "outputs": [],
   "source": [
    "#soup"
   ]
  },
  {
   "cell_type": "code",
   "execution_count": 7,
   "metadata": {},
   "outputs": [],
   "source": [
    "table = soup.findAll('td', attrs=None)\n",
    "table = table[5:-6]"
   ]
  },
  {
   "cell_type": "code",
   "execution_count": 8,
   "metadata": {},
   "outputs": [
    {
     "data": {
      "text/plain": [
       "5220"
      ]
     },
     "execution_count": 8,
     "metadata": {},
     "output_type": "execute_result"
    }
   ],
   "source": [
    "len(table)"
   ]
  },
  {
   "cell_type": "code",
   "execution_count": 9,
   "metadata": {},
   "outputs": [
    {
     "data": {
      "text/plain": [
       "<td>01.05.2019</td>"
      ]
     },
     "execution_count": 9,
     "metadata": {},
     "output_type": "execute_result"
    }
   ],
   "source": [
    "table[5]"
   ]
  },
  {
   "cell_type": "code",
   "execution_count": 10,
   "metadata": {},
   "outputs": [],
   "source": [
    "mfo_name = str(table[0]).split('>')[2].split('<')[0]"
   ]
  },
  {
   "cell_type": "code",
   "execution_count": 11,
   "metadata": {},
   "outputs": [
    {
     "data": {
      "text/plain": [
       "'Car Money (МФК \"КарМани\")'"
      ]
     },
     "execution_count": 11,
     "metadata": {},
     "output_type": "execute_result"
    }
   ],
   "source": [
    "mfo_name"
   ]
  },
  {
   "cell_type": "code",
   "execution_count": 12,
   "metadata": {},
   "outputs": [],
   "source": [
    "mfo_short_link = str(table[0]).split('\"')[1].split('\"')[0]"
   ]
  },
  {
   "cell_type": "code",
   "execution_count": 13,
   "metadata": {},
   "outputs": [
    {
     "data": {
      "text/plain": [
       "'/mfo/karmani/rekvizity/'"
      ]
     },
     "execution_count": 13,
     "metadata": {},
     "output_type": "execute_result"
    }
   ],
   "source": [
    "mfo_short_link"
   ]
  },
  {
   "cell_type": "code",
   "execution_count": 14,
   "metadata": {},
   "outputs": [],
   "source": [
    "gendir_name = str(table[1]).split('>')[1].split('<')[0]"
   ]
  },
  {
   "cell_type": "code",
   "execution_count": 15,
   "metadata": {},
   "outputs": [
    {
     "data": {
      "text/plain": [
       "'Калугина Анна Александровна (генеральный директор)'"
      ]
     },
     "execution_count": 15,
     "metadata": {},
     "output_type": "execute_result"
    }
   ],
   "source": [
    "gendir_name"
   ]
  },
  {
   "cell_type": "code",
   "execution_count": 16,
   "metadata": {},
   "outputs": [],
   "source": [
    "actual_date = str(table[2]).split('>')[1].split('<')[0]"
   ]
  },
  {
   "cell_type": "code",
   "execution_count": 17,
   "metadata": {},
   "outputs": [
    {
     "data": {
      "text/plain": [
       "'24.02.2020'"
      ]
     },
     "execution_count": 17,
     "metadata": {},
     "output_type": "execute_result"
    }
   ],
   "source": [
    "actual_date"
   ]
  },
  {
   "cell_type": "code",
   "execution_count": null,
   "metadata": {},
   "outputs": [],
   "source": []
  },
  {
   "cell_type": "code",
   "execution_count": 18,
   "metadata": {},
   "outputs": [],
   "source": [
    "mfo_full_link = 'https://www.bankodrom.ru' + mfo_short_link"
   ]
  },
  {
   "cell_type": "code",
   "execution_count": null,
   "metadata": {},
   "outputs": [],
   "source": []
  },
  {
   "cell_type": "code",
   "execution_count": 19,
   "metadata": {},
   "outputs": [],
   "source": [
    "d = dict()"
   ]
  },
  {
   "cell_type": "code",
   "execution_count": 20,
   "metadata": {},
   "outputs": [],
   "source": [
    "for i in range(0, len(table), 3):\n",
    "    mfo_name = str(table[i]).split('>')[2].split('<')[0]\n",
    "    mfo_short_link = str(table[i]).split('\"')[1].split('\"')[0]\n",
    "    gendir_name = str(table[i+1]).split('>')[1].split('<')[0]\n",
    "    actual_date = str(table[i+2]).split('>')[1].split('<')[0]\n",
    "    \n",
    "    mfo_full_link = 'https://www.bankodrom.ru' + mfo_short_link\n",
    "    \n",
    "    d[mfo_name] = d.get(mfo_name, ['' for x in range(3)])\n",
    "    d[mfo_name][0] = mfo_full_link\n",
    "    d[mfo_name][1] = gendir_name\n",
    "    d[mfo_name][2] = actual_date"
   ]
  },
  {
   "cell_type": "code",
   "execution_count": 21,
   "metadata": {},
   "outputs": [],
   "source": [
    "# d"
   ]
  },
  {
   "cell_type": "code",
   "execution_count": 22,
   "metadata": {},
   "outputs": [],
   "source": [
    "data_mfo = pd.DataFrame.from_dict(d, orient='index').reset_index().rename(columns={'index':'MFO_name', 0:'url', 1:'responsible', 2:'actual_date'})"
   ]
  },
  {
   "cell_type": "code",
   "execution_count": 23,
   "metadata": {},
   "outputs": [
    {
     "data": {
      "text/html": [
       "<div>\n",
       "<style scoped>\n",
       "    .dataframe tbody tr th:only-of-type {\n",
       "        vertical-align: middle;\n",
       "    }\n",
       "\n",
       "    .dataframe tbody tr th {\n",
       "        vertical-align: top;\n",
       "    }\n",
       "\n",
       "    .dataframe thead th {\n",
       "        text-align: right;\n",
       "    }\n",
       "</style>\n",
       "<table border=\"1\" class=\"dataframe\">\n",
       "  <thead>\n",
       "    <tr style=\"text-align: right;\">\n",
       "      <th></th>\n",
       "      <th>MFO_name</th>\n",
       "      <th>url</th>\n",
       "      <th>responsible</th>\n",
       "      <th>actual_date</th>\n",
       "    </tr>\n",
       "  </thead>\n",
       "  <tbody>\n",
       "    <tr>\n",
       "      <th>0</th>\n",
       "      <td>Car Money (МФК \"КарМани\")</td>\n",
       "      <td>https://www.bankodrom.ru/mfo/karmani/rekvizity/</td>\n",
       "      <td>Калугина Анна Александровна (генеральный дирек...</td>\n",
       "      <td>24.02.2020</td>\n",
       "    </tr>\n",
       "    <tr>\n",
       "      <th>1</th>\n",
       "      <td>CashToYou (МКК \"Ван Клик Мани\")</td>\n",
       "      <td>https://www.bankodrom.ru/mfo/van-klik-mani/rek...</td>\n",
       "      <td>Касьяненко Максим Викторович (директор)</td>\n",
       "      <td>01.05.2019</td>\n",
       "    </tr>\n",
       "    <tr>\n",
       "      <th>2</th>\n",
       "      <td>Credit Star (МКК \"Хорошая история\")</td>\n",
       "      <td>https://www.bankodrom.ru/mfo/kredit-star/rekvi...</td>\n",
       "      <td>Максимова Екатерина Николаевна (генеральный ди...</td>\n",
       "      <td>01.05.2019</td>\n",
       "    </tr>\n",
       "    <tr>\n",
       "      <th>3</th>\n",
       "      <td>Credit.Club (МКК \"Магазин кредитов\")</td>\n",
       "      <td>https://www.bankodrom.ru/mfo/credit.club/rekvi...</td>\n",
       "      <td>Кивраиди Валерия Владимировна (директор)</td>\n",
       "      <td>28.05.2019</td>\n",
       "    </tr>\n",
       "    <tr>\n",
       "      <th>4</th>\n",
       "      <td>Ezaem (МФК \"Веритас\")</td>\n",
       "      <td>https://www.bankodrom.ru/mfo/ezaem/rekvizity/</td>\n",
       "      <td>Торосянс Ашотс (генеральный директор)</td>\n",
       "      <td>29.01.2020</td>\n",
       "    </tr>\n",
       "    <tr>\n",
       "      <th>...</th>\n",
       "      <td>...</td>\n",
       "      <td>...</td>\n",
       "      <td>...</td>\n",
       "      <td>...</td>\n",
       "    </tr>\n",
       "    <tr>\n",
       "      <th>1723</th>\n",
       "      <td>Якшур-Бодьинский муниципальный фонд поддержки ...</td>\n",
       "      <td>https://www.bankodrom.ru/mfo/yakshur-bodinskiy...</td>\n",
       "      <td>Тронина Юлия Владимировна (директор)</td>\n",
       "      <td>01.05.2019</td>\n",
       "    </tr>\n",
       "    <tr>\n",
       "      <th>1724</th>\n",
       "      <td>Якэша</td>\n",
       "      <td>https://www.bankodrom.ru/mfo/yakesha/rekvizity/</td>\n",
       "      <td>Карамышев Юрий Сергеевич (генеральный директор)</td>\n",
       "      <td>01.05.2019</td>\n",
       "    </tr>\n",
       "    <tr>\n",
       "      <th>1725</th>\n",
       "      <td>Ялта</td>\n",
       "      <td>https://www.bankodrom.ru/mfo/yalta/rekvizity/</td>\n",
       "      <td>Кокорышкин Александр Дмитриевич (генеральный д...</td>\n",
       "      <td>14.02.2020</td>\n",
       "    </tr>\n",
       "    <tr>\n",
       "      <th>1726</th>\n",
       "      <td>Яр миг</td>\n",
       "      <td>https://www.bankodrom.ru/mfo/yar-mig/rekvizity/</td>\n",
       "      <td>Павленко Сергей Александрович (директор)</td>\n",
       "      <td>01.05.2019</td>\n",
       "    </tr>\n",
       "    <tr>\n",
       "      <th>1727</th>\n",
       "      <td>ЯФПМП Союз-центр</td>\n",
       "      <td>https://www.bankodrom.ru/mfo/yafpmsp-soyuz-cen...</td>\n",
       "      <td>Клобуков Игорь Геннадьевич (директор)</td>\n",
       "      <td>01.05.2019</td>\n",
       "    </tr>\n",
       "  </tbody>\n",
       "</table>\n",
       "<p>1728 rows × 4 columns</p>\n",
       "</div>"
      ],
      "text/plain": [
       "                                               MFO_name  \\\n",
       "0                             Car Money (МФК \"КарМани\")   \n",
       "1                       CashToYou (МКК \"Ван Клик Мани\")   \n",
       "2                   Credit Star (МКК \"Хорошая история\")   \n",
       "3                  Credit.Club (МКК \"Магазин кредитов\")   \n",
       "4                                 Ezaem (МФК \"Веритас\")   \n",
       "...                                                 ...   \n",
       "1723  Якшур-Бодьинский муниципальный фонд поддержки ...   \n",
       "1724                                              Якэша   \n",
       "1725                                               Ялта   \n",
       "1726                                             Яр миг   \n",
       "1727                                   ЯФПМП Союз-центр   \n",
       "\n",
       "                                                    url  \\\n",
       "0       https://www.bankodrom.ru/mfo/karmani/rekvizity/   \n",
       "1     https://www.bankodrom.ru/mfo/van-klik-mani/rek...   \n",
       "2     https://www.bankodrom.ru/mfo/kredit-star/rekvi...   \n",
       "3     https://www.bankodrom.ru/mfo/credit.club/rekvi...   \n",
       "4         https://www.bankodrom.ru/mfo/ezaem/rekvizity/   \n",
       "...                                                 ...   \n",
       "1723  https://www.bankodrom.ru/mfo/yakshur-bodinskiy...   \n",
       "1724    https://www.bankodrom.ru/mfo/yakesha/rekvizity/   \n",
       "1725      https://www.bankodrom.ru/mfo/yalta/rekvizity/   \n",
       "1726    https://www.bankodrom.ru/mfo/yar-mig/rekvizity/   \n",
       "1727  https://www.bankodrom.ru/mfo/yafpmsp-soyuz-cen...   \n",
       "\n",
       "                                            responsible actual_date  \n",
       "0     Калугина Анна Александровна (генеральный дирек...  24.02.2020  \n",
       "1               Касьяненко Максим Викторович (директор)  01.05.2019  \n",
       "2     Максимова Екатерина Николаевна (генеральный ди...  01.05.2019  \n",
       "3              Кивраиди Валерия Владимировна (директор)  28.05.2019  \n",
       "4                 Торосянс Ашотс (генеральный директор)  29.01.2020  \n",
       "...                                                 ...         ...  \n",
       "1723               Тронина Юлия Владимировна (директор)  01.05.2019  \n",
       "1724    Карамышев Юрий Сергеевич (генеральный директор)  01.05.2019  \n",
       "1725  Кокорышкин Александр Дмитриевич (генеральный д...  14.02.2020  \n",
       "1726           Павленко Сергей Александрович (директор)  01.05.2019  \n",
       "1727              Клобуков Игорь Геннадьевич (директор)  01.05.2019  \n",
       "\n",
       "[1728 rows x 4 columns]"
      ]
     },
     "execution_count": 23,
     "metadata": {},
     "output_type": "execute_result"
    }
   ],
   "source": [
    "data_mfo"
   ]
  },
  {
   "cell_type": "code",
   "execution_count": null,
   "metadata": {},
   "outputs": [],
   "source": []
  },
  {
   "cell_type": "code",
   "execution_count": 24,
   "metadata": {},
   "outputs": [
    {
     "data": {
      "text/plain": [
       "'https://www.bankodrom.ru/mfo/karmani/rekvizity/'"
      ]
     },
     "execution_count": 24,
     "metadata": {},
     "output_type": "execute_result"
    }
   ],
   "source": [
    "data_mfo.url[0]"
   ]
  },
  {
   "cell_type": "code",
   "execution_count": null,
   "metadata": {},
   "outputs": [],
   "source": []
  },
  {
   "cell_type": "code",
   "execution_count": 25,
   "metadata": {},
   "outputs": [
    {
     "data": {
      "text/plain": [
       "'https://www.bankodrom.ru/mfo/karmani/rekvizity/'"
      ]
     },
     "execution_count": 25,
     "metadata": {},
     "output_type": "execute_result"
    }
   ],
   "source": [
    "mfo_url = data_mfo.url[0]\n",
    "mfo_url"
   ]
  },
  {
   "cell_type": "code",
   "execution_count": null,
   "metadata": {},
   "outputs": [],
   "source": []
  },
  {
   "cell_type": "code",
   "execution_count": 26,
   "metadata": {},
   "outputs": [],
   "source": [
    "mfo_page = requests.get(mfo_url)"
   ]
  },
  {
   "cell_type": "code",
   "execution_count": 27,
   "metadata": {},
   "outputs": [],
   "source": [
    "mfo_soup = BeautifulSoup(mfo_page.text, 'html.parser')"
   ]
  },
  {
   "cell_type": "code",
   "execution_count": 28,
   "metadata": {},
   "outputs": [],
   "source": [
    "#mfo_soup"
   ]
  },
  {
   "cell_type": "code",
   "execution_count": 29,
   "metadata": {},
   "outputs": [],
   "source": [
    "mfo_table = mfo_soup.findAll('tr', attrs=None)\n",
    "mfo_table = mfo_table[2:-2]"
   ]
  },
  {
   "cell_type": "code",
   "execution_count": 30,
   "metadata": {},
   "outputs": [
    {
     "data": {
      "text/plain": [
       "<tr>\n",
       "<th>Сокращенное наименование</th>\n",
       "<td>ООО МФК \"КарМани\"</td>\n",
       "</tr>"
      ]
     },
     "execution_count": 30,
     "metadata": {},
     "output_type": "execute_result"
    }
   ],
   "source": [
    "mfo_table[1]"
   ]
  },
  {
   "cell_type": "code",
   "execution_count": 31,
   "metadata": {},
   "outputs": [],
   "source": [
    "field_name = str(mfo_table[0]).split('<th>')[1].split('</th>')[0]"
   ]
  },
  {
   "cell_type": "code",
   "execution_count": 32,
   "metadata": {},
   "outputs": [
    {
     "data": {
      "text/plain": [
       "'Торговая марка'"
      ]
     },
     "execution_count": 32,
     "metadata": {},
     "output_type": "execute_result"
    }
   ],
   "source": [
    "field_name"
   ]
  },
  {
   "cell_type": "code",
   "execution_count": 33,
   "metadata": {},
   "outputs": [],
   "source": [
    "field_value = str(mfo_table[0]).split('<td>')[1].split('</td>')[0]"
   ]
  },
  {
   "cell_type": "code",
   "execution_count": 34,
   "metadata": {},
   "outputs": [
    {
     "data": {
      "text/plain": [
       "'Car Money'"
      ]
     },
     "execution_count": 34,
     "metadata": {},
     "output_type": "execute_result"
    }
   ],
   "source": [
    "field_value"
   ]
  },
  {
   "cell_type": "code",
   "execution_count": 35,
   "metadata": {},
   "outputs": [],
   "source": [
    "d_mfo = dict()"
   ]
  },
  {
   "cell_type": "code",
   "execution_count": 36,
   "metadata": {},
   "outputs": [],
   "source": [
    "for i in range(len(mfo_table)):\n",
    "    field_name = str(mfo_table[i]).split('<th>')[1].split('</th>')[0]\n",
    "    field_value = str(mfo_table[i]).split('<td>')[1].split('</td>')[0]\n",
    "    d_mfo[field_name] = field_value"
   ]
  },
  {
   "cell_type": "code",
   "execution_count": 37,
   "metadata": {},
   "outputs": [
    {
     "data": {
      "text/plain": [
       "{'Торговая марка': 'Car Money',\n",
       " 'Сокращенное наименование': 'ООО МФК \"КарМани\"',\n",
       " 'Полное наименование': 'Общество с ограниченной ответственностью Микрофинансовая компания \"КарМани\"',\n",
       " 'Тип': '\\r\\n                         Микрофинансовая компания                     ',\n",
       " 'Организационно-правовая форма': 'Общество с ограниченной ответственностью (ООО)',\n",
       " 'Регистрационный номер ЦБ': '220177000471',\n",
       " 'Статус': '\\n<div class=\"bank-status-1\">Действующая организация</div>\\n',\n",
       " 'Порядковый номер записи в реестре': '000471',\n",
       " 'Номер выданного бланка свидетельства': '0000311',\n",
       " '\\r\\n Регион                 ': '<a href=\"/mfo-moskvy/\">Москва</a>',\n",
       " 'Дата внесения сведений в государственный реестр МФО': '25.10.2011',\n",
       " 'Собственник(и)': '<a href=\"/mfo/karmani/vladelcy/\">Список акционеров</a>',\n",
       " 'Членство в СРО': '\\n<a href=\"/mikrofinansovye-organizacii-mfo/gosudarstvennyj-reestr-sro-mikrofinansovyh-organizacij/mir/\">МиР</a> ',\n",
       " 'Руководитель': '\\r\\n                        Калугина Анна Александровна (генеральный директор)\\r\\n                            (дата последнего обновления информации: 24 февраля 2020 г.)\\r\\n                    ',\n",
       " 'Адрес': '119019, г Москва, р-н Арбат, ул Воздвиженка, д 9 стр 2, пом 1',\n",
       " '\\r\\n                                Телефоны\\r\\n                        ': '88001003880<br/> 84992202020',\n",
       " 'Официальный сайт': '<a href=\"http://www.carmoney.ru/\" rel=\"nofollow\" target=\"_blank\">www.carmoney.ru</a>',\n",
       " 'Электронная почта': '<a href=\"mailto:info@carmoney.ru\">info@carmoney.ru</a>',\n",
       " 'ОГРН': '1107746915781',\n",
       " 'ИНН': '7730634468',\n",
       " 'КПП': '770401001',\n",
       " 'ОКОПФ': '2',\n",
       " 'ОКЭР': '01',\n",
       " 'ОКАТО': '77'}"
      ]
     },
     "execution_count": 37,
     "metadata": {},
     "output_type": "execute_result"
    }
   ],
   "source": [
    "d_mfo"
   ]
  },
  {
   "cell_type": "code",
   "execution_count": 38,
   "metadata": {},
   "outputs": [
    {
     "data": {
      "text/html": [
       "<div>\n",
       "<style scoped>\n",
       "    .dataframe tbody tr th:only-of-type {\n",
       "        vertical-align: middle;\n",
       "    }\n",
       "\n",
       "    .dataframe tbody tr th {\n",
       "        vertical-align: top;\n",
       "    }\n",
       "\n",
       "    .dataframe thead th {\n",
       "        text-align: right;\n",
       "    }\n",
       "</style>\n",
       "<table border=\"1\" class=\"dataframe\">\n",
       "  <thead>\n",
       "    <tr style=\"text-align: right;\">\n",
       "      <th></th>\n",
       "      <th>MFO_name</th>\n",
       "      <th>url</th>\n",
       "      <th>responsible</th>\n",
       "      <th>actual_date</th>\n",
       "    </tr>\n",
       "  </thead>\n",
       "  <tbody>\n",
       "    <tr>\n",
       "      <th>0</th>\n",
       "      <td>Car Money (МФК \"КарМани\")</td>\n",
       "      <td>https://www.bankodrom.ru/mfo/karmani/rekvizity/</td>\n",
       "      <td>Калугина Анна Александровна (генеральный дирек...</td>\n",
       "      <td>24.02.2020</td>\n",
       "    </tr>\n",
       "    <tr>\n",
       "      <th>1</th>\n",
       "      <td>CashToYou (МКК \"Ван Клик Мани\")</td>\n",
       "      <td>https://www.bankodrom.ru/mfo/van-klik-mani/rek...</td>\n",
       "      <td>Касьяненко Максим Викторович (директор)</td>\n",
       "      <td>01.05.2019</td>\n",
       "    </tr>\n",
       "    <tr>\n",
       "      <th>2</th>\n",
       "      <td>Credit Star (МКК \"Хорошая история\")</td>\n",
       "      <td>https://www.bankodrom.ru/mfo/kredit-star/rekvi...</td>\n",
       "      <td>Максимова Екатерина Николаевна (генеральный ди...</td>\n",
       "      <td>01.05.2019</td>\n",
       "    </tr>\n",
       "    <tr>\n",
       "      <th>3</th>\n",
       "      <td>Credit.Club (МКК \"Магазин кредитов\")</td>\n",
       "      <td>https://www.bankodrom.ru/mfo/credit.club/rekvi...</td>\n",
       "      <td>Кивраиди Валерия Владимировна (директор)</td>\n",
       "      <td>28.05.2019</td>\n",
       "    </tr>\n",
       "    <tr>\n",
       "      <th>4</th>\n",
       "      <td>Ezaem (МФК \"Веритас\")</td>\n",
       "      <td>https://www.bankodrom.ru/mfo/ezaem/rekvizity/</td>\n",
       "      <td>Торосянс Ашотс (генеральный директор)</td>\n",
       "      <td>29.01.2020</td>\n",
       "    </tr>\n",
       "  </tbody>\n",
       "</table>\n",
       "</div>"
      ],
      "text/plain": [
       "                               MFO_name  \\\n",
       "0             Car Money (МФК \"КарМани\")   \n",
       "1       CashToYou (МКК \"Ван Клик Мани\")   \n",
       "2   Credit Star (МКК \"Хорошая история\")   \n",
       "3  Credit.Club (МКК \"Магазин кредитов\")   \n",
       "4                 Ezaem (МФК \"Веритас\")   \n",
       "\n",
       "                                                 url  \\\n",
       "0    https://www.bankodrom.ru/mfo/karmani/rekvizity/   \n",
       "1  https://www.bankodrom.ru/mfo/van-klik-mani/rek...   \n",
       "2  https://www.bankodrom.ru/mfo/kredit-star/rekvi...   \n",
       "3  https://www.bankodrom.ru/mfo/credit.club/rekvi...   \n",
       "4      https://www.bankodrom.ru/mfo/ezaem/rekvizity/   \n",
       "\n",
       "                                         responsible actual_date  \n",
       "0  Калугина Анна Александровна (генеральный дирек...  24.02.2020  \n",
       "1            Касьяненко Максим Викторович (директор)  01.05.2019  \n",
       "2  Максимова Екатерина Николаевна (генеральный ди...  01.05.2019  \n",
       "3           Кивраиди Валерия Владимировна (директор)  28.05.2019  \n",
       "4              Торосянс Ашотс (генеральный директор)  29.01.2020  "
      ]
     },
     "execution_count": 38,
     "metadata": {},
     "output_type": "execute_result"
    }
   ],
   "source": [
    "data_mfo.head()"
   ]
  },
  {
   "cell_type": "code",
   "execution_count": 39,
   "metadata": {},
   "outputs": [],
   "source": [
    "data_mfo['Торговая марка'] = ''\n",
    "data_mfo['Сокращенное наименование'] = ''\n",
    "data_mfo['Полное наименование'] = ''\n",
    "data_mfo['Тип'] = ''\n",
    "data_mfo['Организационно-правовая форма'] = ''\n",
    "data_mfo['Уставный капитал'] = ''\n",
    "data_mfo['Регистрационный номер ЦБ'] = ''\n",
    "data_mfo['Статус'] = ''\n",
    "data_mfo['Порядковый номер записи в реестре'] = ''\n",
    "data_mfo['Номер выданного бланка свидетельства'] = ''\n",
    "data_mfo['\\r\\n Регион                 '] = ''\n",
    "data_mfo['Дата внесения сведений в государственный реестр МФО'] = ''\n",
    "data_mfo['Собственник(и)'] = ''\n",
    "data_mfo['Членство в СРО'] = ''\n",
    "data_mfo['Руководитель'] = ''\n",
    "data_mfo['Адрес'] = ''\n",
    "data_mfo['Фактический адрес'] = ''\n",
    "data_mfo['Юридический адрес'] = ''\n",
    "data_mfo['\\r\\n                                Телефоны\\r\\n                        '] = ''\n",
    "data_mfo['\\r\\n                                Телефон\\r\\n                        '] = ''\n",
    "data_mfo['Официальный сайт'] = ''\n",
    "data_mfo['Другие веб-сайты'] = ''\n",
    "data_mfo['Электронная почта'] = ''\n",
    "data_mfo['ОГРН'] = ''\n",
    "data_mfo['ИНН'] = ''\n",
    "data_mfo['КПП'] = ''\n",
    "data_mfo['ОКОПФ'] = ''\n",
    "data_mfo['ОКЭР'] = ''\n",
    "data_mfo['ОКАТО'] = ''\n"
   ]
  },
  {
   "cell_type": "code",
   "execution_count": 40,
   "metadata": {},
   "outputs": [],
   "source": [
    "for key in d_mfo:\n",
    "    data_mfo[key][0] = d_mfo[key]"
   ]
  },
  {
   "cell_type": "code",
   "execution_count": 41,
   "metadata": {},
   "outputs": [
    {
     "data": {
      "text/html": [
       "<div>\n",
       "<style scoped>\n",
       "    .dataframe tbody tr th:only-of-type {\n",
       "        vertical-align: middle;\n",
       "    }\n",
       "\n",
       "    .dataframe tbody tr th {\n",
       "        vertical-align: top;\n",
       "    }\n",
       "\n",
       "    .dataframe thead th {\n",
       "        text-align: right;\n",
       "    }\n",
       "</style>\n",
       "<table border=\"1\" class=\"dataframe\">\n",
       "  <thead>\n",
       "    <tr style=\"text-align: right;\">\n",
       "      <th></th>\n",
       "      <th>MFO_name</th>\n",
       "      <th>url</th>\n",
       "      <th>responsible</th>\n",
       "      <th>actual_date</th>\n",
       "      <th>Торговая марка</th>\n",
       "      <th>Сокращенное наименование</th>\n",
       "      <th>Полное наименование</th>\n",
       "      <th>Тип</th>\n",
       "      <th>Организационно-правовая форма</th>\n",
       "      <th>Уставный капитал</th>\n",
       "      <th>Регистрационный номер ЦБ</th>\n",
       "      <th>Статус</th>\n",
       "      <th>Порядковый номер записи в реестре</th>\n",
       "      <th>Номер выданного бланка свидетельства</th>\n",
       "      <th>\\r\\n Регион</th>\n",
       "      <th>Дата внесения сведений в государственный реестр МФО</th>\n",
       "      <th>Собственник(и)</th>\n",
       "      <th>Членство в СРО</th>\n",
       "      <th>Руководитель</th>\n",
       "      <th>Адрес</th>\n",
       "      <th>Фактический адрес</th>\n",
       "      <th>Юридический адрес</th>\n",
       "      <th>\\r\\n                                Телефоны\\r\\n</th>\n",
       "      <th>\\r\\n                                Телефон\\r\\n</th>\n",
       "      <th>Официальный сайт</th>\n",
       "      <th>Другие веб-сайты</th>\n",
       "      <th>Электронная почта</th>\n",
       "      <th>ОГРН</th>\n",
       "      <th>ИНН</th>\n",
       "      <th>КПП</th>\n",
       "      <th>ОКОПФ</th>\n",
       "      <th>ОКЭР</th>\n",
       "      <th>ОКАТО</th>\n",
       "    </tr>\n",
       "  </thead>\n",
       "  <tbody>\n",
       "    <tr>\n",
       "      <th>0</th>\n",
       "      <td>Car Money (МФК \"КарМани\")</td>\n",
       "      <td>https://www.bankodrom.ru/mfo/karmani/rekvizity/</td>\n",
       "      <td>Калугина Анна Александровна (генеральный дирек...</td>\n",
       "      <td>24.02.2020</td>\n",
       "      <td>Car Money</td>\n",
       "      <td>ООО МФК \"КарМани\"</td>\n",
       "      <td>Общество с ограниченной ответственностью Микро...</td>\n",
       "      <td>\\r\\n                         Микрофинансовая к...</td>\n",
       "      <td>Общество с ограниченной ответственностью (ООО)</td>\n",
       "      <td></td>\n",
       "      <td>220177000471</td>\n",
       "      <td>\\n&lt;div class=\"bank-status-1\"&gt;Действующая орган...</td>\n",
       "      <td>000471</td>\n",
       "      <td>0000311</td>\n",
       "      <td>&lt;a href=\"/mfo-moskvy/\"&gt;Москва&lt;/a&gt;</td>\n",
       "      <td>25.10.2011</td>\n",
       "      <td>&lt;a href=\"/mfo/karmani/vladelcy/\"&gt;Список акцион...</td>\n",
       "      <td>\\n&lt;a href=\"/mikrofinansovye-organizacii-mfo/go...</td>\n",
       "      <td>\\r\\n                        Калугина Анна Алек...</td>\n",
       "      <td>119019, г Москва, р-н Арбат, ул Воздвиженка, д...</td>\n",
       "      <td></td>\n",
       "      <td></td>\n",
       "      <td>88001003880&lt;br/&gt; 84992202020</td>\n",
       "      <td></td>\n",
       "      <td>&lt;a href=\"http://www.carmoney.ru/\" rel=\"nofollo...</td>\n",
       "      <td></td>\n",
       "      <td>&lt;a href=\"mailto:info@carmoney.ru\"&gt;info@carmone...</td>\n",
       "      <td>1107746915781</td>\n",
       "      <td>7730634468</td>\n",
       "      <td>770401001</td>\n",
       "      <td>2</td>\n",
       "      <td>01</td>\n",
       "      <td>77</td>\n",
       "    </tr>\n",
       "    <tr>\n",
       "      <th>1</th>\n",
       "      <td>CashToYou (МКК \"Ван Клик Мани\")</td>\n",
       "      <td>https://www.bankodrom.ru/mfo/van-klik-mani/rek...</td>\n",
       "      <td>Касьяненко Максим Викторович (директор)</td>\n",
       "      <td>01.05.2019</td>\n",
       "      <td></td>\n",
       "      <td></td>\n",
       "      <td></td>\n",
       "      <td></td>\n",
       "      <td></td>\n",
       "      <td></td>\n",
       "      <td></td>\n",
       "      <td></td>\n",
       "      <td></td>\n",
       "      <td></td>\n",
       "      <td></td>\n",
       "      <td></td>\n",
       "      <td></td>\n",
       "      <td></td>\n",
       "      <td></td>\n",
       "      <td></td>\n",
       "      <td></td>\n",
       "      <td></td>\n",
       "      <td></td>\n",
       "      <td></td>\n",
       "      <td></td>\n",
       "      <td></td>\n",
       "      <td></td>\n",
       "      <td></td>\n",
       "      <td></td>\n",
       "      <td></td>\n",
       "      <td></td>\n",
       "      <td></td>\n",
       "      <td></td>\n",
       "    </tr>\n",
       "    <tr>\n",
       "      <th>2</th>\n",
       "      <td>Credit Star (МКК \"Хорошая история\")</td>\n",
       "      <td>https://www.bankodrom.ru/mfo/kredit-star/rekvi...</td>\n",
       "      <td>Максимова Екатерина Николаевна (генеральный ди...</td>\n",
       "      <td>01.05.2019</td>\n",
       "      <td></td>\n",
       "      <td></td>\n",
       "      <td></td>\n",
       "      <td></td>\n",
       "      <td></td>\n",
       "      <td></td>\n",
       "      <td></td>\n",
       "      <td></td>\n",
       "      <td></td>\n",
       "      <td></td>\n",
       "      <td></td>\n",
       "      <td></td>\n",
       "      <td></td>\n",
       "      <td></td>\n",
       "      <td></td>\n",
       "      <td></td>\n",
       "      <td></td>\n",
       "      <td></td>\n",
       "      <td></td>\n",
       "      <td></td>\n",
       "      <td></td>\n",
       "      <td></td>\n",
       "      <td></td>\n",
       "      <td></td>\n",
       "      <td></td>\n",
       "      <td></td>\n",
       "      <td></td>\n",
       "      <td></td>\n",
       "      <td></td>\n",
       "    </tr>\n",
       "    <tr>\n",
       "      <th>3</th>\n",
       "      <td>Credit.Club (МКК \"Магазин кредитов\")</td>\n",
       "      <td>https://www.bankodrom.ru/mfo/credit.club/rekvi...</td>\n",
       "      <td>Кивраиди Валерия Владимировна (директор)</td>\n",
       "      <td>28.05.2019</td>\n",
       "      <td></td>\n",
       "      <td></td>\n",
       "      <td></td>\n",
       "      <td></td>\n",
       "      <td></td>\n",
       "      <td></td>\n",
       "      <td></td>\n",
       "      <td></td>\n",
       "      <td></td>\n",
       "      <td></td>\n",
       "      <td></td>\n",
       "      <td></td>\n",
       "      <td></td>\n",
       "      <td></td>\n",
       "      <td></td>\n",
       "      <td></td>\n",
       "      <td></td>\n",
       "      <td></td>\n",
       "      <td></td>\n",
       "      <td></td>\n",
       "      <td></td>\n",
       "      <td></td>\n",
       "      <td></td>\n",
       "      <td></td>\n",
       "      <td></td>\n",
       "      <td></td>\n",
       "      <td></td>\n",
       "      <td></td>\n",
       "      <td></td>\n",
       "    </tr>\n",
       "    <tr>\n",
       "      <th>4</th>\n",
       "      <td>Ezaem (МФК \"Веритас\")</td>\n",
       "      <td>https://www.bankodrom.ru/mfo/ezaem/rekvizity/</td>\n",
       "      <td>Торосянс Ашотс (генеральный директор)</td>\n",
       "      <td>29.01.2020</td>\n",
       "      <td></td>\n",
       "      <td></td>\n",
       "      <td></td>\n",
       "      <td></td>\n",
       "      <td></td>\n",
       "      <td></td>\n",
       "      <td></td>\n",
       "      <td></td>\n",
       "      <td></td>\n",
       "      <td></td>\n",
       "      <td></td>\n",
       "      <td></td>\n",
       "      <td></td>\n",
       "      <td></td>\n",
       "      <td></td>\n",
       "      <td></td>\n",
       "      <td></td>\n",
       "      <td></td>\n",
       "      <td></td>\n",
       "      <td></td>\n",
       "      <td></td>\n",
       "      <td></td>\n",
       "      <td></td>\n",
       "      <td></td>\n",
       "      <td></td>\n",
       "      <td></td>\n",
       "      <td></td>\n",
       "      <td></td>\n",
       "      <td></td>\n",
       "    </tr>\n",
       "  </tbody>\n",
       "</table>\n",
       "</div>"
      ],
      "text/plain": [
       "                               MFO_name  \\\n",
       "0             Car Money (МФК \"КарМани\")   \n",
       "1       CashToYou (МКК \"Ван Клик Мани\")   \n",
       "2   Credit Star (МКК \"Хорошая история\")   \n",
       "3  Credit.Club (МКК \"Магазин кредитов\")   \n",
       "4                 Ezaem (МФК \"Веритас\")   \n",
       "\n",
       "                                                 url  \\\n",
       "0    https://www.bankodrom.ru/mfo/karmani/rekvizity/   \n",
       "1  https://www.bankodrom.ru/mfo/van-klik-mani/rek...   \n",
       "2  https://www.bankodrom.ru/mfo/kredit-star/rekvi...   \n",
       "3  https://www.bankodrom.ru/mfo/credit.club/rekvi...   \n",
       "4      https://www.bankodrom.ru/mfo/ezaem/rekvizity/   \n",
       "\n",
       "                                         responsible actual_date  \\\n",
       "0  Калугина Анна Александровна (генеральный дирек...  24.02.2020   \n",
       "1            Касьяненко Максим Викторович (директор)  01.05.2019   \n",
       "2  Максимова Екатерина Николаевна (генеральный ди...  01.05.2019   \n",
       "3           Кивраиди Валерия Владимировна (директор)  28.05.2019   \n",
       "4              Торосянс Ашотс (генеральный директор)  29.01.2020   \n",
       "\n",
       "  Торговая марка Сокращенное наименование  \\\n",
       "0      Car Money        ООО МФК \"КарМани\"   \n",
       "1                                           \n",
       "2                                           \n",
       "3                                           \n",
       "4                                           \n",
       "\n",
       "                                 Полное наименование  \\\n",
       "0  Общество с ограниченной ответственностью Микро...   \n",
       "1                                                      \n",
       "2                                                      \n",
       "3                                                      \n",
       "4                                                      \n",
       "\n",
       "                                                 Тип  \\\n",
       "0  \\r\\n                         Микрофинансовая к...   \n",
       "1                                                      \n",
       "2                                                      \n",
       "3                                                      \n",
       "4                                                      \n",
       "\n",
       "                    Организационно-правовая форма Уставный капитал  \\\n",
       "0  Общество с ограниченной ответственностью (ООО)                    \n",
       "1                                                                    \n",
       "2                                                                    \n",
       "3                                                                    \n",
       "4                                                                    \n",
       "\n",
       "  Регистрационный номер ЦБ                                             Статус  \\\n",
       "0             220177000471  \\n<div class=\"bank-status-1\">Действующая орган...   \n",
       "1                                                                               \n",
       "2                                                                               \n",
       "3                                                                               \n",
       "4                                                                               \n",
       "\n",
       "  Порядковый номер записи в реестре Номер выданного бланка свидетельства  \\\n",
       "0                            000471                              0000311   \n",
       "1                                                                          \n",
       "2                                                                          \n",
       "3                                                                          \n",
       "4                                                                          \n",
       "\n",
       "        \\r\\n Регион                   \\\n",
       "0  <a href=\"/mfo-moskvy/\">Москва</a>   \n",
       "1                                      \n",
       "2                                      \n",
       "3                                      \n",
       "4                                      \n",
       "\n",
       "  Дата внесения сведений в государственный реестр МФО  \\\n",
       "0                                         25.10.2011    \n",
       "1                                                       \n",
       "2                                                       \n",
       "3                                                       \n",
       "4                                                       \n",
       "\n",
       "                                      Собственник(и)  \\\n",
       "0  <a href=\"/mfo/karmani/vladelcy/\">Список акцион...   \n",
       "1                                                      \n",
       "2                                                      \n",
       "3                                                      \n",
       "4                                                      \n",
       "\n",
       "                                      Членство в СРО  \\\n",
       "0  \\n<a href=\"/mikrofinansovye-organizacii-mfo/go...   \n",
       "1                                                      \n",
       "2                                                      \n",
       "3                                                      \n",
       "4                                                      \n",
       "\n",
       "                                        Руководитель  \\\n",
       "0  \\r\\n                        Калугина Анна Алек...   \n",
       "1                                                      \n",
       "2                                                      \n",
       "3                                                      \n",
       "4                                                      \n",
       "\n",
       "                                               Адрес Фактический адрес  \\\n",
       "0  119019, г Москва, р-н Арбат, ул Воздвиженка, д...                     \n",
       "1                                                                        \n",
       "2                                                                        \n",
       "3                                                                        \n",
       "4                                                                        \n",
       "\n",
       "  Юридический адрес  \\\n",
       "0                     \n",
       "1                     \n",
       "2                     \n",
       "3                     \n",
       "4                     \n",
       "\n",
       "  \\r\\n                                Телефоны\\r\\n                          \\\n",
       "0                       88001003880<br/> 84992202020                         \n",
       "1                                                                            \n",
       "2                                                                            \n",
       "3                                                                            \n",
       "4                                                                            \n",
       "\n",
       "  \\r\\n                                Телефон\\r\\n                          \\\n",
       "0                                                                           \n",
       "1                                                                           \n",
       "2                                                                           \n",
       "3                                                                           \n",
       "4                                                                           \n",
       "\n",
       "                                    Официальный сайт Другие веб-сайты  \\\n",
       "0  <a href=\"http://www.carmoney.ru/\" rel=\"nofollo...                    \n",
       "1                                                                       \n",
       "2                                                                       \n",
       "3                                                                       \n",
       "4                                                                       \n",
       "\n",
       "                                   Электронная почта           ОГРН  \\\n",
       "0  <a href=\"mailto:info@carmoney.ru\">info@carmone...  1107746915781   \n",
       "1                                                                     \n",
       "2                                                                     \n",
       "3                                                                     \n",
       "4                                                                     \n",
       "\n",
       "          ИНН        КПП ОКОПФ ОКЭР ОКАТО  \n",
       "0  7730634468  770401001     2   01    77  \n",
       "1                                          \n",
       "2                                          \n",
       "3                                          \n",
       "4                                          "
      ]
     },
     "execution_count": 41,
     "metadata": {},
     "output_type": "execute_result"
    }
   ],
   "source": [
    "data_mfo.head()"
   ]
  },
  {
   "cell_type": "code",
   "execution_count": null,
   "metadata": {},
   "outputs": [],
   "source": []
  },
  {
   "cell_type": "code",
   "execution_count": null,
   "metadata": {},
   "outputs": [],
   "source": []
  },
  {
   "cell_type": "code",
   "execution_count": null,
   "metadata": {},
   "outputs": [],
   "source": []
  },
  {
   "cell_type": "code",
   "execution_count": 42,
   "metadata": {},
   "outputs": [],
   "source": [
    "for i in range(data_mfo.shape[0]):\n",
    "    mfo_url = data_mfo.url[i]\n",
    "    \n",
    "    mfo_page = requests.get(mfo_url)\n",
    "    mfo_soup = BeautifulSoup(mfo_page.text, 'html.parser')\n",
    "    \n",
    "    \n",
    "    mfo_table = mfo_soup.findAll('tr', attrs=None)\n",
    "    mfo_table = mfo_table[2:-2]\n",
    "    \n",
    "    d_mfo = dict()\n",
    "    \n",
    "    for j in range(len(mfo_table)):\n",
    "        field_name = str(mfo_table[j]).split('<th>')[1].split('</th>')[0]\n",
    "        field_value = str(mfo_table[j]).split('<td>')[1].split('</td>')[0]\n",
    "        d_mfo[field_name] = field_value\n",
    "        \n",
    "    for key in d_mfo:\n",
    "        data_mfo[key][i] = d_mfo[key]"
   ]
  },
  {
   "cell_type": "code",
   "execution_count": null,
   "metadata": {},
   "outputs": [],
   "source": []
  },
  {
   "cell_type": "code",
   "execution_count": 43,
   "metadata": {},
   "outputs": [
    {
     "data": {
      "text/html": [
       "<div>\n",
       "<style scoped>\n",
       "    .dataframe tbody tr th:only-of-type {\n",
       "        vertical-align: middle;\n",
       "    }\n",
       "\n",
       "    .dataframe tbody tr th {\n",
       "        vertical-align: top;\n",
       "    }\n",
       "\n",
       "    .dataframe thead th {\n",
       "        text-align: right;\n",
       "    }\n",
       "</style>\n",
       "<table border=\"1\" class=\"dataframe\">\n",
       "  <thead>\n",
       "    <tr style=\"text-align: right;\">\n",
       "      <th></th>\n",
       "      <th>MFO_name</th>\n",
       "      <th>url</th>\n",
       "      <th>responsible</th>\n",
       "      <th>actual_date</th>\n",
       "      <th>Торговая марка</th>\n",
       "      <th>Сокращенное наименование</th>\n",
       "      <th>Полное наименование</th>\n",
       "      <th>Тип</th>\n",
       "      <th>Организационно-правовая форма</th>\n",
       "      <th>Уставный капитал</th>\n",
       "      <th>Регистрационный номер ЦБ</th>\n",
       "      <th>Статус</th>\n",
       "      <th>Порядковый номер записи в реестре</th>\n",
       "      <th>Номер выданного бланка свидетельства</th>\n",
       "      <th>\\r\\n Регион</th>\n",
       "      <th>Дата внесения сведений в государственный реестр МФО</th>\n",
       "      <th>Собственник(и)</th>\n",
       "      <th>Членство в СРО</th>\n",
       "      <th>Руководитель</th>\n",
       "      <th>Адрес</th>\n",
       "      <th>Фактический адрес</th>\n",
       "      <th>Юридический адрес</th>\n",
       "      <th>\\r\\n                                Телефоны\\r\\n</th>\n",
       "      <th>\\r\\n                                Телефон\\r\\n</th>\n",
       "      <th>Официальный сайт</th>\n",
       "      <th>Другие веб-сайты</th>\n",
       "      <th>Электронная почта</th>\n",
       "      <th>ОГРН</th>\n",
       "      <th>ИНН</th>\n",
       "      <th>КПП</th>\n",
       "      <th>ОКОПФ</th>\n",
       "      <th>ОКЭР</th>\n",
       "      <th>ОКАТО</th>\n",
       "    </tr>\n",
       "  </thead>\n",
       "  <tbody>\n",
       "    <tr>\n",
       "      <th>0</th>\n",
       "      <td>Car Money (МФК \"КарМани\")</td>\n",
       "      <td>https://www.bankodrom.ru/mfo/karmani/rekvizity/</td>\n",
       "      <td>Калугина Анна Александровна (генеральный дирек...</td>\n",
       "      <td>24.02.2020</td>\n",
       "      <td>Car Money</td>\n",
       "      <td>ООО МФК \"КарМани\"</td>\n",
       "      <td>Общество с ограниченной ответственностью Микро...</td>\n",
       "      <td>\\r\\n                         Микрофинансовая к...</td>\n",
       "      <td>Общество с ограниченной ответственностью (ООО)</td>\n",
       "      <td></td>\n",
       "      <td>220177000471</td>\n",
       "      <td>\\n&lt;div class=\"bank-status-1\"&gt;Действующая орган...</td>\n",
       "      <td>000471</td>\n",
       "      <td>0000311</td>\n",
       "      <td>&lt;a href=\"/mfo-moskvy/\"&gt;Москва&lt;/a&gt;</td>\n",
       "      <td>25.10.2011</td>\n",
       "      <td>&lt;a href=\"/mfo/karmani/vladelcy/\"&gt;Список акцион...</td>\n",
       "      <td>\\n&lt;a href=\"/mikrofinansovye-organizacii-mfo/go...</td>\n",
       "      <td>\\r\\n                        Калугина Анна Алек...</td>\n",
       "      <td>119019, г Москва, р-н Арбат, ул Воздвиженка, д...</td>\n",
       "      <td></td>\n",
       "      <td></td>\n",
       "      <td>88001003880&lt;br/&gt; 84992202020</td>\n",
       "      <td></td>\n",
       "      <td>&lt;a href=\"http://www.carmoney.ru/\" rel=\"nofollo...</td>\n",
       "      <td></td>\n",
       "      <td>&lt;a href=\"mailto:info@carmoney.ru\"&gt;info@carmone...</td>\n",
       "      <td>1107746915781</td>\n",
       "      <td>7730634468</td>\n",
       "      <td>770401001</td>\n",
       "      <td>2</td>\n",
       "      <td>01</td>\n",
       "      <td>77</td>\n",
       "    </tr>\n",
       "    <tr>\n",
       "      <th>1</th>\n",
       "      <td>CashToYou (МКК \"Ван Клик Мани\")</td>\n",
       "      <td>https://www.bankodrom.ru/mfo/van-klik-mani/rek...</td>\n",
       "      <td>Касьяненко Максим Викторович (директор)</td>\n",
       "      <td>01.05.2019</td>\n",
       "      <td>CashToYou</td>\n",
       "      <td>ООО \"МКК Ван Клик Мани\"</td>\n",
       "      <td>Общество с ограниченной ответственностью \"Микр...</td>\n",
       "      <td>\\r\\n Микрокредитная компания                  ...</td>\n",
       "      <td>Общество с ограниченной ответственностью (ООО)</td>\n",
       "      <td>10 000 000 руб.</td>\n",
       "      <td>01503760006526</td>\n",
       "      <td>\\n&lt;div class=\"bank-status-1\"&gt;Действующая орган...</td>\n",
       "      <td>006526</td>\n",
       "      <td>0003283</td>\n",
       "      <td>&lt;a href=\"/mfo-rostovskoj-oblasti/\"&gt;Ростовская ...</td>\n",
       "      <td>02.06.2015</td>\n",
       "      <td>&lt;a href=\"/mfo/van-klik-mani/vladelcy/\"&gt;Список ...</td>\n",
       "      <td>\\n&lt;a href=\"/mikrofinansovye-organizacii-mfo/go...</td>\n",
       "      <td>\\r\\n                        Касьяненко Максим ...</td>\n",
       "      <td>344101, Ростовская обл, г Ростов-на-Дону, ул Л...</td>\n",
       "      <td></td>\n",
       "      <td></td>\n",
       "      <td></td>\n",
       "      <td>+7 (800) 222-89-83</td>\n",
       "      <td>&lt;a href=\"http://www.cashtoyou.ru/\" rel=\"nofoll...</td>\n",
       "      <td>&lt;a href=\"http://cashtoyou.ru/\" rel=\"nofollow\" ...</td>\n",
       "      <td>&lt;a href=\"mailto:support@cashtoyou.ru\"&gt;support@...</td>\n",
       "      <td>1156196038987</td>\n",
       "      <td>6168077734</td>\n",
       "      <td>616201001</td>\n",
       "      <td>0</td>\n",
       "      <td>037</td>\n",
       "      <td>60</td>\n",
       "    </tr>\n",
       "    <tr>\n",
       "      <th>2</th>\n",
       "      <td>Credit Star (МКК \"Хорошая история\")</td>\n",
       "      <td>https://www.bankodrom.ru/mfo/kredit-star/rekvi...</td>\n",
       "      <td>Максимова Екатерина Николаевна (генеральный ди...</td>\n",
       "      <td>01.05.2019</td>\n",
       "      <td>Credit Star</td>\n",
       "      <td>ООО МКК \"Хорошая история\"</td>\n",
       "      <td>Общество с ограниченной ответственностью Микро...</td>\n",
       "      <td>\\r\\n Микрокредитная компания                  ...</td>\n",
       "      <td>Общество с ограниченной ответственностью (ООО)</td>\n",
       "      <td></td>\n",
       "      <td>01703046008181</td>\n",
       "      <td>\\n&lt;div class=\"bank-status-1\"&gt;Действующая орган...</td>\n",
       "      <td>008181</td>\n",
       "      <td>0003518</td>\n",
       "      <td>&lt;a href=\"/mfo-samarskoj-oblasti/\"&gt;Самарская об...</td>\n",
       "      <td>29.03.2017</td>\n",
       "      <td></td>\n",
       "      <td></td>\n",
       "      <td>\\r\\n                        Максимова Екатерин...</td>\n",
       "      <td>443080, Самарская обл, г Самара, Октябрьский р...</td>\n",
       "      <td></td>\n",
       "      <td></td>\n",
       "      <td></td>\n",
       "      <td></td>\n",
       "      <td>&lt;a href=\"http://creditstar.ru/\" rel=\"nofollow\"...</td>\n",
       "      <td></td>\n",
       "      <td>&lt;a href=\"mailto:baitiul@mail.ru\"&gt;baitiul@mail....</td>\n",
       "      <td>1165024054183</td>\n",
       "      <td>5024165402</td>\n",
       "      <td>631601001</td>\n",
       "      <td>0</td>\n",
       "      <td>030</td>\n",
       "      <td>46</td>\n",
       "    </tr>\n",
       "    <tr>\n",
       "      <th>3</th>\n",
       "      <td>Credit.Club (МКК \"Магазин кредитов\")</td>\n",
       "      <td>https://www.bankodrom.ru/mfo/credit.club/rekvi...</td>\n",
       "      <td>Кивраиди Валерия Владимировна (директор)</td>\n",
       "      <td>28.05.2019</td>\n",
       "      <td></td>\n",
       "      <td>ООО МКК \"Магазин кредитов\"</td>\n",
       "      <td>Общество с ограниченной ответственностью Микро...</td>\n",
       "      <td>\\r\\n Микрокредитная компания                  ...</td>\n",
       "      <td>Общество с ограниченной ответственностью (ООО)</td>\n",
       "      <td>62 000 руб.</td>\n",
       "      <td>01303465003905</td>\n",
       "      <td>\\n&lt;div class=\"bank-status-1\"&gt;Действующая орган...</td>\n",
       "      <td>003905</td>\n",
       "      <td>0003574</td>\n",
       "      <td>&lt;a href=\"/mfo-sverdlovskoj-oblasti/\"&gt;Свердловс...</td>\n",
       "      <td>29.08.2013</td>\n",
       "      <td>&lt;a href=\"/mfo/credit.club/vladelcy/\"&gt;Список ак...</td>\n",
       "      <td>\\n&lt;a href=\"/mikrofinansovye-organizacii-mfo/go...</td>\n",
       "      <td>\\r\\n                        Кивраиди Валерия В...</td>\n",
       "      <td>620134, Свердловская обл, г Екатеринбург, Желе...</td>\n",
       "      <td></td>\n",
       "      <td></td>\n",
       "      <td></td>\n",
       "      <td></td>\n",
       "      <td>&lt;a href=\"http://www.credit.club/\" rel=\"nofollo...</td>\n",
       "      <td>&lt;a href=\"http://mk.credit.club/\" rel=\"nofollow...</td>\n",
       "      <td>&lt;a href=\"mailto:a.farlenkov@credit.club\"&gt;a.far...</td>\n",
       "      <td>1126678009380</td>\n",
       "      <td>6678014749</td>\n",
       "      <td>667801001</td>\n",
       "      <td>0</td>\n",
       "      <td>034</td>\n",
       "      <td>65</td>\n",
       "    </tr>\n",
       "    <tr>\n",
       "      <th>4</th>\n",
       "      <td>Ezaem (МФК \"Веритас\")</td>\n",
       "      <td>https://www.bankodrom.ru/mfo/ezaem/rekvizity/</td>\n",
       "      <td>Торосянс Ашотс (генеральный директор)</td>\n",
       "      <td>29.01.2020</td>\n",
       "      <td></td>\n",
       "      <td>ООО МФК \"Веритас\"</td>\n",
       "      <td>Общество с ограниченной ответственностью Микро...</td>\n",
       "      <td>\\r\\n                         Микрофинансовая к...</td>\n",
       "      <td>Общество с ограниченной ответственностью (ООО)</td>\n",
       "      <td>50 000 руб.</td>\n",
       "      <td>01303045003161</td>\n",
       "      <td>\\n&lt;div class=\"bank-status-1\"&gt;Действующая орган...</td>\n",
       "      <td>003161</td>\n",
       "      <td>0001411</td>\n",
       "      <td>&lt;a href=\"/mfo-moskvy/\"&gt;Москва&lt;/a&gt;</td>\n",
       "      <td>14.05.2013</td>\n",
       "      <td>&lt;a href=\"/mfo/ezaem/vladelcy/\"&gt;Список акционер...</td>\n",
       "      <td>\\n&lt;a href=\"/mikrofinansovye-organizacii-mfo/go...</td>\n",
       "      <td>\\r\\n                        Торосянс Ашотс (ге...</td>\n",
       "      <td>115114, г Москва, р-н Замоскворечье, ул Летник...</td>\n",
       "      <td></td>\n",
       "      <td></td>\n",
       "      <td></td>\n",
       "      <td>+7 (800) 220-99-99</td>\n",
       "      <td>&lt;a href=\"http://www.ezaem.ru/\" rel=\"nofollow\" ...</td>\n",
       "      <td>&lt;a href=\"http://ezaem.ru/\" rel=\"nofollow\" targ...</td>\n",
       "      <td>&lt;a href=\"mailto:account@ezaem.ru\"&gt;account@ezae...</td>\n",
       "      <td>1127746672130</td>\n",
       "      <td>7706780186</td>\n",
       "      <td>770501001</td>\n",
       "      <td>0</td>\n",
       "      <td>030</td>\n",
       "      <td>45</td>\n",
       "    </tr>\n",
       "  </tbody>\n",
       "</table>\n",
       "</div>"
      ],
      "text/plain": [
       "                               MFO_name  \\\n",
       "0             Car Money (МФК \"КарМани\")   \n",
       "1       CashToYou (МКК \"Ван Клик Мани\")   \n",
       "2   Credit Star (МКК \"Хорошая история\")   \n",
       "3  Credit.Club (МКК \"Магазин кредитов\")   \n",
       "4                 Ezaem (МФК \"Веритас\")   \n",
       "\n",
       "                                                 url  \\\n",
       "0    https://www.bankodrom.ru/mfo/karmani/rekvizity/   \n",
       "1  https://www.bankodrom.ru/mfo/van-klik-mani/rek...   \n",
       "2  https://www.bankodrom.ru/mfo/kredit-star/rekvi...   \n",
       "3  https://www.bankodrom.ru/mfo/credit.club/rekvi...   \n",
       "4      https://www.bankodrom.ru/mfo/ezaem/rekvizity/   \n",
       "\n",
       "                                         responsible actual_date  \\\n",
       "0  Калугина Анна Александровна (генеральный дирек...  24.02.2020   \n",
       "1            Касьяненко Максим Викторович (директор)  01.05.2019   \n",
       "2  Максимова Екатерина Николаевна (генеральный ди...  01.05.2019   \n",
       "3           Кивраиди Валерия Владимировна (директор)  28.05.2019   \n",
       "4              Торосянс Ашотс (генеральный директор)  29.01.2020   \n",
       "\n",
       "  Торговая марка    Сокращенное наименование  \\\n",
       "0      Car Money           ООО МФК \"КарМани\"   \n",
       "1      CashToYou     ООО \"МКК Ван Клик Мани\"   \n",
       "2    Credit Star   ООО МКК \"Хорошая история\"   \n",
       "3                 ООО МКК \"Магазин кредитов\"   \n",
       "4                          ООО МФК \"Веритас\"   \n",
       "\n",
       "                                 Полное наименование  \\\n",
       "0  Общество с ограниченной ответственностью Микро...   \n",
       "1  Общество с ограниченной ответственностью \"Микр...   \n",
       "2  Общество с ограниченной ответственностью Микро...   \n",
       "3  Общество с ограниченной ответственностью Микро...   \n",
       "4  Общество с ограниченной ответственностью Микро...   \n",
       "\n",
       "                                                 Тип  \\\n",
       "0  \\r\\n                         Микрофинансовая к...   \n",
       "1  \\r\\n Микрокредитная компания                  ...   \n",
       "2  \\r\\n Микрокредитная компания                  ...   \n",
       "3  \\r\\n Микрокредитная компания                  ...   \n",
       "4  \\r\\n                         Микрофинансовая к...   \n",
       "\n",
       "                    Организационно-правовая форма Уставный капитал  \\\n",
       "0  Общество с ограниченной ответственностью (ООО)                    \n",
       "1  Общество с ограниченной ответственностью (ООО)  10 000 000 руб.   \n",
       "2  Общество с ограниченной ответственностью (ООО)                    \n",
       "3  Общество с ограниченной ответственностью (ООО)      62 000 руб.   \n",
       "4  Общество с ограниченной ответственностью (ООО)      50 000 руб.   \n",
       "\n",
       "  Регистрационный номер ЦБ                                             Статус  \\\n",
       "0             220177000471  \\n<div class=\"bank-status-1\">Действующая орган...   \n",
       "1           01503760006526  \\n<div class=\"bank-status-1\">Действующая орган...   \n",
       "2           01703046008181  \\n<div class=\"bank-status-1\">Действующая орган...   \n",
       "3           01303465003905  \\n<div class=\"bank-status-1\">Действующая орган...   \n",
       "4           01303045003161  \\n<div class=\"bank-status-1\">Действующая орган...   \n",
       "\n",
       "  Порядковый номер записи в реестре Номер выданного бланка свидетельства  \\\n",
       "0                            000471                              0000311   \n",
       "1                            006526                              0003283   \n",
       "2                            008181                              0003518   \n",
       "3                            003905                              0003574   \n",
       "4                            003161                              0001411   \n",
       "\n",
       "                        \\r\\n Регион                   \\\n",
       "0                  <a href=\"/mfo-moskvy/\">Москва</a>   \n",
       "1  <a href=\"/mfo-rostovskoj-oblasti/\">Ростовская ...   \n",
       "2  <a href=\"/mfo-samarskoj-oblasti/\">Самарская об...   \n",
       "3  <a href=\"/mfo-sverdlovskoj-oblasti/\">Свердловс...   \n",
       "4                  <a href=\"/mfo-moskvy/\">Москва</a>   \n",
       "\n",
       "  Дата внесения сведений в государственный реестр МФО  \\\n",
       "0                                         25.10.2011    \n",
       "1                                         02.06.2015    \n",
       "2                                         29.03.2017    \n",
       "3                                         29.08.2013    \n",
       "4                                         14.05.2013    \n",
       "\n",
       "                                      Собственник(и)  \\\n",
       "0  <a href=\"/mfo/karmani/vladelcy/\">Список акцион...   \n",
       "1  <a href=\"/mfo/van-klik-mani/vladelcy/\">Список ...   \n",
       "2                                                      \n",
       "3  <a href=\"/mfo/credit.club/vladelcy/\">Список ак...   \n",
       "4  <a href=\"/mfo/ezaem/vladelcy/\">Список акционер...   \n",
       "\n",
       "                                      Членство в СРО  \\\n",
       "0  \\n<a href=\"/mikrofinansovye-organizacii-mfo/go...   \n",
       "1  \\n<a href=\"/mikrofinansovye-organizacii-mfo/go...   \n",
       "2                                                      \n",
       "3  \\n<a href=\"/mikrofinansovye-organizacii-mfo/go...   \n",
       "4  \\n<a href=\"/mikrofinansovye-organizacii-mfo/go...   \n",
       "\n",
       "                                        Руководитель  \\\n",
       "0  \\r\\n                        Калугина Анна Алек...   \n",
       "1  \\r\\n                        Касьяненко Максим ...   \n",
       "2  \\r\\n                        Максимова Екатерин...   \n",
       "3  \\r\\n                        Кивраиди Валерия В...   \n",
       "4  \\r\\n                        Торосянс Ашотс (ге...   \n",
       "\n",
       "                                               Адрес Фактический адрес  \\\n",
       "0  119019, г Москва, р-н Арбат, ул Воздвиженка, д...                     \n",
       "1  344101, Ростовская обл, г Ростов-на-Дону, ул Л...                     \n",
       "2  443080, Самарская обл, г Самара, Октябрьский р...                     \n",
       "3  620134, Свердловская обл, г Екатеринбург, Желе...                     \n",
       "4  115114, г Москва, р-н Замоскворечье, ул Летник...                     \n",
       "\n",
       "  Юридический адрес  \\\n",
       "0                     \n",
       "1                     \n",
       "2                     \n",
       "3                     \n",
       "4                     \n",
       "\n",
       "  \\r\\n                                Телефоны\\r\\n                          \\\n",
       "0                       88001003880<br/> 84992202020                         \n",
       "1                                                                            \n",
       "2                                                                            \n",
       "3                                                                            \n",
       "4                                                                            \n",
       "\n",
       "  \\r\\n                                Телефон\\r\\n                          \\\n",
       "0                                                                           \n",
       "1                                 +7 (800) 222-89-83                        \n",
       "2                                                                           \n",
       "3                                                                           \n",
       "4                                 +7 (800) 220-99-99                        \n",
       "\n",
       "                                    Официальный сайт  \\\n",
       "0  <a href=\"http://www.carmoney.ru/\" rel=\"nofollo...   \n",
       "1  <a href=\"http://www.cashtoyou.ru/\" rel=\"nofoll...   \n",
       "2  <a href=\"http://creditstar.ru/\" rel=\"nofollow\"...   \n",
       "3  <a href=\"http://www.credit.club/\" rel=\"nofollo...   \n",
       "4  <a href=\"http://www.ezaem.ru/\" rel=\"nofollow\" ...   \n",
       "\n",
       "                                    Другие веб-сайты  \\\n",
       "0                                                      \n",
       "1  <a href=\"http://cashtoyou.ru/\" rel=\"nofollow\" ...   \n",
       "2                                                      \n",
       "3  <a href=\"http://mk.credit.club/\" rel=\"nofollow...   \n",
       "4  <a href=\"http://ezaem.ru/\" rel=\"nofollow\" targ...   \n",
       "\n",
       "                                   Электронная почта           ОГРН  \\\n",
       "0  <a href=\"mailto:info@carmoney.ru\">info@carmone...  1107746915781   \n",
       "1  <a href=\"mailto:support@cashtoyou.ru\">support@...  1156196038987   \n",
       "2  <a href=\"mailto:baitiul@mail.ru\">baitiul@mail....  1165024054183   \n",
       "3  <a href=\"mailto:a.farlenkov@credit.club\">a.far...  1126678009380   \n",
       "4  <a href=\"mailto:account@ezaem.ru\">account@ezae...  1127746672130   \n",
       "\n",
       "          ИНН        КПП ОКОПФ ОКЭР ОКАТО  \n",
       "0  7730634468  770401001     2   01    77  \n",
       "1  6168077734  616201001     0  037    60  \n",
       "2  5024165402  631601001     0  030    46  \n",
       "3  6678014749  667801001     0  034    65  \n",
       "4  7706780186  770501001     0  030    45  "
      ]
     },
     "execution_count": 43,
     "metadata": {},
     "output_type": "execute_result"
    }
   ],
   "source": [
    "data_mfo.head()"
   ]
  },
  {
   "cell_type": "code",
   "execution_count": null,
   "metadata": {},
   "outputs": [],
   "source": []
  },
  {
   "cell_type": "code",
   "execution_count": 44,
   "metadata": {},
   "outputs": [],
   "source": [
    "result = data_mfo.copy()"
   ]
  },
  {
   "cell_type": "code",
   "execution_count": null,
   "metadata": {},
   "outputs": [],
   "source": []
  },
  {
   "cell_type": "code",
   "execution_count": 50,
   "metadata": {},
   "outputs": [],
   "source": [
    "result.to_excel('test.xlsx')"
   ]
  },
  {
   "cell_type": "code",
   "execution_count": 45,
   "metadata": {},
   "outputs": [
    {
     "data": {
      "text/plain": [
       "Index(['MFO_name', 'url', 'responsible', 'actual_date', 'Торговая марка',\n",
       "       'Сокращенное наименование', 'Полное наименование', 'Тип',\n",
       "       'Организационно-правовая форма', 'Уставный капитал',\n",
       "       'Регистрационный номер ЦБ', 'Статус',\n",
       "       'Порядковый номер записи в реестре',\n",
       "       'Номер выданного бланка свидетельства', '\\r\\n Регион                 ',\n",
       "       'Дата внесения сведений в государственный реестр МФО', 'Собственник(и)',\n",
       "       'Членство в СРО', 'Руководитель', 'Адрес', 'Фактический адрес',\n",
       "       'Юридический адрес',\n",
       "       '\\r\\n                                Телефоны\\r\\n                        ',\n",
       "       '\\r\\n                                Телефон\\r\\n                        ',\n",
       "       'Официальный сайт', 'Другие веб-сайты', 'Электронная почта', 'ОГРН',\n",
       "       'ИНН', 'КПП', 'ОКОПФ', 'ОКЭР', 'ОКАТО'],\n",
       "      dtype='object')"
      ]
     },
     "execution_count": 45,
     "metadata": {},
     "output_type": "execute_result"
    }
   ],
   "source": [
    "result.columns"
   ]
  },
  {
   "cell_type": "code",
   "execution_count": 54,
   "metadata": {},
   "outputs": [
    {
     "data": {
      "text/plain": [
       "'http://www.carmoney.ru/'"
      ]
     },
     "execution_count": 54,
     "metadata": {},
     "output_type": "execute_result"
    }
   ],
   "source": [
    "data_mfo['Официальный сайт'][0].split('\"')[1]"
   ]
  },
  {
   "cell_type": "code",
   "execution_count": 55,
   "metadata": {},
   "outputs": [],
   "source": [
    "for i in range(data_mfo.shape[0]):\n",
    "    try:\n",
    "        result['Официальный сайт'][i] = result['Официальный сайт'][i].split('\"')[1]\n",
    "    except:\n",
    "        pass"
   ]
  },
  {
   "cell_type": "code",
   "execution_count": 220,
   "metadata": {},
   "outputs": [],
   "source": [
    "#data_mfo['Официальный сайт'][6]"
   ]
  },
  {
   "cell_type": "code",
   "execution_count": 64,
   "metadata": {},
   "outputs": [],
   "source": [
    "#data_mfo['Другие веб-сайты'][0].split('\"')[1]"
   ]
  },
  {
   "cell_type": "code",
   "execution_count": 56,
   "metadata": {},
   "outputs": [],
   "source": [
    "for i in range(result.shape[0]):\n",
    "    try:\n",
    "        result['Другие веб-сайты'][i] = result['Другие веб-сайты'][i].split('\"')[1]\n",
    "    except:\n",
    "        pass"
   ]
  },
  {
   "cell_type": "code",
   "execution_count": 52,
   "metadata": {},
   "outputs": [
    {
     "data": {
      "text/plain": [
       "'info@carmoney.ru'"
      ]
     },
     "execution_count": 52,
     "metadata": {},
     "output_type": "execute_result"
    }
   ],
   "source": [
    "data_mfo['Электронная почта'][0].split('\"')[1].replace('mailto:', '')"
   ]
  },
  {
   "cell_type": "code",
   "execution_count": 49,
   "metadata": {},
   "outputs": [],
   "source": [
    "for i in range(result.shape[0]):\n",
    "    try:\n",
    "        result['Электронная почта'][i] = result['Электронная почта'][i].split('\"')[1].replace('mailto:', '')\n",
    "    except:\n",
    "        pass"
   ]
  },
  {
   "cell_type": "code",
   "execution_count": 47,
   "metadata": {},
   "outputs": [
    {
     "data": {
      "text/plain": [
       "'<a href=\"mailto:info@carmoney.ru\">info@carmoney.ru</a>'"
      ]
     },
     "execution_count": 47,
     "metadata": {},
     "output_type": "execute_result"
    }
   ],
   "source": [
    "data_mfo['Электронная почта'][0]"
   ]
  },
  {
   "cell_type": "code",
   "execution_count": null,
   "metadata": {},
   "outputs": [],
   "source": []
  },
  {
   "cell_type": "code",
   "execution_count": 61,
   "metadata": {},
   "outputs": [
    {
     "data": {
      "text/plain": [
       "'Москва'"
      ]
     },
     "execution_count": 61,
     "metadata": {},
     "output_type": "execute_result"
    }
   ],
   "source": [
    "data_mfo['\\r\\n Регион                 '][0].split('>')[1].split('<')[0]"
   ]
  },
  {
   "cell_type": "code",
   "execution_count": 62,
   "metadata": {},
   "outputs": [],
   "source": [
    "for i in range(result.shape[0]):\n",
    "    try:\n",
    "        result['\\r\\n Регион                 '][i] = result['\\r\\n Регион                 '][i].split('>')[1].split('<')[0]\n",
    "    except:\n",
    "        pass"
   ]
  },
  {
   "cell_type": "code",
   "execution_count": null,
   "metadata": {},
   "outputs": [],
   "source": []
  },
  {
   "cell_type": "code",
   "execution_count": 67,
   "metadata": {},
   "outputs": [
    {
     "data": {
      "text/plain": [
       "'Действующая организация'"
      ]
     },
     "execution_count": 67,
     "metadata": {},
     "output_type": "execute_result"
    }
   ],
   "source": [
    "data_mfo['Статус'][0].split('>')[1].split('<')[0]"
   ]
  },
  {
   "cell_type": "code",
   "execution_count": 68,
   "metadata": {},
   "outputs": [],
   "source": [
    "for i in range(result.shape[0]):\n",
    "    try:\n",
    "        result['Статус'][i] = result['Статус'][i].split('>')[1].split('<')[0]\n",
    "    except:\n",
    "        pass"
   ]
  },
  {
   "cell_type": "code",
   "execution_count": null,
   "metadata": {},
   "outputs": [],
   "source": []
  },
  {
   "cell_type": "code",
   "execution_count": 71,
   "metadata": {},
   "outputs": [
    {
     "data": {
      "text/plain": [
       "'Микрофинансовая компания'"
      ]
     },
     "execution_count": 71,
     "metadata": {},
     "output_type": "execute_result"
    }
   ],
   "source": [
    "data_mfo['Тип'][0].strip()"
   ]
  },
  {
   "cell_type": "code",
   "execution_count": 72,
   "metadata": {},
   "outputs": [],
   "source": [
    "for i in range(result.shape[0]):\n",
    "    try:\n",
    "        result['Тип'][i] = result['Тип'][i].strip()\n",
    "    except:\n",
    "        pass"
   ]
  },
  {
   "cell_type": "code",
   "execution_count": null,
   "metadata": {},
   "outputs": [],
   "source": []
  },
  {
   "cell_type": "code",
   "execution_count": 93,
   "metadata": {},
   "outputs": [
    {
     "data": {
      "text/plain": [
       "'Калугина Анна Александровна (генеральный директор)'"
      ]
     },
     "execution_count": 93,
     "metadata": {},
     "output_type": "execute_result"
    }
   ],
   "source": [
    "data_mfo['Руководитель'][0].strip().split('\\r')[0]"
   ]
  },
  {
   "cell_type": "code",
   "execution_count": 94,
   "metadata": {},
   "outputs": [],
   "source": [
    "for i in range(result.shape[0]):\n",
    "    try:\n",
    "        result['Руководитель'][i] = result['Руководитель'][i].strip().split('\\r')[0]\n",
    "    except:\n",
    "        pass"
   ]
  },
  {
   "cell_type": "code",
   "execution_count": 95,
   "metadata": {},
   "outputs": [
    {
     "data": {
      "text/html": [
       "<div>\n",
       "<style scoped>\n",
       "    .dataframe tbody tr th:only-of-type {\n",
       "        vertical-align: middle;\n",
       "    }\n",
       "\n",
       "    .dataframe tbody tr th {\n",
       "        vertical-align: top;\n",
       "    }\n",
       "\n",
       "    .dataframe thead th {\n",
       "        text-align: right;\n",
       "    }\n",
       "</style>\n",
       "<table border=\"1\" class=\"dataframe\">\n",
       "  <thead>\n",
       "    <tr style=\"text-align: right;\">\n",
       "      <th></th>\n",
       "      <th>MFO_name</th>\n",
       "      <th>url</th>\n",
       "      <th>responsible</th>\n",
       "      <th>actual_date</th>\n",
       "      <th>Торговая марка</th>\n",
       "      <th>Сокращенное наименование</th>\n",
       "      <th>Полное наименование</th>\n",
       "      <th>Тип</th>\n",
       "      <th>Организационно-правовая форма</th>\n",
       "      <th>Уставный капитал</th>\n",
       "      <th>Регистрационный номер ЦБ</th>\n",
       "      <th>Статус</th>\n",
       "      <th>Порядковый номер записи в реестре</th>\n",
       "      <th>Номер выданного бланка свидетельства</th>\n",
       "      <th>\\r\\n Регион</th>\n",
       "      <th>Дата внесения сведений в государственный реестр МФО</th>\n",
       "      <th>Собственник(и)</th>\n",
       "      <th>Членство в СРО</th>\n",
       "      <th>Руководитель</th>\n",
       "      <th>Адрес</th>\n",
       "      <th>Фактический адрес</th>\n",
       "      <th>Юридический адрес</th>\n",
       "      <th>\\r\\n                                Телефоны\\r\\n</th>\n",
       "      <th>\\r\\n                                Телефон\\r\\n</th>\n",
       "      <th>Официальный сайт</th>\n",
       "      <th>Другие веб-сайты</th>\n",
       "      <th>Электронная почта</th>\n",
       "      <th>ОГРН</th>\n",
       "      <th>ИНН</th>\n",
       "      <th>КПП</th>\n",
       "      <th>ОКОПФ</th>\n",
       "      <th>ОКЭР</th>\n",
       "      <th>ОКАТО</th>\n",
       "    </tr>\n",
       "  </thead>\n",
       "  <tbody>\n",
       "    <tr>\n",
       "      <th>0</th>\n",
       "      <td>Car Money (МФК \"КарМани\")</td>\n",
       "      <td>https://www.bankodrom.ru/mfo/karmani/rekvizity/</td>\n",
       "      <td>Калугина Анна Александровна (генеральный дирек...</td>\n",
       "      <td>24.02.2020</td>\n",
       "      <td>Car Money</td>\n",
       "      <td>ООО МФК \"КарМани\"</td>\n",
       "      <td>Общество с ограниченной ответственностью Микро...</td>\n",
       "      <td>Микрофинансовая компания</td>\n",
       "      <td>Общество с ограниченной ответственностью (ООО)</td>\n",
       "      <td></td>\n",
       "      <td>220177000471</td>\n",
       "      <td>Действующая организация</td>\n",
       "      <td>000471</td>\n",
       "      <td>0000311</td>\n",
       "      <td>Москва</td>\n",
       "      <td>25.10.2011</td>\n",
       "      <td>&lt;a href=\"/mfo/karmani/vladelcy/\"&gt;Список акцион...</td>\n",
       "      <td>\\n&lt;a href=\"/mikrofinansovye-organizacii-mfo/go...</td>\n",
       "      <td>Калугина Анна Александровна (генеральный дирек...</td>\n",
       "      <td>119019, г Москва, р-н Арбат, ул Воздвиженка, д...</td>\n",
       "      <td></td>\n",
       "      <td></td>\n",
       "      <td>88001003880&lt;br/&gt; 84992202020</td>\n",
       "      <td></td>\n",
       "      <td>http://www.carmoney.ru/</td>\n",
       "      <td></td>\n",
       "      <td>info@carmoney.ru</td>\n",
       "      <td>1107746915781</td>\n",
       "      <td>7730634468</td>\n",
       "      <td>770401001</td>\n",
       "      <td>2</td>\n",
       "      <td>01</td>\n",
       "      <td>77</td>\n",
       "    </tr>\n",
       "    <tr>\n",
       "      <th>1</th>\n",
       "      <td>CashToYou (МКК \"Ван Клик Мани\")</td>\n",
       "      <td>https://www.bankodrom.ru/mfo/van-klik-mani/rek...</td>\n",
       "      <td>Касьяненко Максим Викторович (директор)</td>\n",
       "      <td>01.05.2019</td>\n",
       "      <td>CashToYou</td>\n",
       "      <td>ООО \"МКК Ван Клик Мани\"</td>\n",
       "      <td>Общество с ограниченной ответственностью \"Микр...</td>\n",
       "      <td>Микрокредитная компания</td>\n",
       "      <td>Общество с ограниченной ответственностью (ООО)</td>\n",
       "      <td>10 000 000 руб.</td>\n",
       "      <td>01503760006526</td>\n",
       "      <td>Действующая организация</td>\n",
       "      <td>006526</td>\n",
       "      <td>0003283</td>\n",
       "      <td>Ростовская область</td>\n",
       "      <td>02.06.2015</td>\n",
       "      <td>&lt;a href=\"/mfo/van-klik-mani/vladelcy/\"&gt;Список ...</td>\n",
       "      <td>\\n&lt;a href=\"/mikrofinansovye-organizacii-mfo/go...</td>\n",
       "      <td>Касьяненко Максим Викторович (директор)</td>\n",
       "      <td>344101, Ростовская обл, г Ростов-на-Дону, ул Л...</td>\n",
       "      <td></td>\n",
       "      <td></td>\n",
       "      <td></td>\n",
       "      <td>+7 (800) 222-89-83</td>\n",
       "      <td>http://www.cashtoyou.ru/</td>\n",
       "      <td>http://cashtoyou.ru/</td>\n",
       "      <td>support@cashtoyou.ru</td>\n",
       "      <td>1156196038987</td>\n",
       "      <td>6168077734</td>\n",
       "      <td>616201001</td>\n",
       "      <td>0</td>\n",
       "      <td>037</td>\n",
       "      <td>60</td>\n",
       "    </tr>\n",
       "    <tr>\n",
       "      <th>2</th>\n",
       "      <td>Credit Star (МКК \"Хорошая история\")</td>\n",
       "      <td>https://www.bankodrom.ru/mfo/kredit-star/rekvi...</td>\n",
       "      <td>Максимова Екатерина Николаевна (генеральный ди...</td>\n",
       "      <td>01.05.2019</td>\n",
       "      <td>Credit Star</td>\n",
       "      <td>ООО МКК \"Хорошая история\"</td>\n",
       "      <td>Общество с ограниченной ответственностью Микро...</td>\n",
       "      <td>Микрокредитная компания</td>\n",
       "      <td>Общество с ограниченной ответственностью (ООО)</td>\n",
       "      <td></td>\n",
       "      <td>01703046008181</td>\n",
       "      <td>Действующая организация</td>\n",
       "      <td>008181</td>\n",
       "      <td>0003518</td>\n",
       "      <td>Самарская область</td>\n",
       "      <td>29.03.2017</td>\n",
       "      <td></td>\n",
       "      <td></td>\n",
       "      <td>Максимова Екатерина Николаевна (генеральный ди...</td>\n",
       "      <td>443080, Самарская обл, г Самара, Октябрьский р...</td>\n",
       "      <td></td>\n",
       "      <td></td>\n",
       "      <td></td>\n",
       "      <td></td>\n",
       "      <td>http://creditstar.ru/</td>\n",
       "      <td></td>\n",
       "      <td>baitiul@mail.ru</td>\n",
       "      <td>1165024054183</td>\n",
       "      <td>5024165402</td>\n",
       "      <td>631601001</td>\n",
       "      <td>0</td>\n",
       "      <td>030</td>\n",
       "      <td>46</td>\n",
       "    </tr>\n",
       "    <tr>\n",
       "      <th>3</th>\n",
       "      <td>Credit.Club (МКК \"Магазин кредитов\")</td>\n",
       "      <td>https://www.bankodrom.ru/mfo/credit.club/rekvi...</td>\n",
       "      <td>Кивраиди Валерия Владимировна (директор)</td>\n",
       "      <td>28.05.2019</td>\n",
       "      <td></td>\n",
       "      <td>ООО МКК \"Магазин кредитов\"</td>\n",
       "      <td>Общество с ограниченной ответственностью Микро...</td>\n",
       "      <td>Микрокредитная компания</td>\n",
       "      <td>Общество с ограниченной ответственностью (ООО)</td>\n",
       "      <td>62 000 руб.</td>\n",
       "      <td>01303465003905</td>\n",
       "      <td>Действующая организация</td>\n",
       "      <td>003905</td>\n",
       "      <td>0003574</td>\n",
       "      <td>Свердловская область</td>\n",
       "      <td>29.08.2013</td>\n",
       "      <td>&lt;a href=\"/mfo/credit.club/vladelcy/\"&gt;Список ак...</td>\n",
       "      <td>\\n&lt;a href=\"/mikrofinansovye-organizacii-mfo/go...</td>\n",
       "      <td>Кивраиди Валерия Владимировна (директор)</td>\n",
       "      <td>620134, Свердловская обл, г Екатеринбург, Желе...</td>\n",
       "      <td></td>\n",
       "      <td></td>\n",
       "      <td></td>\n",
       "      <td></td>\n",
       "      <td>http://www.credit.club/</td>\n",
       "      <td>http://mk.credit.club/</td>\n",
       "      <td>a.farlenkov@credit.club</td>\n",
       "      <td>1126678009380</td>\n",
       "      <td>6678014749</td>\n",
       "      <td>667801001</td>\n",
       "      <td>0</td>\n",
       "      <td>034</td>\n",
       "      <td>65</td>\n",
       "    </tr>\n",
       "    <tr>\n",
       "      <th>4</th>\n",
       "      <td>Ezaem (МФК \"Веритас\")</td>\n",
       "      <td>https://www.bankodrom.ru/mfo/ezaem/rekvizity/</td>\n",
       "      <td>Торосянс Ашотс (генеральный директор)</td>\n",
       "      <td>29.01.2020</td>\n",
       "      <td></td>\n",
       "      <td>ООО МФК \"Веритас\"</td>\n",
       "      <td>Общество с ограниченной ответственностью Микро...</td>\n",
       "      <td>Микрофинансовая компания</td>\n",
       "      <td>Общество с ограниченной ответственностью (ООО)</td>\n",
       "      <td>50 000 руб.</td>\n",
       "      <td>01303045003161</td>\n",
       "      <td>Действующая организация</td>\n",
       "      <td>003161</td>\n",
       "      <td>0001411</td>\n",
       "      <td>Москва</td>\n",
       "      <td>14.05.2013</td>\n",
       "      <td>&lt;a href=\"/mfo/ezaem/vladelcy/\"&gt;Список акционер...</td>\n",
       "      <td>\\n&lt;a href=\"/mikrofinansovye-organizacii-mfo/go...</td>\n",
       "      <td>Торосянс Ашотс (генеральный директор)</td>\n",
       "      <td>115114, г Москва, р-н Замоскворечье, ул Летник...</td>\n",
       "      <td></td>\n",
       "      <td></td>\n",
       "      <td></td>\n",
       "      <td>+7 (800) 220-99-99</td>\n",
       "      <td>http://www.ezaem.ru/</td>\n",
       "      <td>http://ezaem.ru/</td>\n",
       "      <td>account@ezaem.ru</td>\n",
       "      <td>1127746672130</td>\n",
       "      <td>7706780186</td>\n",
       "      <td>770501001</td>\n",
       "      <td>0</td>\n",
       "      <td>030</td>\n",
       "      <td>45</td>\n",
       "    </tr>\n",
       "  </tbody>\n",
       "</table>\n",
       "</div>"
      ],
      "text/plain": [
       "                               MFO_name  \\\n",
       "0             Car Money (МФК \"КарМани\")   \n",
       "1       CashToYou (МКК \"Ван Клик Мани\")   \n",
       "2   Credit Star (МКК \"Хорошая история\")   \n",
       "3  Credit.Club (МКК \"Магазин кредитов\")   \n",
       "4                 Ezaem (МФК \"Веритас\")   \n",
       "\n",
       "                                                 url  \\\n",
       "0    https://www.bankodrom.ru/mfo/karmani/rekvizity/   \n",
       "1  https://www.bankodrom.ru/mfo/van-klik-mani/rek...   \n",
       "2  https://www.bankodrom.ru/mfo/kredit-star/rekvi...   \n",
       "3  https://www.bankodrom.ru/mfo/credit.club/rekvi...   \n",
       "4      https://www.bankodrom.ru/mfo/ezaem/rekvizity/   \n",
       "\n",
       "                                         responsible actual_date  \\\n",
       "0  Калугина Анна Александровна (генеральный дирек...  24.02.2020   \n",
       "1            Касьяненко Максим Викторович (директор)  01.05.2019   \n",
       "2  Максимова Екатерина Николаевна (генеральный ди...  01.05.2019   \n",
       "3           Кивраиди Валерия Владимировна (директор)  28.05.2019   \n",
       "4              Торосянс Ашотс (генеральный директор)  29.01.2020   \n",
       "\n",
       "  Торговая марка    Сокращенное наименование  \\\n",
       "0      Car Money           ООО МФК \"КарМани\"   \n",
       "1      CashToYou     ООО \"МКК Ван Клик Мани\"   \n",
       "2    Credit Star   ООО МКК \"Хорошая история\"   \n",
       "3                 ООО МКК \"Магазин кредитов\"   \n",
       "4                          ООО МФК \"Веритас\"   \n",
       "\n",
       "                                 Полное наименование  \\\n",
       "0  Общество с ограниченной ответственностью Микро...   \n",
       "1  Общество с ограниченной ответственностью \"Микр...   \n",
       "2  Общество с ограниченной ответственностью Микро...   \n",
       "3  Общество с ограниченной ответственностью Микро...   \n",
       "4  Общество с ограниченной ответственностью Микро...   \n",
       "\n",
       "                        Тип                   Организационно-правовая форма  \\\n",
       "0  Микрофинансовая компания  Общество с ограниченной ответственностью (ООО)   \n",
       "1   Микрокредитная компания  Общество с ограниченной ответственностью (ООО)   \n",
       "2   Микрокредитная компания  Общество с ограниченной ответственностью (ООО)   \n",
       "3   Микрокредитная компания  Общество с ограниченной ответственностью (ООО)   \n",
       "4  Микрофинансовая компания  Общество с ограниченной ответственностью (ООО)   \n",
       "\n",
       "  Уставный капитал Регистрационный номер ЦБ                   Статус  \\\n",
       "0                              220177000471  Действующая организация   \n",
       "1  10 000 000 руб.           01503760006526  Действующая организация   \n",
       "2                            01703046008181  Действующая организация   \n",
       "3      62 000 руб.           01303465003905  Действующая организация   \n",
       "4      50 000 руб.           01303045003161  Действующая организация   \n",
       "\n",
       "  Порядковый номер записи в реестре Номер выданного бланка свидетельства  \\\n",
       "0                            000471                              0000311   \n",
       "1                            006526                              0003283   \n",
       "2                            008181                              0003518   \n",
       "3                            003905                              0003574   \n",
       "4                            003161                              0001411   \n",
       "\n",
       "  \\r\\n Регион                   \\\n",
       "0                       Москва   \n",
       "1           Ростовская область   \n",
       "2            Самарская область   \n",
       "3         Свердловская область   \n",
       "4                       Москва   \n",
       "\n",
       "  Дата внесения сведений в государственный реестр МФО  \\\n",
       "0                                         25.10.2011    \n",
       "1                                         02.06.2015    \n",
       "2                                         29.03.2017    \n",
       "3                                         29.08.2013    \n",
       "4                                         14.05.2013    \n",
       "\n",
       "                                      Собственник(и)  \\\n",
       "0  <a href=\"/mfo/karmani/vladelcy/\">Список акцион...   \n",
       "1  <a href=\"/mfo/van-klik-mani/vladelcy/\">Список ...   \n",
       "2                                                      \n",
       "3  <a href=\"/mfo/credit.club/vladelcy/\">Список ак...   \n",
       "4  <a href=\"/mfo/ezaem/vladelcy/\">Список акционер...   \n",
       "\n",
       "                                      Членство в СРО  \\\n",
       "0  \\n<a href=\"/mikrofinansovye-organizacii-mfo/go...   \n",
       "1  \\n<a href=\"/mikrofinansovye-organizacii-mfo/go...   \n",
       "2                                                      \n",
       "3  \\n<a href=\"/mikrofinansovye-organizacii-mfo/go...   \n",
       "4  \\n<a href=\"/mikrofinansovye-organizacii-mfo/go...   \n",
       "\n",
       "                                        Руководитель  \\\n",
       "0  Калугина Анна Александровна (генеральный дирек...   \n",
       "1            Касьяненко Максим Викторович (директор)   \n",
       "2  Максимова Екатерина Николаевна (генеральный ди...   \n",
       "3           Кивраиди Валерия Владимировна (директор)   \n",
       "4              Торосянс Ашотс (генеральный директор)   \n",
       "\n",
       "                                               Адрес Фактический адрес  \\\n",
       "0  119019, г Москва, р-н Арбат, ул Воздвиженка, д...                     \n",
       "1  344101, Ростовская обл, г Ростов-на-Дону, ул Л...                     \n",
       "2  443080, Самарская обл, г Самара, Октябрьский р...                     \n",
       "3  620134, Свердловская обл, г Екатеринбург, Желе...                     \n",
       "4  115114, г Москва, р-н Замоскворечье, ул Летник...                     \n",
       "\n",
       "  Юридический адрес  \\\n",
       "0                     \n",
       "1                     \n",
       "2                     \n",
       "3                     \n",
       "4                     \n",
       "\n",
       "  \\r\\n                                Телефоны\\r\\n                          \\\n",
       "0                       88001003880<br/> 84992202020                         \n",
       "1                                                                            \n",
       "2                                                                            \n",
       "3                                                                            \n",
       "4                                                                            \n",
       "\n",
       "  \\r\\n                                Телефон\\r\\n                          \\\n",
       "0                                                                           \n",
       "1                                 +7 (800) 222-89-83                        \n",
       "2                                                                           \n",
       "3                                                                           \n",
       "4                                 +7 (800) 220-99-99                        \n",
       "\n",
       "           Официальный сайт        Другие веб-сайты        Электронная почта  \\\n",
       "0   http://www.carmoney.ru/                                 info@carmoney.ru   \n",
       "1  http://www.cashtoyou.ru/    http://cashtoyou.ru/     support@cashtoyou.ru   \n",
       "2     http://creditstar.ru/                                  baitiul@mail.ru   \n",
       "3   http://www.credit.club/  http://mk.credit.club/  a.farlenkov@credit.club   \n",
       "4      http://www.ezaem.ru/        http://ezaem.ru/         account@ezaem.ru   \n",
       "\n",
       "            ОГРН         ИНН        КПП ОКОПФ ОКЭР ОКАТО  \n",
       "0  1107746915781  7730634468  770401001     2   01    77  \n",
       "1  1156196038987  6168077734  616201001     0  037    60  \n",
       "2  1165024054183  5024165402  631601001     0  030    46  \n",
       "3  1126678009380  6678014749  667801001     0  034    65  \n",
       "4  1127746672130  7706780186  770501001     0  030    45  "
      ]
     },
     "execution_count": 95,
     "metadata": {},
     "output_type": "execute_result"
    }
   ],
   "source": [
    "result.head()"
   ]
  },
  {
   "cell_type": "code",
   "execution_count": null,
   "metadata": {},
   "outputs": [],
   "source": []
  },
  {
   "cell_type": "code",
   "execution_count": null,
   "metadata": {},
   "outputs": [],
   "source": []
  },
  {
   "cell_type": "code",
   "execution_count": null,
   "metadata": {},
   "outputs": [],
   "source": []
  },
  {
   "cell_type": "code",
   "execution_count": 96,
   "metadata": {},
   "outputs": [],
   "source": [
    "result.to_excel('MFO.xlsx')"
   ]
  },
  {
   "cell_type": "code",
   "execution_count": null,
   "metadata": {},
   "outputs": [],
   "source": []
  }
 ],
 "metadata": {
  "kernelspec": {
   "display_name": "Python 3",
   "language": "python",
   "name": "python3"
  },
  "language_info": {
   "codemirror_mode": {
    "name": "ipython",
    "version": 3
   },
   "file_extension": ".py",
   "mimetype": "text/x-python",
   "name": "python",
   "nbconvert_exporter": "python",
   "pygments_lexer": "ipython3",
   "version": "3.7.6"
  }
 },
 "nbformat": 4,
 "nbformat_minor": 4
}

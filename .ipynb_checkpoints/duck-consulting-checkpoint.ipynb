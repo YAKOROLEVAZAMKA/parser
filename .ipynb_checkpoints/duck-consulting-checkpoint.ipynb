{
 "cells": [
  {
   "cell_type": "code",
   "execution_count": 1,
   "metadata": {},
   "outputs": [],
   "source": [
    "import numpy as np\n",
    "import pandas as pd\n",
    "import requests\n",
    "from bs4 import BeautifulSoup \n",
    "import re\n",
    "import copy"
   ]
  },
  {
   "cell_type": "code",
   "execution_count": null,
   "metadata": {},
   "outputs": [],
   "source": []
  },
  {
   "cell_type": "code",
   "execution_count": 2,
   "metadata": {},
   "outputs": [],
   "source": [
    "url = 'https://russia.duck.consulting/maps/31/2019'"
   ]
  },
  {
   "cell_type": "code",
   "execution_count": 3,
   "metadata": {},
   "outputs": [],
   "source": [
    "page = requests.get(url)"
   ]
  },
  {
   "cell_type": "code",
   "execution_count": 4,
   "metadata": {},
   "outputs": [],
   "source": [
    "soup = BeautifulSoup(page.text, 'html.parser')"
   ]
  },
  {
   "cell_type": "code",
   "execution_count": 6,
   "metadata": {},
   "outputs": [],
   "source": [
    "#soup"
   ]
  },
  {
   "cell_type": "code",
   "execution_count": 81,
   "metadata": {},
   "outputs": [],
   "source": [
    "raw_data = soup.findAll('table',{'class':'table table-hover'})"
   ]
  },
  {
   "cell_type": "code",
   "execution_count": 82,
   "metadata": {},
   "outputs": [],
   "source": [
    "#raw_data"
   ]
  },
  {
   "cell_type": "code",
   "execution_count": 83,
   "metadata": {},
   "outputs": [],
   "source": [
    "data_strip = str(raw_data).split('<tbody>')[1].split('</tbody>')[0]"
   ]
  },
  {
   "cell_type": "code",
   "execution_count": 84,
   "metadata": {},
   "outputs": [],
   "source": [
    "#data_strip"
   ]
  },
  {
   "cell_type": "code",
   "execution_count": 85,
   "metadata": {},
   "outputs": [],
   "source": [
    "data_strip2 = data_strip.replace('\\n','')"
   ]
  },
  {
   "cell_type": "code",
   "execution_count": 86,
   "metadata": {},
   "outputs": [],
   "source": [
    "#data_strip2"
   ]
  },
  {
   "cell_type": "code",
   "execution_count": 87,
   "metadata": {},
   "outputs": [],
   "source": [
    "for i in range(101):\n",
    "    temp = ' href=\"/regions/' + str(i) + '\" style=\"color: black\"'\n",
    "    data_strip2 = data_strip2.replace(temp,'')\n",
    "\n",
    "while True:\n",
    "    t1 = data_strip2.find(' style=\"white-space')\n",
    "    if t1 == -1:\n",
    "        break\n",
    "    t2 = data_strip2.find('width: 95px\"')\n",
    "    temp = data_strip2[t1: t2 + 12]\n",
    "    data_strip2 = data_strip2.replace(temp, '')\n",
    "    \n",
    "    \n",
    "#data_strip2 = data_strip2.replace(' style=\"white-space: nowrap; background: linear-gradient(90deg, rgba(250, 200, 90, 1.0) 1%, rgba(255,255,255,0) 1%); color: black; width: 95px\"','')\n",
    "#data_strip2 = data_strip2.replace(' style=\"white-space: nowrap; background: linear-gradient(90deg, rgba(172, 80, 36, 1.0) 61%, rgba(255,255,255,0) 61%); color: white; width: 95px\"','')\n",
    "#data_strip2 = data_strip2.replace(' style=\"white-space: nowrap; background: linear-gradient(90deg, rgba(193, 111, 50, 1.0) 45%, rgba(255,255,255,0) 45%); color: black; width: 95px\"','')\n",
    "#data_strip2 = data_strip2.replace(' style=\"white-space: nowrap; background: linear-gradient(90deg, rgba(121, 0, 1, 1.0) 100%, rgba(255,255,255,0) 100%); color: white; width: 95px\"','')"
   ]
  },
  {
   "cell_type": "code",
   "execution_count": 88,
   "metadata": {},
   "outputs": [],
   "source": [
    "data_strip2 = data_strip2.replace('<a>','')\n",
    "data_strip2 = data_strip2.replace('</a>','')\n",
    "data_strip2 = data_strip2.replace('<tr>','')\n",
    "data_strip2 = data_strip2.replace('</tr>','')\n",
    "data_strip2 = data_strip2.replace('</td>','')"
   ]
  },
  {
   "cell_type": "code",
   "execution_count": 89,
   "metadata": {},
   "outputs": [],
   "source": [
    "#data_strip2"
   ]
  },
  {
   "cell_type": "code",
   "execution_count": 90,
   "metadata": {},
   "outputs": [],
   "source": [
    "data = data_strip2.split('<td>')\n",
    "data = [x for x in data if x]"
   ]
  },
  {
   "cell_type": "code",
   "execution_count": 91,
   "metadata": {},
   "outputs": [],
   "source": [
    "for i in range(len(data)):\n",
    "    data[i] = data[i].strip()\n",
    "    "
   ]
  },
  {
   "cell_type": "code",
   "execution_count": 92,
   "metadata": {},
   "outputs": [],
   "source": [
    "#data"
   ]
  },
  {
   "cell_type": "code",
   "execution_count": 96,
   "metadata": {},
   "outputs": [],
   "source": [
    "stat_data = []\n",
    "\n",
    "for j in range(0, len(data), 3):\n",
    "    rank = int(data[j])\n",
    "    region_name = data[j + 1]\n",
    "    people = int(data[j + 2].replace(' ',''))\n",
    "    everything = (rank, region_name, people)\n",
    "    stat_data.append(everything)\n"
   ]
  },
  {
   "cell_type": "code",
   "execution_count": 97,
   "metadata": {},
   "outputs": [
    {
     "data": {
      "text/plain": [
       "[(1, 'Москва', 12615279),\n",
       " (2, 'Московская область', 7599647),\n",
       " (3, 'Краснодарский край', 5648235),\n",
       " (4, 'Санкт-Петербург', 5383890),\n",
       " (5, 'Свердловская область', 4315699),\n",
       " (6, 'Ростовская область', 4202320),\n",
       " (7, 'Башкортостан', 4051005),\n",
       " (8, 'Татарстан', 3898628),\n",
       " (9, 'Челябинская область', 3475753),\n",
       " (10, 'Нижегородская область', 3214623),\n",
       " (11, 'Самарская область', 3183038),\n",
       " (12, 'Дагестан', 3086126),\n",
       " (13, 'Красноярский край', 2874026),\n",
       " (14, 'Ставропольский край', 2795243),\n",
       " (15, 'Новосибирская область', 2793384),\n",
       " (16, 'Кемеровская область', 2674256),\n",
       " (17, 'Пермский край', 2610800),\n",
       " (18, 'Волгоградская область', 2507509),\n",
       " (19, 'Саратовская область', 2440815),\n",
       " (20, 'Иркутская область', 2397763),\n",
       " (21, 'Алтайский край', 2332813),\n",
       " (22, 'Воронежская область', 2327821),\n",
       " (23, 'Оренбургская область', 1963007),\n",
       " (24, 'Омская область', 1944195),\n",
       " (25, 'Крым', 1911818),\n",
       " (26, 'Приморский край', 1902718),\n",
       " (27, 'Ленинградская область', 1847867),\n",
       " (28, 'Ханты-Мансийский автономный округ', 1663795),\n",
       " (29, 'Белгородская область', 1547418),\n",
       " (30, 'Тюменская область', 1518695),\n",
       " (31, 'Удмуртия', 1507390),\n",
       " (32, 'Тульская область', 1478818),\n",
       " (33, 'Чечня', 1456951),\n",
       " (34, 'Владимирская область', 1365805),\n",
       " (35, 'Хабаровский край', 1321473),\n",
       " (36, 'Пензенская область', 1318103),\n",
       " (37, 'Кировская область', 1272109),\n",
       " (38, 'Тверская область', 1269636),\n",
       " (39, 'Ярославская область', 1259612),\n",
       " (40, 'Ульяновская область', 1238416),\n",
       " (41, 'Чувашия', 1223395),\n",
       " (42, 'Брянская область', 1200187),\n",
       " (43, 'Вологодская область', 1167713),\n",
       " (44, 'Липецкая область', 1144035),\n",
       " (45, 'Рязанская область', 1114137),\n",
       " (46, 'Курская область', 1107041),\n",
       " (47, 'Архангельская область', 1100290),\n",
       " (48, 'Томская область', 1077442),\n",
       " (49, 'Забайкальский край', 1065785),\n",
       " (50, 'Тамбовская область', 1015966),\n",
       " (51, 'Астраханская область', 1014065),\n",
       " (52, 'Калужская область', 1009380),\n",
       " (53, 'Ивановская область', 1004180),\n",
       " (54, 'Калининградская область', 1002187),\n",
       " (55, 'Бурятия', 983273),\n",
       " (56, 'Якутия', 967009),\n",
       " (57, 'Смоленская область', 942363),\n",
       " (58, 'Кабардино-Балкария', 866219),\n",
       " (59, 'Курганская область', 834701),\n",
       " (60, 'Республика Коми', 830235),\n",
       " (61, 'Мордовия', 795504),\n",
       " (62, 'Амурская область', 793194),\n",
       " (63, 'Мурманская область', 748056),\n",
       " (64, 'Орловская область', 739467),\n",
       " (65, 'Северная Осетия', 699253),\n",
       " (66, 'Марий Эл', 680380),\n",
       " (67, 'Костромская область', 637267),\n",
       " (68, 'Псковская область', 629651),\n",
       " (69, 'Карелия', 618056),\n",
       " (70, 'Новгородская область', 600296),\n",
       " (71, 'Ямало-Ненецкий автономный округ', 541479),\n",
       " (72, 'Хакасия', 536167),\n",
       " (73, 'Ингушетия', 497393),\n",
       " (74, 'Сахалинская область', 489638),\n",
       " (75, 'Карачаево-Черкесия', 465563),\n",
       " (76, 'Адыгея', 454744),\n",
       " (77, 'Севастополь', 443212),\n",
       " (78, 'Республика Тыва', 324423),\n",
       " (79, 'Камчатский край', 314723),\n",
       " (80, 'Калмыкия', 272647),\n",
       " (81, 'Республика Алтай', 218866),\n",
       " (82, 'Еврейская автономная область', 159913),\n",
       " (83, 'Магаданская область', 141234),\n",
       " (84, 'Чукотский автономный округ', 49663),\n",
       " (85, 'Ненецкий автономный округ', 43829)]"
      ]
     },
     "execution_count": 97,
     "metadata": {},
     "output_type": "execute_result"
    }
   ],
   "source": [
    "stat_data"
   ]
  },
  {
   "cell_type": "code",
   "execution_count": null,
   "metadata": {},
   "outputs": [],
   "source": []
  },
  {
   "cell_type": "code",
   "execution_count": 98,
   "metadata": {},
   "outputs": [],
   "source": [
    "df = pd.DataFrame(stat_data)\n",
    "\n",
    "real_columns = ['N', 'RegionName', 'People']\n",
    "df.columns = real_columns"
   ]
  },
  {
   "cell_type": "code",
   "execution_count": 100,
   "metadata": {},
   "outputs": [],
   "source": [
    "#df"
   ]
  },
  {
   "cell_type": "code",
   "execution_count": null,
   "metadata": {},
   "outputs": [],
   "source": []
  },
  {
   "cell_type": "markdown",
   "metadata": {},
   "source": [
    "## DUCK-CONSULTING"
   ]
  },
  {
   "cell_type": "code",
   "execution_count": 101,
   "metadata": {},
   "outputs": [],
   "source": [
    "import numpy as np\n",
    "import pandas as pd\n",
    "import requests\n",
    "from bs4 import BeautifulSoup \n",
    "import re\n",
    "import copy\n",
    "\n",
    "years = ['2017', '2018', '2019']\n",
    "year2017 = []\n",
    "year2018 = []\n",
    "year2019 = []\n",
    "k = 2017\n",
    "\n",
    "\n",
    "for y in years:\n",
    "    url = 'https://russia.duck.consulting/maps/31/' + y\n",
    "    page = requests.get(url)\n",
    "    soup = BeautifulSoup(page.text, 'html.parser')\n",
    "    \n",
    "    raw_data = soup.findAll('table',{'class':'table table-hover'})\n",
    "    data_strip = str(raw_data).split('<tbody>')[1].split('</tbody>')[0]\n",
    "    data_strip2 = data_strip.replace('\\n','')\n",
    "    \n",
    "    \n",
    "    for i in range(101):\n",
    "        temp = ' href=\"/regions/' + str(i) + '\" style=\"color: black\"'\n",
    "        data_strip2 = data_strip2.replace(temp,'')\n",
    "\n",
    "    while True:\n",
    "        t1 = data_strip2.find(' style=\"white-space')\n",
    "        if t1 == -1:\n",
    "            break\n",
    "        t2 = data_strip2.find('width: 95px\"')\n",
    "        temp = data_strip2[t1: t2 + 12]\n",
    "        data_strip2 = data_strip2.replace(temp, '')\n",
    "        \n",
    "        \n",
    "    data_strip2 = data_strip2.replace('<a>','')\n",
    "    data_strip2 = data_strip2.replace('</a>','')\n",
    "    data_strip2 = data_strip2.replace('<tr>','')\n",
    "    data_strip2 = data_strip2.replace('</tr>','')\n",
    "    data_strip2 = data_strip2.replace('</td>','')\n",
    "    \n",
    "    data = data_strip2.split('<td>')\n",
    "    data = [x for x in data if x]\n",
    "    \n",
    "    \n",
    "    for i in range(len(data)):\n",
    "        data[i] = data[i].strip()\n",
    "        \n",
    "    stat_data = []\n",
    "\n",
    "    for j in range(0, len(data), 3):\n",
    "        rank = int(data[j])\n",
    "        region_name = data[j + 1]\n",
    "        people = int(data[j + 2].replace(' ',''))\n",
    "        everything = (rank, region_name, people)\n",
    "        stat_data.append(everything)\n",
    "        \n",
    "    if k == 2017:\n",
    "        year2017 = copy.deepcopy(stat_data)\n",
    "        k += 1\n",
    "    elif k == 2018:\n",
    "        year2018 = copy.deepcopy(stat_data)\n",
    "        k += 1\n",
    "    elif k == 2019:\n",
    "        year2019 = copy.deepcopy(stat_data)\n",
    "        k += 1\n",
    "\n",
    "\n",
    "real_columns = ['N', 'RegionName', 'People']\n",
    "\n",
    "df2017 = pd.DataFrame(year2017)\n",
    "df2017.columns = real_columns\n",
    "df2017['year'] = 2017\n",
    "\n",
    "df2018 = pd.DataFrame(year2018)\n",
    "df2018.columns = real_columns\n",
    "df2018['year'] = 2018\n",
    "\n",
    "df2019 = pd.DataFrame(year2019)\n",
    "df2019.columns = real_columns\n",
    "df2019['year'] = 2019"
   ]
  },
  {
   "cell_type": "code",
   "execution_count": null,
   "metadata": {},
   "outputs": [],
   "source": []
  },
  {
   "cell_type": "code",
   "execution_count": 102,
   "metadata": {},
   "outputs": [],
   "source": [
    "file_name = 'duck-consulting.xlsx'\n",
    "writer = pd.ExcelWriter(file_name, engine='xlsxwriter')\n",
    "df2017.to_excel(writer, sheet_name='2017', index=False)\n",
    "df2018.to_excel(writer, sheet_name='2018', index=False)\n",
    "df2019.to_excel(writer, sheet_name='2019', index=False)\n",
    "writer.save()"
   ]
  },
  {
   "cell_type": "code",
   "execution_count": null,
   "metadata": {},
   "outputs": [],
   "source": []
  },
  {
   "cell_type": "code",
   "execution_count": null,
   "metadata": {},
   "outputs": [],
   "source": []
  },
  {
   "cell_type": "code",
   "execution_count": null,
   "metadata": {},
   "outputs": [],
   "source": []
  },
  {
   "cell_type": "code",
   "execution_count": null,
   "metadata": {},
   "outputs": [],
   "source": []
  }
 ],
 "metadata": {
  "kernelspec": {
   "display_name": "Python 3",
   "language": "python",
   "name": "python3"
  },
  "language_info": {
   "codemirror_mode": {
    "name": "ipython",
    "version": 3
   },
   "file_extension": ".py",
   "mimetype": "text/x-python",
   "name": "python",
   "nbconvert_exporter": "python",
   "pygments_lexer": "ipython3",
   "version": "3.7.3"
  }
 },
 "nbformat": 4,
 "nbformat_minor": 2
}

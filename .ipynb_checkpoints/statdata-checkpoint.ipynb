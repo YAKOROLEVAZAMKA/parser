{
 "cells": [
  {
   "cell_type": "code",
   "execution_count": 9,
   "metadata": {},
   "outputs": [],
   "source": [
    "import numpy as np\n",
    "import pandas as pd\n",
    "import requests\n",
    "from bs4 import BeautifulSoup \n",
    "import re"
   ]
  },
  {
   "cell_type": "code",
   "execution_count": 10,
   "metadata": {},
   "outputs": [],
   "source": [
    "url = 'http://www.statdata.ru/largest_regions_russia'"
   ]
  },
  {
   "cell_type": "code",
   "execution_count": 11,
   "metadata": {},
   "outputs": [],
   "source": [
    "page = requests.get(url)"
   ]
  },
  {
   "cell_type": "code",
   "execution_count": 12,
   "metadata": {},
   "outputs": [],
   "source": [
    "soup = BeautifulSoup(page.text, 'html.parser')"
   ]
  },
  {
   "cell_type": "code",
   "execution_count": 13,
   "metadata": {},
   "outputs": [],
   "source": [
    "#soup"
   ]
  },
  {
   "cell_type": "code",
   "execution_count": 14,
   "metadata": {},
   "outputs": [],
   "source": [
    "#reg = soup.findAll('b', attrs=None)"
   ]
  },
  {
   "cell_type": "code",
   "execution_count": 15,
   "metadata": {},
   "outputs": [],
   "source": [
    "#reg"
   ]
  },
  {
   "cell_type": "code",
   "execution_count": 16,
   "metadata": {},
   "outputs": [],
   "source": [
    "#reg2 = soup.findAll('i', attrs=None)"
   ]
  },
  {
   "cell_type": "code",
   "execution_count": 17,
   "metadata": {},
   "outputs": [],
   "source": [
    "#reg2"
   ]
  },
  {
   "cell_type": "code",
   "execution_count": 18,
   "metadata": {},
   "outputs": [],
   "source": [
    "reg3 = soup.findAll('td', attrs=None)"
   ]
  },
  {
   "cell_type": "code",
   "execution_count": 20,
   "metadata": {},
   "outputs": [],
   "source": [
    "#reg3"
   ]
  },
  {
   "cell_type": "code",
   "execution_count": 42,
   "metadata": {},
   "outputs": [],
   "source": [
    "reg2 = str(reg3).split('/div></div></td>,')[1].split(', <td style=\"width:362px;height:267px\"><img alt=')[0]"
   ]
  },
  {
   "cell_type": "code",
   "execution_count": 44,
   "metadata": {},
   "outputs": [],
   "source": [
    "#reg2"
   ]
  },
  {
   "cell_type": "code",
   "execution_count": 110,
   "metadata": {},
   "outputs": [],
   "source": [
    "reg4 = reg2.replace(' style=\"overflow:hidden;padding:2px 3px;vertical-align:bottom;font-family:Arial;text-align:right\"', '')\n",
    "\n",
    "for i in range(86):\n",
    "    rep = '<td style=\"overflow:hidden;padding:2px 3px 2px 3px;vertical-align:bottom\">' + str(i) + '</td>'\n",
    "    reg4 = reg4.replace(rep, '')\n",
    "\n",
    "reg4 = reg4.replace(' style=\"overflow:hidden;padding:2px 3px 2px 3px;vertical-align:bottom;color:#c53929;text-align:right\"', '')\n",
    "reg4 = reg4.replace(' style=\"overflow:hidden;padding:2px 3px 2px 3px;vertical-align:bottom;color:#0b8043;text-align:right\"', '')\n",
    "reg4 = reg4.replace(' style=\"overflow:hidden;padding:2px 3px;vertical-align:bottom;font-family:Arial;color:rgb(197,57,41);text-align:right\"', '')\n",
    "reg4 = reg4.replace(' style=\"overflow:hidden;padding:2px 3px;vertical-align:bottom;font-family:Arial;color:rgb(197,57,41);text-align:right\"', '')\n",
    "reg4 = reg4.replace(' style=\"overflow:hidden;padding:2px 3px 2px 3px;vertical-align:bottom;text-align:right\"', '')\n",
    "reg4 = reg4.replace(' style=\"overflow:hidden;padding:2px 3px 2px 3px;vertical-align:bottom\"', '')\n",
    "reg4 = reg4.replace(' style=\"overflow:hidden;padding:2px 3px 2px 3px;vertical-align:bottom\"', '')\n",
    "reg4 = reg4.replace(' style=\"overflow:hidden;padding:2px 3px 2px 3px;vertical-align:bottom;text-align:right', '')\n",
    "reg4 = reg4.replace(' style=\"overflow:hidden;padding:2px 3px 2px 3px;vertical-align:bottom;text-align:right', '')\n",
    "\n",
    "reg4 = reg4.replace(' style=\"overflow:hidden;padding:2px 3px;vertical-align:bottom;font-family:Arial;color:rgb(11,128,67);text-align:right\"', '')\n",
    "\n",
    "reg4 = reg4.replace(' <td style=\"overflow:hidden;padding:2px 3px;vertical-align:bottom;text-align:center\">№</td>, ', '')\n",
    "reg4 = reg4.replace('<td style=\"overflow:hidden;padding:2px 3px;vertical-align:bottom;text-align:center\">Субъект России</td>, ', '')\n",
    "reg4 = reg4.replace('<td style=\"overflow:hidden;padding:2px 3px;vertical-align:bottom;text-align:center\">на 1 января 2019</td>, ', '')\n",
    "reg4 = reg4.replace('<td style=\"overflow:hidden;padding:2px 3px;vertical-align:bottom;text-align:center\">на 1 января 2018</td>, ', '')\n",
    "reg4 = reg4.replace('td style=\"overflow:hidden;padding:2px 3px;vertical-align:bottom;text-align:center\">общий прирост</td>, ', '')\n",
    "reg4 = reg4.replace('<td style=\"overflow:hidden;padding:2px 3px;vertical-align:bottom;text-align:center\">Общ.<br/>%</td>, ', '')\n",
    "reg4 = reg4.replace('<<td style=\"overflow:hidden;padding:2px 3px;vertical-align:bottom;text-align:center\">естестве<br/>нный</td>, ', '')\n",
    "reg4 = reg4.replace('<td style=\"overflow:hidden;padding:2px 3px;vertical-align:bottom;text-align:center\">миграци<br/>онный</td>, ', '')\n",
    "reg4 = reg4.replace('<td style=\"overflow:hidden;padding:2px 3px;vertical-align:bottom\">% от<br/>\\xa0РФ</td>, <td></td>, ', '')\n",
    "\n",
    "reg4 = reg4.replace(\"<b>\", '')\n",
    "reg4 = reg4.replace(\"</b>\", '')\n",
    "reg4 = reg4.replace(\", \", '')\n",
    "reg4 = reg4.replace(\"<i>\", '')\n",
    "reg4 = reg4.replace(\"</i>\", '')\n",
    "reg4 = reg4.replace(\"</td>\", '')"
   ]
  },
  {
   "cell_type": "code",
   "execution_count": 156,
   "metadata": {},
   "outputs": [],
   "source": [
    "#reg4"
   ]
  },
  {
   "cell_type": "code",
   "execution_count": 112,
   "metadata": {},
   "outputs": [],
   "source": [
    "regions = reg4.split('<td>')"
   ]
  },
  {
   "cell_type": "code",
   "execution_count": 113,
   "metadata": {},
   "outputs": [],
   "source": [
    "regions = [x for x in regions if x]"
   ]
  },
  {
   "cell_type": "code",
   "execution_count": 117,
   "metadata": {},
   "outputs": [],
   "source": [
    "#regions"
   ]
  },
  {
   "cell_type": "code",
   "execution_count": null,
   "metadata": {},
   "outputs": [],
   "source": [
    "region_name = []\n",
    "year2019 = []\n",
    "year2018 = []\n",
    "total_increase = []\n",
    "total_percent = []\n",
    "natural = []\n",
    "migrational = []\n",
    "percent_rf = []"
   ]
  },
  {
   "cell_type": "code",
   "execution_count": 119,
   "metadata": {},
   "outputs": [],
   "source": [
    "i = 0\n",
    "region_name = regions[i]\n",
    "year2019 = regions[i + 1]\n",
    "year2018 = regions[i + 2]\n",
    "total_increase = regions[i + 3]\n",
    "total_percent = regions[i + 4]\n",
    "natural = regions[i + 5]\n",
    "migrational = regions[i + 6]\n",
    "percent_rf = regions[i + 7]"
   ]
  },
  {
   "cell_type": "code",
   "execution_count": 120,
   "metadata": {},
   "outputs": [
    {
     "name": "stdout",
     "output_type": "stream",
     "text": [
      "Российская Федеpация\n",
      "146 780 720\n",
      "146 880 432\n",
      "- 99 712\n",
      "-0.07\n",
      "- 224 566\n",
      " 124 854\n",
      "100\n"
     ]
    }
   ],
   "source": [
    "print(region_name)\n",
    "print(year2019)\n",
    "print(year2018)\n",
    "print(total_increase)\n",
    "print(total_percent)\n",
    "print(natural)\n",
    "print(migrational)\n",
    "print(percent_rf)"
   ]
  },
  {
   "cell_type": "code",
   "execution_count": 148,
   "metadata": {},
   "outputs": [],
   "source": [
    "def conv(s):\n",
    "    s = s.replace(' ', '')\n",
    "    return float(s)"
   ]
  },
  {
   "cell_type": "code",
   "execution_count": 150,
   "metadata": {},
   "outputs": [],
   "source": [
    "temp = []\n",
    "for i in range(0, len(regions), 8):\n",
    "    region_name = regions[i]\n",
    "    year2019 = int((regions[i + 1]).replace(' ',''))\n",
    "    year2018 = int((regions[i + 2]).replace(' ',''))\n",
    "    total_increase = int((regions[i + 3]).replace(' ',''))\n",
    "    total_percent = conv(regions[i + 4])\n",
    "    natural =conv(regions[i + 5])\n",
    "    migrational = int((regions[i + 6]).replace(' ',''))\n",
    "    percent_rf = conv(regions[i + 7])\n",
    "    everything = (region_name, year2019, year2018, total_increase, total_percent, natural,\n",
    "                 migrational, percent_rf)\n",
    "    temp.append(everything)"
   ]
  },
  {
   "cell_type": "code",
   "execution_count": 151,
   "metadata": {},
   "outputs": [],
   "source": [
    "#temp"
   ]
  },
  {
   "cell_type": "code",
   "execution_count": 152,
   "metadata": {},
   "outputs": [],
   "source": [
    "df = pd.DataFrame(temp)"
   ]
  },
  {
   "cell_type": "code",
   "execution_count": 153,
   "metadata": {},
   "outputs": [],
   "source": [
    "real_columns = ['Subject_RF', '01.01.2019', '01.01.2019', 'TotalGrowth', 'Total %', 'NaturalGrowth', 'Migratory', 'RF %']\n",
    "df.columns = real_columns"
   ]
  },
  {
   "cell_type": "code",
   "execution_count": 157,
   "metadata": {},
   "outputs": [
    {
     "data": {
      "text/html": [
       "<div>\n",
       "<style scoped>\n",
       "    .dataframe tbody tr th:only-of-type {\n",
       "        vertical-align: middle;\n",
       "    }\n",
       "\n",
       "    .dataframe tbody tr th {\n",
       "        vertical-align: top;\n",
       "    }\n",
       "\n",
       "    .dataframe thead th {\n",
       "        text-align: right;\n",
       "    }\n",
       "</style>\n",
       "<table border=\"1\" class=\"dataframe\">\n",
       "  <thead>\n",
       "    <tr style=\"text-align: right;\">\n",
       "      <th></th>\n",
       "      <th>Subject_RF</th>\n",
       "      <th>01.01.2019</th>\n",
       "      <th>01.01.2019</th>\n",
       "      <th>TotalGrowth</th>\n",
       "      <th>Total %</th>\n",
       "      <th>NaturalGrowth</th>\n",
       "      <th>Migratory</th>\n",
       "      <th>RF %</th>\n",
       "    </tr>\n",
       "  </thead>\n",
       "  <tbody>\n",
       "    <tr>\n",
       "      <th>0</th>\n",
       "      <td>Российская Федеpация</td>\n",
       "      <td>146780720</td>\n",
       "      <td>146880432</td>\n",
       "      <td>-99712</td>\n",
       "      <td>-0.07</td>\n",
       "      <td>-224566.0</td>\n",
       "      <td>124854</td>\n",
       "      <td>100.00</td>\n",
       "    </tr>\n",
       "    <tr>\n",
       "      <th>1</th>\n",
       "      <td>Центральный ФО</td>\n",
       "      <td>39378059</td>\n",
       "      <td>39311413</td>\n",
       "      <td>66646</td>\n",
       "      <td>0.17</td>\n",
       "      <td>-117307.0</td>\n",
       "      <td>183953</td>\n",
       "      <td>26.83</td>\n",
       "    </tr>\n",
       "    <tr>\n",
       "      <th>2</th>\n",
       "      <td>Приволжский ФО</td>\n",
       "      <td>29397213</td>\n",
       "      <td>29542696</td>\n",
       "      <td>-145483</td>\n",
       "      <td>-0.49</td>\n",
       "      <td>-79496.0</td>\n",
       "      <td>-65987</td>\n",
       "      <td>20.03</td>\n",
       "    </tr>\n",
       "    <tr>\n",
       "      <th>3</th>\n",
       "      <td>Сибирский ФО</td>\n",
       "      <td>17173335</td>\n",
       "      <td>17230157</td>\n",
       "      <td>-56822</td>\n",
       "      <td>-0.33</td>\n",
       "      <td>-27856.0</td>\n",
       "      <td>-28966</td>\n",
       "      <td>11.70</td>\n",
       "    </tr>\n",
       "    <tr>\n",
       "      <th>4</th>\n",
       "      <td>Южный ФО</td>\n",
       "      <td>16454550</td>\n",
       "      <td>16441852</td>\n",
       "      <td>12698</td>\n",
       "      <td>0.08</td>\n",
       "      <td>-37047.0</td>\n",
       "      <td>49745</td>\n",
       "      <td>11.21</td>\n",
       "    </tr>\n",
       "  </tbody>\n",
       "</table>\n",
       "</div>"
      ],
      "text/plain": [
       "             Subject_RF  01.01.2019  01.01.2019  TotalGrowth  Total %  \\\n",
       "0  Российская Федеpация   146780720   146880432       -99712    -0.07   \n",
       "1        Центральный ФО    39378059    39311413        66646     0.17   \n",
       "2        Приволжский ФО    29397213    29542696      -145483    -0.49   \n",
       "3          Сибирский ФО    17173335    17230157       -56822    -0.33   \n",
       "4              Южный ФО    16454550    16441852        12698     0.08   \n",
       "\n",
       "   NaturalGrowth  Migratory    RF %  \n",
       "0      -224566.0     124854  100.00  \n",
       "1      -117307.0     183953   26.83  \n",
       "2       -79496.0     -65987   20.03  \n",
       "3       -27856.0     -28966   11.70  \n",
       "4       -37047.0      49745   11.21  "
      ]
     },
     "execution_count": 157,
     "metadata": {},
     "output_type": "execute_result"
    }
   ],
   "source": [
    "df.head()"
   ]
  },
  {
   "cell_type": "code",
   "execution_count": null,
   "metadata": {},
   "outputs": [],
   "source": []
  },
  {
   "cell_type": "code",
   "execution_count": null,
   "metadata": {},
   "outputs": [],
   "source": []
  },
  {
   "cell_type": "markdown",
   "metadata": {},
   "source": [
    "## STATDATA"
   ]
  },
  {
   "cell_type": "code",
   "execution_count": 7,
   "metadata": {},
   "outputs": [],
   "source": [
    "import numpy as np\n",
    "import pandas as pd\n",
    "import requests\n",
    "from bs4 import BeautifulSoup \n",
    "import re\n",
    "\n",
    "# библиотеки\n",
    "\n",
    "url = 'http://www.statdata.ru/largest_regions_russia'\n",
    "page = requests.get(url)\n",
    "soup = BeautifulSoup(page.text, 'html.parser')\n",
    "raw_data = soup.findAll('td', attrs=None)\n",
    "\n",
    "# получение \"сырой\" информации\n",
    "\n",
    "data_strip = str(raw_data).split('/div></div></td>,')[1].split(', <td style=\"width:362px;height:267px\"><img alt=')[0]\n",
    "\n",
    "data_strip = data_strip.replace(' style=\"overflow:hidden;padding:2px 3px;vertical-align:bottom;font-family:Arial;text-align:right\"', '')\n",
    "\n",
    "for i in range(86):\n",
    "    rep = '<td style=\"overflow:hidden;padding:2px 3px 2px 3px;vertical-align:bottom\">' + str(i) + '</td>'\n",
    "    data_strip = data_strip.replace(rep, '')\n",
    "\n",
    "data_strip = data_strip.replace(' style=\"overflow:hidden;padding:2px 3px 2px 3px;vertical-align:bottom;color:#c53929;text-align:right\"', '')\n",
    "data_strip = data_strip.replace(' style=\"overflow:hidden;padding:2px 3px 2px 3px;vertical-align:bottom;color:#0b8043;text-align:right\"', '')\n",
    "data_strip = data_strip.replace(' style=\"overflow:hidden;padding:2px 3px;vertical-align:bottom;font-family:Arial;color:rgb(197,57,41);text-align:right\"', '')\n",
    "data_strip = data_strip.replace(' style=\"overflow:hidden;padding:2px 3px;vertical-align:bottom;font-family:Arial;color:rgb(197,57,41);text-align:right\"', '')\n",
    "data_strip = data_strip.replace(' style=\"overflow:hidden;padding:2px 3px 2px 3px;vertical-align:bottom;text-align:right\"', '')\n",
    "data_strip = data_strip.replace(' style=\"overflow:hidden;padding:2px 3px 2px 3px;vertical-align:bottom\"', '')\n",
    "data_strip = data_strip.replace(' style=\"overflow:hidden;padding:2px 3px 2px 3px;vertical-align:bottom\"', '')\n",
    "data_strip = data_strip.replace(' style=\"overflow:hidden;padding:2px 3px 2px 3px;vertical-align:bottom;text-align:right', '')\n",
    "data_strip = data_strip.replace(' style=\"overflow:hidden;padding:2px 3px 2px 3px;vertical-align:bottom;text-align:right', '')\n",
    "\n",
    "data_strip = data_strip.replace(' style=\"overflow:hidden;padding:2px 3px;vertical-align:bottom;font-family:Arial;color:rgb(11,128,67);text-align:right\"', '')\n",
    "\n",
    "data_strip = data_strip.replace(' <td style=\"overflow:hidden;padding:2px 3px;vertical-align:bottom;text-align:center\">№</td>, ', '')\n",
    "data_strip = data_strip.replace('<td style=\"overflow:hidden;padding:2px 3px;vertical-align:bottom;text-align:center\">Субъект России</td>, ', '')\n",
    "data_strip = data_strip.replace('<td style=\"overflow:hidden;padding:2px 3px;vertical-align:bottom;text-align:center\">на 1 января 2019</td>, ', '')\n",
    "data_strip = data_strip.replace('<td style=\"overflow:hidden;padding:2px 3px;vertical-align:bottom;text-align:center\">на 1 января 2018</td>, ', '')\n",
    "data_strip = data_strip.replace('td style=\"overflow:hidden;padding:2px 3px;vertical-align:bottom;text-align:center\">общий прирост</td>, ', '')\n",
    "data_strip = data_strip.replace('<td style=\"overflow:hidden;padding:2px 3px;vertical-align:bottom;text-align:center\">Общ.<br/>%</td>, ', '')\n",
    "data_strip = data_strip.replace('<<td style=\"overflow:hidden;padding:2px 3px;vertical-align:bottom;text-align:center\">естестве<br/>нный</td>, ', '')\n",
    "data_strip = data_strip.replace('<td style=\"overflow:hidden;padding:2px 3px;vertical-align:bottom;text-align:center\">миграци<br/>онный</td>, ', '')\n",
    "data_strip = data_strip.replace('<td style=\"overflow:hidden;padding:2px 3px;vertical-align:bottom\">% от<br/>\\xa0РФ</td>, <td></td>, ', '')\n",
    "\n",
    "data_strip = data_strip.replace(\"<b>\", '')\n",
    "data_strip = data_strip.replace(\"</b>\", '')\n",
    "data_strip = data_strip.replace(\", \", '')\n",
    "data_strip = data_strip.replace(\"<i>\", '')\n",
    "data_strip = data_strip.replace(\"</i>\", '')\n",
    "data_strip = data_strip.replace(\"</td>\", '')\n",
    "\n",
    "# удаление мусора\n",
    "\n",
    "data = data_strip.split('<td>')\n",
    "data = [x for x in data if x]\n",
    "\n",
    "# создание списка\n",
    "\n",
    "def conv(s):\n",
    "    s = s.replace(' ', '')\n",
    "    return float(s)\n",
    "\n",
    "# функция для удаления пробелов и пробразования строки в float\n",
    "\n",
    "statdata = []\n",
    "for i in range(0, len(data), 8):\n",
    "    region_name = data[i]\n",
    "    year2019 = int((data[i + 1]).replace(' ',''))\n",
    "    year2018 = int((data[i + 2]).replace(' ',''))\n",
    "    total_increase = int((data[i + 3]).replace(' ',''))\n",
    "    total_percent = conv(data[i + 4])\n",
    "    natural =conv(data[i + 5])\n",
    "    migrational = int((data[i + 6]).replace(' ',''))\n",
    "    percent_rf = conv(data[i + 7])\n",
    "    everything = (region_name, year2019, year2018, total_increase, total_percent, natural,\n",
    "                 migrational, percent_rf)\n",
    "    statdata.append(everything)\n",
    "    \n",
    "# создание списка кортежей из списка\n",
    "\n",
    "df2 = pd.DataFrame(statdata)\n",
    "\n",
    "real_columns = ['Subject_RF', '01.01.2019', '01.01.2019', 'TotalGrowth', 'Total %', 'NaturalGrowth', 'Migratory', 'RF %']\n",
    "df2.columns = real_columns\n",
    "\n",
    "# создание DataFrame из списка кортежей, переименование столбцов"
   ]
  },
  {
   "cell_type": "code",
   "execution_count": 21,
   "metadata": {},
   "outputs": [
    {
     "data": {
      "text/html": [
       "<div>\n",
       "<style scoped>\n",
       "    .dataframe tbody tr th:only-of-type {\n",
       "        vertical-align: middle;\n",
       "    }\n",
       "\n",
       "    .dataframe tbody tr th {\n",
       "        vertical-align: top;\n",
       "    }\n",
       "\n",
       "    .dataframe thead th {\n",
       "        text-align: right;\n",
       "    }\n",
       "</style>\n",
       "<table border=\"1\" class=\"dataframe\">\n",
       "  <thead>\n",
       "    <tr style=\"text-align: right;\">\n",
       "      <th></th>\n",
       "      <th>Subject_RF</th>\n",
       "      <th>01.01.2019</th>\n",
       "      <th>01.01.2019</th>\n",
       "      <th>TotalGrowth</th>\n",
       "      <th>Total %</th>\n",
       "      <th>NaturalGrowth</th>\n",
       "      <th>Migratory</th>\n",
       "      <th>RF %</th>\n",
       "    </tr>\n",
       "  </thead>\n",
       "  <tbody>\n",
       "    <tr>\n",
       "      <th>0</th>\n",
       "      <td>Российская Федеpация</td>\n",
       "      <td>146780720</td>\n",
       "      <td>146880432</td>\n",
       "      <td>-99712</td>\n",
       "      <td>-0.07</td>\n",
       "      <td>-224566.0</td>\n",
       "      <td>124854</td>\n",
       "      <td>100.00</td>\n",
       "    </tr>\n",
       "    <tr>\n",
       "      <th>1</th>\n",
       "      <td>Центральный ФО</td>\n",
       "      <td>39378059</td>\n",
       "      <td>39311413</td>\n",
       "      <td>66646</td>\n",
       "      <td>0.17</td>\n",
       "      <td>-117307.0</td>\n",
       "      <td>183953</td>\n",
       "      <td>26.83</td>\n",
       "    </tr>\n",
       "    <tr>\n",
       "      <th>2</th>\n",
       "      <td>Приволжский ФО</td>\n",
       "      <td>29397213</td>\n",
       "      <td>29542696</td>\n",
       "      <td>-145483</td>\n",
       "      <td>-0.49</td>\n",
       "      <td>-79496.0</td>\n",
       "      <td>-65987</td>\n",
       "      <td>20.03</td>\n",
       "    </tr>\n",
       "    <tr>\n",
       "      <th>3</th>\n",
       "      <td>Сибирский ФО</td>\n",
       "      <td>17173335</td>\n",
       "      <td>17230157</td>\n",
       "      <td>-56822</td>\n",
       "      <td>-0.33</td>\n",
       "      <td>-27856.0</td>\n",
       "      <td>-28966</td>\n",
       "      <td>11.70</td>\n",
       "    </tr>\n",
       "    <tr>\n",
       "      <th>4</th>\n",
       "      <td>Южный ФО</td>\n",
       "      <td>16454550</td>\n",
       "      <td>16441852</td>\n",
       "      <td>12698</td>\n",
       "      <td>0.08</td>\n",
       "      <td>-37047.0</td>\n",
       "      <td>49745</td>\n",
       "      <td>11.21</td>\n",
       "    </tr>\n",
       "  </tbody>\n",
       "</table>\n",
       "</div>"
      ],
      "text/plain": [
       "             Subject_RF  01.01.2019  01.01.2019  TotalGrowth  Total %  \\\n",
       "0  Российская Федеpация   146780720   146880432       -99712    -0.07   \n",
       "1        Центральный ФО    39378059    39311413        66646     0.17   \n",
       "2        Приволжский ФО    29397213    29542696      -145483    -0.49   \n",
       "3          Сибирский ФО    17173335    17230157       -56822    -0.33   \n",
       "4              Южный ФО    16454550    16441852        12698     0.08   \n",
       "\n",
       "   NaturalGrowth  Migratory    RF %  \n",
       "0      -224566.0     124854  100.00  \n",
       "1      -117307.0     183953   26.83  \n",
       "2       -79496.0     -65987   20.03  \n",
       "3       -27856.0     -28966   11.70  \n",
       "4       -37047.0      49745   11.21  "
      ]
     },
     "execution_count": 21,
     "metadata": {},
     "output_type": "execute_result"
    }
   ],
   "source": [
    "df2.head()"
   ]
  },
  {
   "cell_type": "code",
   "execution_count": 22,
   "metadata": {},
   "outputs": [],
   "source": [
    "file_name = 'statdata.xlsx'\n",
    "writer = pd.ExcelWriter(file_name, engine='xlsxwriter')\n",
    "df2.to_excel(writer, sheet_name='statdata_2018-2019', index=False)\n",
    "writer.save()"
   ]
  },
  {
   "cell_type": "code",
   "execution_count": null,
   "metadata": {},
   "outputs": [],
   "source": []
  },
  {
   "cell_type": "code",
   "execution_count": null,
   "metadata": {},
   "outputs": [],
   "source": []
  },
  {
   "cell_type": "code",
   "execution_count": null,
   "metadata": {},
   "outputs": [],
   "source": []
  },
  {
   "cell_type": "code",
   "execution_count": null,
   "metadata": {},
   "outputs": [],
   "source": []
  }
 ],
 "metadata": {
  "kernelspec": {
   "display_name": "Python 3",
   "language": "python",
   "name": "python3"
  },
  "language_info": {
   "codemirror_mode": {
    "name": "ipython",
    "version": 3
   },
   "file_extension": ".py",
   "mimetype": "text/x-python",
   "name": "python",
   "nbconvert_exporter": "python",
   "pygments_lexer": "ipython3",
   "version": "3.7.3"
  }
 },
 "nbformat": 4,
 "nbformat_minor": 2
}

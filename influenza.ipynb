{
 "cells": [
  {
   "cell_type": "code",
   "execution_count": 1,
   "metadata": {},
   "outputs": [],
   "source": [
    "import numpy as np\n",
    "import pandas as pd\n",
    "import requests\n",
    "from bs4 import BeautifulSoup \n",
    "import re"
   ]
  },
  {
   "cell_type": "code",
   "execution_count": 3,
   "metadata": {},
   "outputs": [],
   "source": [
    "year = '2018'\n",
    "week = '01'"
   ]
  },
  {
   "cell_type": "code",
   "execution_count": 5,
   "metadata": {},
   "outputs": [],
   "source": [
    "url = 'https://www.influenza.spb.ru/system/epidemic_situation/situation_on_a_flu/?year=' + year + '&week=' + week"
   ]
  },
  {
   "cell_type": "code",
   "execution_count": 6,
   "metadata": {},
   "outputs": [],
   "source": [
    "page = requests.get(url)"
   ]
  },
  {
   "cell_type": "code",
   "execution_count": 7,
   "metadata": {},
   "outputs": [],
   "source": [
    "soup = BeautifulSoup(page.text, 'html.parser')"
   ]
  },
  {
   "cell_type": "code",
   "execution_count": 29,
   "metadata": {},
   "outputs": [],
   "source": [
    "#soup"
   ]
  },
  {
   "cell_type": "code",
   "execution_count": null,
   "metadata": {},
   "outputs": [],
   "source": []
  },
  {
   "cell_type": "code",
   "execution_count": 36,
   "metadata": {},
   "outputs": [],
   "source": [
    "reg = soup.findAll('script', attrs=None)"
   ]
  },
  {
   "cell_type": "code",
   "execution_count": 84,
   "metadata": {},
   "outputs": [],
   "source": [
    "#reg"
   ]
  },
  {
   "cell_type": "code",
   "execution_count": 39,
   "metadata": {},
   "outputs": [],
   "source": [
    "reg2 = str(reg).split('mdata[1] = new Array();')[1].split('res=mdata[mnum][sel];')[0]"
   ]
  },
  {
   "cell_type": "code",
   "execution_count": 123,
   "metadata": {},
   "outputs": [],
   "source": [
    "#reg2"
   ]
  },
  {
   "cell_type": "code",
   "execution_count": 45,
   "metadata": {},
   "outputs": [],
   "source": [
    "reg3 = reg2.replace('\\r\\n', '')\n",
    "reg3 = reg3.strip()"
   ]
  },
  {
   "cell_type": "code",
   "execution_count": 122,
   "metadata": {},
   "outputs": [],
   "source": [
    "#reg3"
   ]
  },
  {
   "cell_type": "code",
   "execution_count": 47,
   "metadata": {},
   "outputs": [],
   "source": [
    "regions = reg3.split(';')"
   ]
  },
  {
   "cell_type": "code",
   "execution_count": 85,
   "metadata": {},
   "outputs": [],
   "source": [
    "regions = [x for x in regions if x]"
   ]
  },
  {
   "cell_type": "code",
   "execution_count": 121,
   "metadata": {},
   "outputs": [],
   "source": [
    "#regions"
   ]
  },
  {
   "cell_type": "code",
   "execution_count": null,
   "metadata": {},
   "outputs": [],
   "source": []
  },
  {
   "cell_type": "code",
   "execution_count": 87,
   "metadata": {},
   "outputs": [],
   "source": [
    "split_regions = []"
   ]
  },
  {
   "cell_type": "code",
   "execution_count": 88,
   "metadata": {},
   "outputs": [],
   "source": [
    "for elem in regions:\n",
    "    try:\n",
    "        clean_region_number = elem.split('[')[2].split(']')[0]\n",
    "    except:\n",
    "        ;\n",
    "    \n",
    "    #print(clean_region_number)\n",
    "    \n",
    "    try:\n",
    "        clean_region_name = elem.split('\"')[1].split(':')[0]\n",
    "    except:\n",
    "        ;\n",
    "    \n",
    "    try:\n",
    "        clean_region_percent = elem.split(': ')[1].split('\"')[0]\n",
    "    except:\n",
    "        ;\n",
    "    \n",
    "    everything = (clean_region_number, clean_region_name, clean_region_percent)\n",
    "    split_regions.append(everything)"
   ]
  },
  {
   "cell_type": "code",
   "execution_count": 89,
   "metadata": {},
   "outputs": [
    {
     "data": {
      "text/plain": [
       "[('7', 'Биробиджан', '-64,5'),\n",
       " ('9', 'Архангельск', '-25,8'),\n",
       " ('10', 'Астрахань', '-53,4'),\n",
       " ('11', 'Барнаул', '-10,0'),\n",
       " ('12', 'Оренбург', '-36,6'),\n",
       " ('13', 'Владивосток', '-58,4'),\n",
       " ('14', 'Волгоград', '-40,8'),\n",
       " ('15', 'Воронеж', '-4,4'),\n",
       " ('16', 'Нижний Новгород', '-56,3'),\n",
       " ('19', 'Иркутск', '-96,8'),\n",
       " ('20', 'Калининград', '-56,3'),\n",
       " ('21', 'Мурманск', '-39,2'),\n",
       " ('22', 'Новосибирск', '-36,6'),\n",
       " ('24', 'Саратов', '-32,1'),\n",
       " ('26', 'Хабаровск', '-83,5'),\n",
       " ('32', 'Москва', '-64,1'),\n",
       " ('34', 'Томск', '-48,6'),\n",
       " ('36', 'Владимир', '-16,9'),\n",
       " ('38', 'Санкт-Петербург', '-66,9'),\n",
       " ('40', 'Ярославль', '-80,8'),\n",
       " ('41', 'Казань', '-44,8'),\n",
       " ('43', 'Кемерово', '-92,3'),\n",
       " ('44', 'Киров', '-39,2'),\n",
       " ('45', 'Чебоксары', '-52,4'),\n",
       " ('46', 'Магадан', '-52,5'),\n",
       " ('47', 'Норильск', '-86,3'),\n",
       " ('48', 'Владикавказ', '-7,6'),\n",
       " ('49', 'Пермь', '-30,0'),\n",
       " ('50', 'Петропавловск', '-79,2'),\n",
       " ('51', 'Ростов-на-Дону', '-50,0'),\n",
       " ('53', 'Смоленск', '-28,1'),\n",
       " ('54', 'Ставрополь', '-64,5'),\n",
       " ('55', 'Улан-Удэ', '-70,0'),\n",
       " ('56', 'Уфа', '-44,5'),\n",
       " ('57', 'Челябинск', '-68,4'),\n",
       " ('58', 'Якутск', '-1,2'),\n",
       " ('59', 'Чита', '-82,8'),\n",
       " ('61', 'Краснодар', '-76,3'),\n",
       " ('62', 'Красноярск', '-39,4'),\n",
       " ('63', 'Самара', '-26,0'),\n",
       " ('64', 'Омск', '-38,8'),\n",
       " ('68', 'Екатеринбург', '-61,9'),\n",
       " ('69', 'Псков', '-55,5'),\n",
       " ('70', 'Петрозаводск', '-61,5'),\n",
       " ('71', 'Липецк', '-56,0'),\n",
       " ('72', 'Ижевск', '-90,1'),\n",
       " ('73', 'Тула', '-61,0'),\n",
       " ('74', 'Ульяновск', '-58,2'),\n",
       " ('75', 'Брянск', '-4,3'),\n",
       " ('76', 'Вологда', '-30,6'),\n",
       " ('77', 'Сыктывкар', '-61,6'),\n",
       " ('78', 'Орел', '-30,7'),\n",
       " ('79', 'Рязань', '-48,7'),\n",
       " ('80', 'Тверь', '-53,3'),\n",
       " ('81', 'Белгород', '-46,8'),\n",
       " ('82', 'Курск', '-38,9'),\n",
       " ('84', 'Пенза', '39,2'),\n",
       " ('85', 'Великий Новгород', '-66,5'),\n",
       " ('91', 'Симферополь', '-43,3'),\n",
       " ('92', 'Севастополь', '-63,4'),\n",
       " ('98', 'Республика Крым', '-58,3')]"
      ]
     },
     "execution_count": 89,
     "metadata": {},
     "output_type": "execute_result"
    }
   ],
   "source": [
    "split_regions"
   ]
  },
  {
   "cell_type": "code",
   "execution_count": null,
   "metadata": {},
   "outputs": [],
   "source": []
  },
  {
   "cell_type": "code",
   "execution_count": 90,
   "metadata": {},
   "outputs": [],
   "source": [
    "#df = pd.DataFrame(split_regions)"
   ]
  },
  {
   "cell_type": "code",
   "execution_count": 101,
   "metadata": {},
   "outputs": [],
   "source": [
    "#real_columns = ['region_id', 'CityName', 'percent']\n",
    "#df.columns = real_columns"
   ]
  },
  {
   "cell_type": "code",
   "execution_count": 113,
   "metadata": {},
   "outputs": [],
   "source": [
    "#df.head()"
   ]
  },
  {
   "cell_type": "code",
   "execution_count": 119,
   "metadata": {},
   "outputs": [],
   "source": [
    "full_regions = []"
   ]
  },
  {
   "cell_type": "code",
   "execution_count": 117,
   "metadata": {},
   "outputs": [],
   "source": [
    "full_regions += split_regions"
   ]
  },
  {
   "cell_type": "code",
   "execution_count": 120,
   "metadata": {},
   "outputs": [
    {
     "data": {
      "text/plain": [
       "[]"
      ]
     },
     "execution_count": 120,
     "metadata": {},
     "output_type": "execute_result"
    }
   ],
   "source": [
    "full_regions"
   ]
  },
  {
   "cell_type": "code",
   "execution_count": null,
   "metadata": {},
   "outputs": [],
   "source": []
  },
  {
   "cell_type": "code",
   "execution_count": null,
   "metadata": {},
   "outputs": [],
   "source": []
  },
  {
   "cell_type": "markdown",
   "metadata": {},
   "source": [
    "## INFLUENZA"
   ]
  },
  {
   "cell_type": "code",
   "execution_count": 1,
   "metadata": {},
   "outputs": [],
   "source": [
    "import numpy as np\n",
    "import pandas as pd\n",
    "import requests\n",
    "from bs4 import BeautifulSoup \n",
    "import re\n",
    "import copy"
   ]
  },
  {
   "cell_type": "code",
   "execution_count": 2,
   "metadata": {},
   "outputs": [],
   "source": [
    "years = ['2017','2018', '2019']\n",
    "weeks = ['01', '02', '03', '04', '05', '06', '07', '08', '09', '10', '11', '12',\n",
    "        '13', '14', '15', '16', '17', '18', '19', '20', '21', '22', '23', '24',\n",
    "        '25', '26', '27', '28', '29', '30', '31', '32', '33', '34', '35', '36',\n",
    "        '37', '38', '39', '40', '41', '42', '43', '44', '45', '46', '47', '48',\n",
    "        '49', '50', '51', '52', '53']"
   ]
  },
  {
   "cell_type": "code",
   "execution_count": null,
   "metadata": {},
   "outputs": [],
   "source": []
  },
  {
   "cell_type": "code",
   "execution_count": 3,
   "metadata": {},
   "outputs": [],
   "source": [
    "year2017 = []\n",
    "year2018 = []\n",
    "year2019 = []\n",
    "k = 2017\n",
    "\n",
    "for y in years:\n",
    "    full_regions = []\n",
    "    for elem1 in weeks:\n",
    "        try:\n",
    "            url1 = 'https://www.influenza.spb.ru/system/epidemic_situation/situation_on_a_flu/?year=' + y + '&week=' + elem1\n",
    "        \n",
    "            page1 = requests.get(url1)\n",
    "        \n",
    "            soup1 = BeautifulSoup(page1.text, 'html.parser')\n",
    "        \n",
    "            temp_reg = soup1.findAll('script', attrs=None)\n",
    "        \n",
    "            clean_reg = str(temp_reg).split('mdata[1] = new Array();')[1].split('res=mdata[mnum][sel];')[0]\n",
    "            clean_reg = clean_reg.replace('\\r\\n', '')\n",
    "            clean_reg = clean_reg.strip()\n",
    "        \n",
    "            split_clean_reg = clean_reg.split(';')\n",
    "            split_clean_reg = [x for x in split_clean_reg if x]\n",
    "        \n",
    "            final_table = []\n",
    "        \n",
    "            for elem in split_clean_reg:\n",
    "                try:\n",
    "                    clean_region_number = elem.split('[')[2].split(']')[0]\n",
    "                except:\n",
    "                    ;\n",
    "    \n",
    "                #print(clean_region_number)\n",
    "    \n",
    "                try:\n",
    "                    clean_region_name = elem.split('\"')[1].split(':')[0]\n",
    "                except:\n",
    "                    ;\n",
    "    \n",
    "                try:\n",
    "                    clean_region_percent = elem.split(': ')[1].split('\"')[0]\n",
    "                except:\n",
    "                    ;\n",
    "    \n",
    "                clean_data = (elem1, clean_region_number, clean_region_name, clean_region_percent)\n",
    "                final_table.append(clean_data)\n",
    "            full_regions += final_table\n",
    "        \n",
    "        \n",
    "        except:\n",
    "            ;\n",
    "    if k == 2017:\n",
    "        year2017 = copy.deepcopy(full_regions)\n",
    "        k += 1\n",
    "    elif k == 2018:\n",
    "        year2018 = copy.deepcopy(full_regions)\n",
    "        k += 1\n",
    "    elif k == 2019:\n",
    "        year2019 = copy.deepcopy(full_regions)\n",
    "        k += 1"
   ]
  },
  {
   "cell_type": "code",
   "execution_count": null,
   "metadata": {},
   "outputs": [],
   "source": []
  },
  {
   "cell_type": "code",
   "execution_count": 4,
   "metadata": {},
   "outputs": [],
   "source": [
    "df2017 = pd.DataFrame(year2017)\n",
    "real_columns = ['week', 'region_id', 'CityName', 'percent']\n",
    "df2017.columns = real_columns\n",
    "df2017['year'] = 2017"
   ]
  },
  {
   "cell_type": "code",
   "execution_count": 5,
   "metadata": {},
   "outputs": [],
   "source": [
    "df2018 = pd.DataFrame(year2018)\n",
    "real_columns = ['week', 'region_id', 'CityName', 'percent']\n",
    "df2018.columns = real_columns\n",
    "df2018['year'] = 2018"
   ]
  },
  {
   "cell_type": "code",
   "execution_count": 6,
   "metadata": {},
   "outputs": [],
   "source": [
    "df2019 = pd.DataFrame(year2019)\n",
    "real_columns = ['week', 'region_id', 'CityName', 'percent']\n",
    "df2019.columns = real_columns\n",
    "df2019['year'] = 2019"
   ]
  },
  {
   "cell_type": "code",
   "execution_count": 15,
   "metadata": {},
   "outputs": [],
   "source": [
    "#df3"
   ]
  },
  {
   "cell_type": "code",
   "execution_count": null,
   "metadata": {},
   "outputs": [],
   "source": []
  },
  {
   "cell_type": "code",
   "execution_count": null,
   "metadata": {},
   "outputs": [],
   "source": []
  },
  {
   "cell_type": "code",
   "execution_count": 7,
   "metadata": {},
   "outputs": [],
   "source": [
    "file_name = 'influenza.xlsx'\n",
    "writer = pd.ExcelWriter(file_name, engine='xlsxwriter')\n",
    "df2017.to_excel(writer, sheet_name='2017', index=False)\n",
    "df2018.to_excel(writer, sheet_name='2018', index=False)\n",
    "df2019.to_excel(writer, sheet_name='2019', index=False)\n",
    "writer.save()"
   ]
  },
  {
   "cell_type": "code",
   "execution_count": null,
   "metadata": {},
   "outputs": [],
   "source": []
  }
 ],
 "metadata": {
  "kernelspec": {
   "display_name": "Python 3",
   "language": "python",
   "name": "python3"
  },
  "language_info": {
   "codemirror_mode": {
    "name": "ipython",
    "version": 3
   },
   "file_extension": ".py",
   "mimetype": "text/x-python",
   "name": "python",
   "nbconvert_exporter": "python",
   "pygments_lexer": "ipython3",
   "version": "3.7.3"
  }
 },
 "nbformat": 4,
 "nbformat_minor": 2
}
